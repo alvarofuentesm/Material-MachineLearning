{
  "nbformat": 4,
  "nbformat_minor": 0,
  "metadata": {
    "colab": {
      "name": "Ayudantía3.ipynb",
      "provenance": [],
      "collapsed_sections": [],
      "toc_visible": true
    },
    "kernelspec": {
      "display_name": "Python 3",
      "language": "python",
      "name": "python3"
    },
    "language_info": {
      "codemirror_mode": {
        "name": "ipython",
        "version": 3
      },
      "file_extension": ".py",
      "mimetype": "text/x-python",
      "name": "python",
      "nbconvert_exporter": "python",
      "pygments_lexer": "ipython3",
      "version": "3.6.7"
    }
  },
  "cells": [
    {
      "cell_type": "markdown",
      "metadata": {
        "id": "hzpzTCwIN70n"
      },
      "source": [
        "<center><img src=\"http://www.exalumnos.usm.cl/wp-content/uploads/2015/06/Isotipo-Negro.gif\" title=\"Title text\" width=\"30%\" /></center>\n",
        "\n",
        "<hr style=\"height:2px;border:none\"/>\n",
        "<h1 align='center'> INF-398 Introducción al Aprendizaje Automático  2021-2 </h1>\n",
        "\n",
        "<H3 align='center'> Ayudantía 3: Clasificadores Ingenuos 2021 </H3>\n",
        "\n",
        "----\n",
        "\n",
        "<H3 align='center'> <b>Profesor: Ricardo Ñanculef </b> </H3>\n",
        "<H3 align='center'> <b>Ayudantes: Álvaro Fuentes, Mario Mallea </b> </H3>\n",
        "\n",
        "\n",
        "\n",
        "<hr style=\"height:2px;border:none\"/>\n"
      ]
    },
    {
      "cell_type": "markdown",
      "metadata": {
        "id": "kYIug_FCNgRW"
      },
      "source": [
        "Temas: Clasificadores ingenuos en texto"
      ]
    },
    {
      "cell_type": "markdown",
      "metadata": {
        "id": "-tZKSQTv21rW"
      },
      "source": [
        "### Conexión a Google Drive"
      ]
    },
    {
      "cell_type": "code",
      "metadata": {
        "colab": {
          "base_uri": "https://localhost:8080/"
        },
        "id": "d3ek0tieTm5h",
        "outputId": "ae7e233a-96ed-4a1a-b81a-29b1308a017e"
      },
      "source": [
        "# hacer la conexión a Google Drive\n",
        "\n",
        "colab_flag = True\n",
        "if (colab_flag):\n",
        "    from google.colab import drive\n",
        "    drive.mount('/content/drive')\n",
        "\n",
        "path = '/content/drive/MyDrive/Machine_Learning/IMDB/'\n"
      ],
      "execution_count": 1,
      "outputs": [
        {
          "output_type": "stream",
          "name": "stdout",
          "text": [
            "Drive already mounted at /content/drive; to attempt to forcibly remount, call drive.mount(\"/content/drive\", force_remount=True).\n"
          ]
        }
      ]
    },
    {
      "cell_type": "code",
      "metadata": {
        "colab": {
          "base_uri": "https://localhost:8080/"
        },
        "id": "IDv0qhLkmSym",
        "outputId": "727c9064-2c54-4668-b562-88ff2e92fbf8"
      },
      "source": [
        "if (colab_flag):\n",
        "    !echo $path\n",
        "    !unzip $path/movies.zip"
      ],
      "execution_count": 2,
      "outputs": [
        {
          "output_type": "stream",
          "name": "stdout",
          "text": [
            "/content/drive/MyDrive/Machine_Learning/IMDB/\n",
            "Archive:  /content/drive/MyDrive/Machine_Learning/IMDB//movies.zip\n",
            "replace imdb_master.csv? [y]es, [n]o, [A]ll, [N]one, [r]ename: "
          ]
        }
      ]
    },
    {
      "cell_type": "code",
      "metadata": {
        "id": "OORtEzkTRCDB"
      },
      "source": [
        "import numpy as np\n",
        "import matplotlib.pyplot as plt\n",
        "import seaborn as sns\n",
        "import pandas as pd"
      ],
      "execution_count": 3,
      "outputs": []
    },
    {
      "cell_type": "markdown",
      "metadata": {
        "id": "7s-hfPdUSWgM"
      },
      "source": [
        "\n",
        "En este notebook, construiremos clasificadores Bayesianos ingenuos para clasificar opiniones sobre películas obtenidas desde el conocido sitio IMDB (Internet Movie Database).\n",
        "\n",
        "![texto alternativo](https://github.com/JRICARDON/jricardon.github.io/blob/master/spambase/imdb.png?raw=true)\n"
      ]
    },
    {
      "cell_type": "code",
      "metadata": {
        "colab": {
          "base_uri": "https://localhost:8080/"
        },
        "id": "VdjtZyhQ2uiE",
        "outputId": "8a1df2ed-1c08-4a24-f46b-7dcb30668e78"
      },
      "source": [
        "# cargar .csv \n",
        "if (colab_flag):\n",
        "    data = pd.read_csv(\"imdb_master.csv\", encoding='latin-1', index_col = 0)\n",
        "    print(data.head())"
      ],
      "execution_count": 4,
      "outputs": [
        {
          "output_type": "stream",
          "name": "stdout",
          "text": [
            "   type                                             review label         file\n",
            "0  test  Once again Mr. Costner has dragged out a movie...   neg      0_2.txt\n",
            "1  test  This is an example of why the majority of acti...   neg  10000_4.txt\n",
            "2  test  First of all I hate those moronic rappers, who...   neg  10001_1.txt\n",
            "3  test  Not even the Beatles could write songs everyon...   neg  10002_3.txt\n",
            "4  test  Brass pictures (movies is not a fitting word f...   neg  10003_3.txt\n"
          ]
        }
      ]
    },
    {
      "cell_type": "code",
      "metadata": {
        "colab": {
          "base_uri": "https://localhost:8080/"
        },
        "id": "dWS6TuctTYye",
        "outputId": "38dc8024-dee1-4614-d32c-6ac440f861d5"
      },
      "source": [
        "# revisar cuantos datos faltan por columna\n",
        "print(\"Número de datos NaN por feature: \\n\")\n",
        "print(data.isnull().sum(axis = 0))"
      ],
      "execution_count": 5,
      "outputs": [
        {
          "output_type": "stream",
          "name": "stdout",
          "text": [
            "Número de datos NaN por feature: \n",
            "\n",
            "type      0\n",
            "review    0\n",
            "label     0\n",
            "file      0\n",
            "dtype: int64\n"
          ]
        }
      ]
    },
    {
      "cell_type": "code",
      "metadata": {
        "colab": {
          "base_uri": "https://localhost:8080/"
        },
        "id": "FKxyJViRTv12",
        "outputId": "4cfc31a2-b997-4044-98e3-5ca57d4fc659"
      },
      "source": [
        "print(data.shape)\n",
        "data_ = data.sample(n=10000, replace=False, random_state = 1) # seleccionar 10 mil textos aleatorios de la coleccion, para que no demore mucho.\n",
        "print(data_.shape)"
      ],
      "execution_count": 6,
      "outputs": [
        {
          "output_type": "stream",
          "name": "stdout",
          "text": [
            "(100000, 4)\n",
            "(10000, 4)\n"
          ]
        }
      ]
    },
    {
      "cell_type": "code",
      "metadata": {
        "colab": {
          "base_uri": "https://localhost:8080/",
          "height": 350
        },
        "id": "UltACQdmT8fg",
        "outputId": "93d99155-f028-43d0-b3a7-8d66ea0c352e"
      },
      "source": [
        "fig, ax = plt.subplots(figsize=(10,5),nrows=1)\n",
        "sns.countplot(x=\"label\", data=data_, palette=\"Blues_d\", ax = ax)\n",
        "ax.set_title('Distribución del campo label')\n",
        "plt.show()\n",
        "\n",
        "# unsup: unsupervised\n"
      ],
      "execution_count": 7,
      "outputs": [
        {
          "output_type": "display_data",
          "data": {
            "image/png": "[encoded data removed]",
            "text/plain": [
              "<Figure size 720x360 with 1 Axes>"
            ]
          },
          "metadata": {
            "needs_background": "light"
          }
        }
      ]
    },
    {
      "cell_type": "code",
      "metadata": {
        "colab": {
          "base_uri": "https://localhost:8080/",
          "height": 221
        },
        "id": "lu8wKsavVtWS",
        "outputId": "07e8662f-d6b4-4684-c2e0-184bccf6d0be"
      },
      "source": [
        "data_labelled = data_[data_.label != 'unsup'].reset_index(drop=True)\n",
        "print(data_labelled.shape)\n",
        "data_labelled.head()"
      ],
      "execution_count": 8,
      "outputs": [
        {
          "output_type": "stream",
          "name": "stdout",
          "text": [
            "(5053, 4)\n"
          ]
        },
        {
          "output_type": "execute_result",
          "data": {
            "text/html": [
              "<div>\n",
              "<style scoped>\n",
              "    .dataframe tbody tr th:only-of-type {\n",
              "        vertical-align: middle;\n",
              "    }\n",
              "\n",
              "    .dataframe tbody tr th {\n",
              "        vertical-align: top;\n",
              "    }\n",
              "\n",
              "    .dataframe thead th {\n",
              "        text-align: right;\n",
              "    }\n",
              "</style>\n",
              "<table border=\"1\" class=\"dataframe\">\n",
              "  <thead>\n",
              "    <tr style=\"text-align: right;\">\n",
              "      <th></th>\n",
              "      <th>type</th>\n",
              "      <th>review</th>\n",
              "      <th>label</th>\n",
              "      <th>file</th>\n",
              "    </tr>\n",
              "  </thead>\n",
              "  <tbody>\n",
              "    <tr>\n",
              "      <th>0</th>\n",
              "      <td>train</td>\n",
              "      <td>Alain Chabat claims this movie as his original...</td>\n",
              "      <td>pos</td>\n",
              "      <td>4295_9.txt</td>\n",
              "    </tr>\n",
              "    <tr>\n",
              "      <th>1</th>\n",
              "      <td>test</td>\n",
              "      <td>Okay. To enjoy this silent comedy short you MU...</td>\n",
              "      <td>pos</td>\n",
              "      <td>11636_9.txt</td>\n",
              "    </tr>\n",
              "    <tr>\n",
              "      <th>2</th>\n",
              "      <td>test</td>\n",
              "      <td>Now we know where they got the idea of Snakes ...</td>\n",
              "      <td>neg</td>\n",
              "      <td>3615_1.txt</td>\n",
              "    </tr>\n",
              "    <tr>\n",
              "      <th>3</th>\n",
              "      <td>train</td>\n",
              "      <td>Okay, 'enjoy' is a pretty relative term, but f...</td>\n",
              "      <td>neg</td>\n",
              "      <td>611_4.txt</td>\n",
              "    </tr>\n",
              "    <tr>\n",
              "      <th>4</th>\n",
              "      <td>test</td>\n",
              "      <td>Truly a great leap forward in the perfection o...</td>\n",
              "      <td>neg</td>\n",
              "      <td>7307_1.txt</td>\n",
              "    </tr>\n",
              "  </tbody>\n",
              "</table>\n",
              "</div>"
            ],
            "text/plain": [
              "    type                                             review label         file\n",
              "0  train  Alain Chabat claims this movie as his original...   pos   4295_9.txt\n",
              "1   test  Okay. To enjoy this silent comedy short you MU...   pos  11636_9.txt\n",
              "2   test  Now we know where they got the idea of Snakes ...   neg   3615_1.txt\n",
              "3  train  Okay, 'enjoy' is a pretty relative term, but f...   neg    611_4.txt\n",
              "4   test  Truly a great leap forward in the perfection o...   neg   7307_1.txt"
            ]
          },
          "metadata": {},
          "execution_count": 8
        }
      ]
    },
    {
      "cell_type": "code",
      "metadata": {
        "colab": {
          "base_uri": "https://localhost:8080/",
          "height": 350
        },
        "id": "_1FPlVjtWHTF",
        "outputId": "ba032dde-0b70-41d9-f9fa-51e691c4ec07"
      },
      "source": [
        "fig, ax = plt.subplots(figsize=(10,5),nrows=1)\n",
        "sns.countplot(x=\"label\", data=data_labelled, palette=\"Blues_d\", ax = ax)\n",
        "ax.set_title('Distribución del campo type entre textos etiquetados')\n",
        "plt.show()"
      ],
      "execution_count": 9,
      "outputs": [
        {
          "output_type": "display_data",
          "data": {
            "image/png": "[encoded data removed]",
            "text/plain": [
              "<Figure size 720x360 with 1 Axes>"
            ]
          },
          "metadata": {
            "needs_background": "light"
          }
        }
      ]
    },
    {
      "cell_type": "code",
      "metadata": {
        "colab": {
          "base_uri": "https://localhost:8080/"
        },
        "id": "IXDL0CaAW5Ct",
        "outputId": "13cd3eef-d97f-4927-af47-e89f6a805e07"
      },
      "source": [
        "data_train = data_labelled[data_labelled[\"type\"] == 'train'][[\"review\", \"label\"]]\n",
        "data_test = data_labelled[data_labelled[\"type\"] == \"test\"][[\"review\", \"label\"]]\n",
        "print(data_train.shape,data_test.shape)\n",
        "\n",
        "print(data_train.head())"
      ],
      "execution_count": 10,
      "outputs": [
        {
          "output_type": "stream",
          "name": "stdout",
          "text": [
            "(2504, 2) (2549, 2)\n",
            "                                              review label\n",
            "0  Alain Chabat claims this movie as his original...   pos\n",
            "3  Okay, 'enjoy' is a pretty relative term, but f...   neg\n",
            "5  Why oh why don't blockbuster movies simply sti...   neg\n",
            "6  Okay this movie fine like I said but you surel...   pos\n",
            "7  Corridors of time. The movie you can watch if ...   neg\n"
          ]
        }
      ]
    },
    {
      "cell_type": "code",
      "metadata": {
        "colab": {
          "base_uri": "https://localhost:8080/",
          "height": 424
        },
        "id": "u4MXalWTW5F6",
        "outputId": "84605102-40a1-453c-fa58-7fb6af6e48d6"
      },
      "source": [
        "lenghts_pos = []\n",
        "lenghts_neg = []\n",
        "\n",
        "for sentence, label in zip(data_train['review'],data_train['label']):\n",
        "  if label == 'neg':\n",
        "    lenghts_neg.append(len(sentence.lower().split()))\n",
        "  if label == 'pos':\n",
        "    lenghts_pos.append(len(sentence.lower().split()))\n",
        "\n",
        "print(\"\\n\")\n",
        "fig, ax = plt.subplots(figsize=(10,5),nrows=1)\n",
        "\n",
        "sns.distplot(lenghts_pos, hist=True, kde=False, norm_hist=False, label='positivo',ax=ax)\n",
        "sns.distplot(lenghts_neg,hist=True, kde=False, norm_hist=False, label='negativo',ax=ax)\n",
        "ax.set_title('Distribución del largo de los textos')\n",
        "ax.legend()\n",
        "plt.show()\n"
      ],
      "execution_count": 11,
      "outputs": [
        {
          "output_type": "stream",
          "name": "stdout",
          "text": [
            "\n",
            "\n"
          ]
        },
        {
          "output_type": "stream",
          "name": "stderr",
          "text": [
            "/usr/local/lib/python3.7/dist-packages/seaborn/distributions.py:2619: FutureWarning: `distplot` is a deprecated function and will be removed in a future version. Please adapt your code to use either `displot` (a figure-level function with similar flexibility) or `histplot` (an axes-level function for histograms).\n",
            "  warnings.warn(msg, FutureWarning)\n"
          ]
        },
        {
          "output_type": "display_data",
          "data": {
            "image/png": "[encoded data removed]",
            "text/plain": [
              "<Figure size 720x360 with 1 Axes>"
            ]
          },
          "metadata": {
            "needs_background": "light"
          }
        }
      ]
    },
    {
      "cell_type": "code",
      "metadata": {
        "id": "7l84f7mmZt6k"
      },
      "source": [
        "for i, sentence in zip(data_train.index, data_train['review']):\n",
        "    data_train.loc[i, \"length\"] = len(sentence.lower().split())"
      ],
      "execution_count": 12,
      "outputs": []
    },
    {
      "cell_type": "code",
      "metadata": {
        "colab": {
          "base_uri": "https://localhost:8080/",
          "height": 419
        },
        "id": "E_68TQnoaO6w",
        "outputId": "267d4622-4e04-4881-b847-6ce55e7bb3c7"
      },
      "source": [
        "data_train"
      ],
      "execution_count": 13,
      "outputs": [
        {
          "output_type": "execute_result",
          "data": {
            "text/html": [
              "<div>\n",
              "<style scoped>\n",
              "    .dataframe tbody tr th:only-of-type {\n",
              "        vertical-align: middle;\n",
              "    }\n",
              "\n",
              "    .dataframe tbody tr th {\n",
              "        vertical-align: top;\n",
              "    }\n",
              "\n",
              "    .dataframe thead th {\n",
              "        text-align: right;\n",
              "    }\n",
              "</style>\n",
              "<table border=\"1\" class=\"dataframe\">\n",
              "  <thead>\n",
              "    <tr style=\"text-align: right;\">\n",
              "      <th></th>\n",
              "      <th>review</th>\n",
              "      <th>label</th>\n",
              "      <th>length</th>\n",
              "    </tr>\n",
              "  </thead>\n",
              "  <tbody>\n",
              "    <tr>\n",
              "      <th>0</th>\n",
              "      <td>Alain Chabat claims this movie as his original...</td>\n",
              "      <td>pos</td>\n",
              "      <td>164.0</td>\n",
              "    </tr>\n",
              "    <tr>\n",
              "      <th>3</th>\n",
              "      <td>Okay, 'enjoy' is a pretty relative term, but f...</td>\n",
              "      <td>neg</td>\n",
              "      <td>135.0</td>\n",
              "    </tr>\n",
              "    <tr>\n",
              "      <th>5</th>\n",
              "      <td>Why oh why don't blockbuster movies simply sti...</td>\n",
              "      <td>neg</td>\n",
              "      <td>74.0</td>\n",
              "    </tr>\n",
              "    <tr>\n",
              "      <th>6</th>\n",
              "      <td>Okay this movie fine like I said but you surel...</td>\n",
              "      <td>pos</td>\n",
              "      <td>159.0</td>\n",
              "    </tr>\n",
              "    <tr>\n",
              "      <th>7</th>\n",
              "      <td>Corridors of time. The movie you can watch if ...</td>\n",
              "      <td>neg</td>\n",
              "      <td>115.0</td>\n",
              "    </tr>\n",
              "    <tr>\n",
              "      <th>...</th>\n",
              "      <td>...</td>\n",
              "      <td>...</td>\n",
              "      <td>...</td>\n",
              "    </tr>\n",
              "    <tr>\n",
              "      <th>5047</th>\n",
              "      <td>well i was a teenager when i saw the movie..th...</td>\n",
              "      <td>pos</td>\n",
              "      <td>285.0</td>\n",
              "    </tr>\n",
              "    <tr>\n",
              "      <th>5048</th>\n",
              "      <td>Save the $8.97 you'll spend at Walmart to buy ...</td>\n",
              "      <td>neg</td>\n",
              "      <td>431.0</td>\n",
              "    </tr>\n",
              "    <tr>\n",
              "      <th>5050</th>\n",
              "      <td>As Dr. Alan Feinstone, Corbin Bernsen turns a ...</td>\n",
              "      <td>pos</td>\n",
              "      <td>158.0</td>\n",
              "    </tr>\n",
              "    <tr>\n",
              "      <th>5051</th>\n",
              "      <td>A few years ago, I bought several $1 DVD's tha...</td>\n",
              "      <td>pos</td>\n",
              "      <td>227.0</td>\n",
              "    </tr>\n",
              "    <tr>\n",
              "      <th>5052</th>\n",
              "      <td>I Last night I had the pleasure of seeing the ...</td>\n",
              "      <td>pos</td>\n",
              "      <td>407.0</td>\n",
              "    </tr>\n",
              "  </tbody>\n",
              "</table>\n",
              "<p>2504 rows × 3 columns</p>\n",
              "</div>"
            ],
            "text/plain": [
              "                                                 review label  length\n",
              "0     Alain Chabat claims this movie as his original...   pos   164.0\n",
              "3     Okay, 'enjoy' is a pretty relative term, but f...   neg   135.0\n",
              "5     Why oh why don't blockbuster movies simply sti...   neg    74.0\n",
              "6     Okay this movie fine like I said but you surel...   pos   159.0\n",
              "7     Corridors of time. The movie you can watch if ...   neg   115.0\n",
              "...                                                 ...   ...     ...\n",
              "5047  well i was a teenager when i saw the movie..th...   pos   285.0\n",
              "5048  Save the $8.97 you'll spend at Walmart to buy ...   neg   431.0\n",
              "5050  As Dr. Alan Feinstone, Corbin Bernsen turns a ...   pos   158.0\n",
              "5051  A few years ago, I bought several $1 DVD's tha...   pos   227.0\n",
              "5052  I Last night I had the pleasure of seeing the ...   pos   407.0\n",
              "\n",
              "[2504 rows x 3 columns]"
            ]
          },
          "metadata": {},
          "execution_count": 13
        }
      ]
    },
    {
      "cell_type": "code",
      "metadata": {
        "colab": {
          "base_uri": "https://localhost:8080/",
          "height": 638
        },
        "id": "oyZXJ1QZZ6K-",
        "outputId": "100b23ec-d338-42d4-9219-6e6f703d9869"
      },
      "source": [
        "fig, ax = plt.subplots(figsize=(10,10))\n",
        "\n",
        "ax.set_title('Distribución del largo de los textos')\n",
        "\n",
        "sns.histplot(data=data_train, x=\"length\", hue=\"label\", kde = False, ax = ax)\n"
      ],
      "execution_count": 14,
      "outputs": [
        {
          "output_type": "execute_result",
          "data": {
            "text/plain": [
              "<matplotlib.axes._subplots.AxesSubplot at 0x7fd2c324d8d0>"
            ]
          },
          "metadata": {},
          "execution_count": 14
        },
        {
          "output_type": "display_data",
          "data": {
            "image/png": "[encoded data removed]",
            "text/plain": [
              "<Figure size 720x720 with 1 Axes>"
            ]
          },
          "metadata": {
            "needs_background": "light"
          }
        }
      ]
    },
    {
      "cell_type": "code",
      "metadata": {
        "colab": {
          "base_uri": "https://localhost:8080/",
          "height": 419
        },
        "id": "C5w7ym7yhoqz",
        "outputId": "0b04c919-e151-4d0b-fd24-81223a7550c3"
      },
      "source": [
        "# dejamos el dataset como estaba antes \n",
        "data_train.drop(columns=['length'])"
      ],
      "execution_count": 15,
      "outputs": [
        {
          "output_type": "execute_result",
          "data": {
            "text/html": [
              "<div>\n",
              "<style scoped>\n",
              "    .dataframe tbody tr th:only-of-type {\n",
              "        vertical-align: middle;\n",
              "    }\n",
              "\n",
              "    .dataframe tbody tr th {\n",
              "        vertical-align: top;\n",
              "    }\n",
              "\n",
              "    .dataframe thead th {\n",
              "        text-align: right;\n",
              "    }\n",
              "</style>\n",
              "<table border=\"1\" class=\"dataframe\">\n",
              "  <thead>\n",
              "    <tr style=\"text-align: right;\">\n",
              "      <th></th>\n",
              "      <th>review</th>\n",
              "      <th>label</th>\n",
              "    </tr>\n",
              "  </thead>\n",
              "  <tbody>\n",
              "    <tr>\n",
              "      <th>0</th>\n",
              "      <td>Alain Chabat claims this movie as his original...</td>\n",
              "      <td>pos</td>\n",
              "    </tr>\n",
              "    <tr>\n",
              "      <th>3</th>\n",
              "      <td>Okay, 'enjoy' is a pretty relative term, but f...</td>\n",
              "      <td>neg</td>\n",
              "    </tr>\n",
              "    <tr>\n",
              "      <th>5</th>\n",
              "      <td>Why oh why don't blockbuster movies simply sti...</td>\n",
              "      <td>neg</td>\n",
              "    </tr>\n",
              "    <tr>\n",
              "      <th>6</th>\n",
              "      <td>Okay this movie fine like I said but you surel...</td>\n",
              "      <td>pos</td>\n",
              "    </tr>\n",
              "    <tr>\n",
              "      <th>7</th>\n",
              "      <td>Corridors of time. The movie you can watch if ...</td>\n",
              "      <td>neg</td>\n",
              "    </tr>\n",
              "    <tr>\n",
              "      <th>...</th>\n",
              "      <td>...</td>\n",
              "      <td>...</td>\n",
              "    </tr>\n",
              "    <tr>\n",
              "      <th>5047</th>\n",
              "      <td>well i was a teenager when i saw the movie..th...</td>\n",
              "      <td>pos</td>\n",
              "    </tr>\n",
              "    <tr>\n",
              "      <th>5048</th>\n",
              "      <td>Save the $8.97 you'll spend at Walmart to buy ...</td>\n",
              "      <td>neg</td>\n",
              "    </tr>\n",
              "    <tr>\n",
              "      <th>5050</th>\n",
              "      <td>As Dr. Alan Feinstone, Corbin Bernsen turns a ...</td>\n",
              "      <td>pos</td>\n",
              "    </tr>\n",
              "    <tr>\n",
              "      <th>5051</th>\n",
              "      <td>A few years ago, I bought several $1 DVD's tha...</td>\n",
              "      <td>pos</td>\n",
              "    </tr>\n",
              "    <tr>\n",
              "      <th>5052</th>\n",
              "      <td>I Last night I had the pleasure of seeing the ...</td>\n",
              "      <td>pos</td>\n",
              "    </tr>\n",
              "  </tbody>\n",
              "</table>\n",
              "<p>2504 rows × 2 columns</p>\n",
              "</div>"
            ],
            "text/plain": [
              "                                                 review label\n",
              "0     Alain Chabat claims this movie as his original...   pos\n",
              "3     Okay, 'enjoy' is a pretty relative term, but f...   neg\n",
              "5     Why oh why don't blockbuster movies simply sti...   neg\n",
              "6     Okay this movie fine like I said but you surel...   pos\n",
              "7     Corridors of time. The movie you can watch if ...   neg\n",
              "...                                                 ...   ...\n",
              "5047  well i was a teenager when i saw the movie..th...   pos\n",
              "5048  Save the $8.97 you'll spend at Walmart to buy ...   neg\n",
              "5050  As Dr. Alan Feinstone, Corbin Bernsen turns a ...   pos\n",
              "5051  A few years ago, I bought several $1 DVD's tha...   pos\n",
              "5052  I Last night I had the pleasure of seeing the ...   pos\n",
              "\n",
              "[2504 rows x 2 columns]"
            ]
          },
          "metadata": {},
          "execution_count": 15
        }
      ]
    },
    {
      "cell_type": "markdown",
      "metadata": {
        "id": "78Pu2wZhhUru"
      },
      "source": [
        "## Pre-procesamiento del Texto\n"
      ]
    },
    {
      "cell_type": "markdown",
      "metadata": {
        "id": "D-lZJX8vhhmZ"
      },
      "source": [
        "### Extracción de Tokens\n",
        "\n",
        "1.   Lower-casing\n",
        "2.   Remoción de Stop-words (adornan el lenguaje pero no aportan a lo que queremos)\n",
        "3.   Lematización (transformar palabras a su origen lenguistico)."
      ]
    },
    {
      "cell_type": "code",
      "metadata": {
        "colab": {
          "base_uri": "https://localhost:8080/"
        },
        "id": "tGH-RfGChU1O",
        "outputId": "33a51168-cc0b-4eeb-df83-2cc3c12f9987"
      },
      "source": [
        "'''\n",
        "NLTK is a leading platform for building Python programs to work with human language data.\n",
        "It provides easy-to-use interfaces to over 50 corpora and lexical resources such as WordNet, \n",
        "along with a suite of text processing libraries for classification, tokenization, stemming, \n",
        "tagging, parsing, and semantic reasoning, wrappers for industrial-strength NLP libraries\n",
        "'''\n",
        "import nltk \n",
        "nltk.download('wordnet') # WordNet® is a large lexical database of English. \n",
        "nltk.download('stopwords') \n",
        "from nltk.corpus import stopwords\n",
        "\n",
        "from sklearn.feature_extraction.text import TfidfVectorizer, CountVectorizer\n",
        "from nltk.stem.snowball import SnowballStemmer # para transformar palabrasa a su raiz\n",
        "from nltk.stem import WordNetLemmatizer # \n",
        "\n",
        "tokenizer = TfidfVectorizer().build_tokenizer() #Return a function that splits a string into a sequence of tokens considering unicode characters\n",
        "stemmer = SnowballStemmer(\"english\") \n",
        "lemmatizer = WordNetLemmatizer()\n",
        "\n",
        "##stop-words: el vectorizador ya las remueve pero para mostrar las palabras más frecuente tiene sentido activarlo\n",
        "remove_stops_here = False\n",
        "\n",
        "def my_pre_processer(text, debug = False):\n",
        "    results = []\n",
        "    if (debug):\n",
        "        print(\"Tokenizer result: \", tokenizer(text))\n",
        "    for token in tokenizer(text):\n",
        "        clean_token = token.lower().strip('-').strip('_')\n",
        "        if remove_stops_here and (clean_token in stopwords.words('english')):\n",
        "          continue\n",
        "        #token_pro = stemmer.stem(clean_token) #podemos probar stemming en vez de lematizacion\n",
        "        token_pro = lemmatizer.lemmatize(clean_token) \n",
        "        if len(token_pro) > 2 and not token_pro[0].isdigit(): #elimina palabra largo menor a 2\n",
        "            results.append(token_pro)\n",
        "    return results\n"
      ],
      "execution_count": 16,
      "outputs": [
        {
          "output_type": "stream",
          "name": "stdout",
          "text": [
            "[nltk_data] Downloading package wordnet to /root/nltk_data...\n",
            "[nltk_data]   Package wordnet is already up-to-date!\n",
            "[nltk_data] Downloading package stopwords to /root/nltk_data...\n",
            "[nltk_data]   Package stopwords is already up-to-date!\n"
          ]
        }
      ]
    },
    {
      "cell_type": "code",
      "metadata": {
        "colab": {
          "base_uri": "https://localhost:8080/"
        },
        "id": "PMxpg837pQWf",
        "outputId": "658def27-c0de-488d-a153-b71c9b4ba27b"
      },
      "source": [
        "# algunos ejemplos para comparar stemmer y lemmatizer\n",
        "\n",
        "#word = 'dogs'\n",
        "word = 'universities'\n",
        "#word = 'easily'\n",
        "print( stemmer.stem(word) ) \n",
        "print( lemmatizer.lemmatize(word) )"
      ],
      "execution_count": 17,
      "outputs": [
        {
          "output_type": "stream",
          "name": "stdout",
          "text": [
            "univers\n",
            "university\n"
          ]
        }
      ]
    },
    {
      "cell_type": "code",
      "metadata": {
        "colab": {
          "base_uri": "https://localhost:8080/",
          "height": 137
        },
        "id": "8mFtIu6NrPVc",
        "outputId": "f3f42dbe-a17e-44dc-cb63-c70a02a9543f"
      },
      "source": [
        "# ejemplo de aplicacion\n",
        "pd.set_option('display.max_colwidth', None)\n",
        "texto_ejemplo = data_train.loc[100][\"review\"]\n",
        "\n",
        "print(data_train.loc[100][\"label\"])\n",
        "texto_ejemplo\n"
      ],
      "execution_count": 18,
      "outputs": [
        {
          "output_type": "stream",
          "name": "stdout",
          "text": [
            "pos\n"
          ]
        },
        {
          "output_type": "execute_result",
          "data": {
            "application/vnd.google.colaboratory.intrinsic+json": {
              "type": "string"
            },
            "text/plain": [
              "'I\\'ve watched this movie a second time to try to figure out why it wasn\\'t as successful (commercially or artistically) as it should have been, and discovered considerable artistic merit--which may ultimately have been its commercial undoing.<br /><br />First of all, this movie attempts \"serious\" science-fiction, social commentary, more than action-adventure. There is action in it, but that\\'s not really what it\\'s about. If you focus on that, you\\'ll end up with (as others have noted) a bad \"Aliens\" clone. But, again, that\\'s not what it\\'s about.<br /><br />The movie is really about Todd\\'s (Kurt Russell) transformation from human to near-machine and back to human (mostly *back*). But because it\\'s not trying to give you a typically glib Hollywood style answer, Kurt Russell must make this transformation without speaking, and largely without broad expressions. And he really does a wonderful job--it can take two viewings to appreciate it.<br /><br />The surrounding \"social logic\" is flawed and it\\'s never adequately explained whether Todd\\'s ability to hold his own against an army of supposedly superior troops comes from his experience on the battlefield or his newfound human-ness or what, but the movie still makes a marvellous showcase for Russell\\'s (easy to underestimate) talent.'"
            ]
          },
          "metadata": {},
          "execution_count": 18
        }
      ]
    },
    {
      "cell_type": "code",
      "metadata": {
        "colab": {
          "base_uri": "https://localhost:8080/"
        },
        "id": "YGPQkFK-q5qA",
        "outputId": "eaaea851-8057-4574-fede-7b6af070eaf9"
      },
      "source": [
        "print(len(texto_ejemplo.split(' ')))\n",
        "result = my_pre_processer(texto_ejemplo, True)\n",
        "\n",
        "print(result)\n",
        "print(len(result))"
      ],
      "execution_count": 19,
      "outputs": [
        {
          "output_type": "stream",
          "name": "stdout",
          "text": [
            "201\n",
            "Tokenizer result:  ['ve', 'watched', 'this', 'movie', 'second', 'time', 'to', 'try', 'to', 'figure', 'out', 'why', 'it', 'wasn', 'as', 'successful', 'commercially', 'or', 'artistically', 'as', 'it', 'should', 'have', 'been', 'and', 'discovered', 'considerable', 'artistic', 'merit', 'which', 'may', 'ultimately', 'have', 'been', 'its', 'commercial', 'undoing', 'br', 'br', 'First', 'of', 'all', 'this', 'movie', 'attempts', 'serious', 'science', 'fiction', 'social', 'commentary', 'more', 'than', 'action', 'adventure', 'There', 'is', 'action', 'in', 'it', 'but', 'that', 'not', 'really', 'what', 'it', 'about', 'If', 'you', 'focus', 'on', 'that', 'you', 'll', 'end', 'up', 'with', 'as', 'others', 'have', 'noted', 'bad', 'Aliens', 'clone', 'But', 'again', 'that', 'not', 'what', 'it', 'about', 'br', 'br', 'The', 'movie', 'is', 'really', 'about', 'Todd', 'Kurt', 'Russell', 'transformation', 'from', 'human', 'to', 'near', 'machine', 'and', 'back', 'to', 'human', 'mostly', 'back', 'But', 'because', 'it', 'not', 'trying', 'to', 'give', 'you', 'typically', 'glib', 'Hollywood', 'style', 'answer', 'Kurt', 'Russell', 'must', 'make', 'this', 'transformation', 'without', 'speaking', 'and', 'largely', 'without', 'broad', 'expressions', 'And', 'he', 'really', 'does', 'wonderful', 'job', 'it', 'can', 'take', 'two', 'viewings', 'to', 'appreciate', 'it', 'br', 'br', 'The', 'surrounding', 'social', 'logic', 'is', 'flawed', 'and', 'it', 'never', 'adequately', 'explained', 'whether', 'Todd', 'ability', 'to', 'hold', 'his', 'own', 'against', 'an', 'army', 'of', 'supposedly', 'superior', 'troops', 'comes', 'from', 'his', 'experience', 'on', 'the', 'battlefield', 'or', 'his', 'newfound', 'human', 'ness', 'or', 'what', 'but', 'the', 'movie', 'still', 'makes', 'marvellous', 'showcase', 'for', 'Russell', 'easy', 'to', 'underestimate', 'talent']\n",
            "['watched', 'this', 'movie', 'second', 'time', 'try', 'figure', 'out', 'why', 'wasn', 'successful', 'commercially', 'artistically', 'should', 'have', 'been', 'and', 'discovered', 'considerable', 'artistic', 'merit', 'which', 'may', 'ultimately', 'have', 'been', 'commercial', 'undoing', 'first', 'all', 'this', 'movie', 'attempt', 'serious', 'science', 'fiction', 'social', 'commentary', 'more', 'than', 'action', 'adventure', 'there', 'action', 'but', 'that', 'not', 'really', 'what', 'about', 'you', 'focus', 'that', 'you', 'end', 'with', 'others', 'have', 'noted', 'bad', 'alien', 'clone', 'but', 'again', 'that', 'not', 'what', 'about', 'the', 'movie', 'really', 'about', 'todd', 'kurt', 'russell', 'transformation', 'from', 'human', 'near', 'machine', 'and', 'back', 'human', 'mostly', 'back', 'but', 'because', 'not', 'trying', 'give', 'you', 'typically', 'glib', 'hollywood', 'style', 'answer', 'kurt', 'russell', 'must', 'make', 'this', 'transformation', 'without', 'speaking', 'and', 'largely', 'without', 'broad', 'expression', 'and', 'really', 'doe', 'wonderful', 'job', 'can', 'take', 'two', 'viewing', 'appreciate', 'the', 'surrounding', 'social', 'logic', 'flawed', 'and', 'never', 'adequately', 'explained', 'whether', 'todd', 'ability', 'hold', 'his', 'own', 'against', 'army', 'supposedly', 'superior', 'troop', 'come', 'from', 'his', 'experience', 'the', 'battlefield', 'his', 'newfound', 'human', 'ness', 'what', 'but', 'the', 'movie', 'still', 'make', 'marvellous', 'showcase', 'for', 'russell', 'easy', 'underestimate', 'talent']\n",
            "162\n"
          ]
        }
      ]
    },
    {
      "cell_type": "code",
      "metadata": {
        "colab": {
          "base_uri": "https://localhost:8080/",
          "height": 199
        },
        "id": "Ib_FGJAYw9s1",
        "outputId": "fc8a86eb-ad13-4857-8487-a8d88aa36410"
      },
      "source": [
        "# lo aplicamos a nuestros datos\n",
        "data_train['prep_review'] = data_train['review'].apply(my_pre_processer)\n",
        "data_train.head(1)"
      ],
      "execution_count": 20,
      "outputs": [
        {
          "output_type": "execute_result",
          "data": {
            "text/html": [
              "<div>\n",
              "<style scoped>\n",
              "    .dataframe tbody tr th:only-of-type {\n",
              "        vertical-align: middle;\n",
              "    }\n",
              "\n",
              "    .dataframe tbody tr th {\n",
              "        vertical-align: top;\n",
              "    }\n",
              "\n",
              "    .dataframe thead th {\n",
              "        text-align: right;\n",
              "    }\n",
              "</style>\n",
              "<table border=\"1\" class=\"dataframe\">\n",
              "  <thead>\n",
              "    <tr style=\"text-align: right;\">\n",
              "      <th></th>\n",
              "      <th>review</th>\n",
              "      <th>label</th>\n",
              "      <th>length</th>\n",
              "      <th>prep_review</th>\n",
              "    </tr>\n",
              "  </thead>\n",
              "  <tbody>\n",
              "    <tr>\n",
              "      <th>0</th>\n",
              "      <td>Alain Chabat claims this movie as his original idea but the theme of reluctant lovers who finally get it together is as old, if not older, than Shakespeare.&lt;br /&gt;&lt;br /&gt;Chabat is a \"vieux garcon\", happily single and not wanting any member of the opposite sex to disturb his life. He has a problem, 5 sisters and a matriarchal mum - the G7 - who decide he should be married. Enter the delightful, charming Charlotte Gainsbourg and what should be a simple plan. Charlotte has to pose as Chabat's girlfriend and then simply not turn up on the day of the wedding. No more talk of marriage from the G7. Of course the best laid plans have a habit of spiralling out of control.&lt;br /&gt;&lt;br /&gt;There are very strong supporting roles from Lafont as the mother and Osterman as the tight-fisted brother of Gainsbourg.&lt;br /&gt;&lt;br /&gt;There are some fantastic scenes as first Charlotte has to charm, then revolt the family. French farce with an English.</td>\n",
              "      <td>pos</td>\n",
              "      <td>164.0</td>\n",
              "      <td>[alain, chabat, claim, this, movie, his, original, idea, but, the, theme, reluctant, lover, who, finally, get, together, old, not, older, than, shakespeare, chabat, vieux, garcon, happily, single, and, not, wanting, any, member, the, opposite, sex, disturb, his, life, problem, sister, and, matriarchal, mum, the, who, decide, should, married, enter, the, delightful, charming, charlotte, gainsbourg, and, what, should, simple, plan, charlotte, pose, chabat, girlfriend, and, then, simply, not, turn, the, day, the, wedding, more, talk, marriage, from, the, course, the, best, laid, plan, have, habit, spiralling, out, control, there, are, very, strong, supporting, role, from, lafont, the, mother, and, osterman, the, ...]</td>\n",
              "    </tr>\n",
              "  </tbody>\n",
              "</table>\n",
              "</div>"
            ],
            "text/plain": [
              "                                                                                                                                                                                                                                                                                                                                                                                                                                                                                                                                                                                                                                                                                                                                                                                                                                                                                                                                                                review  ...                                                                                                                                                                                                                                                                                                                                                                                                                                                                                                                                                                                                                                                                                                                                          prep_review\n",
              "0  Alain Chabat claims this movie as his original idea but the theme of reluctant lovers who finally get it together is as old, if not older, than Shakespeare.<br /><br />Chabat is a \"vieux garcon\", happily single and not wanting any member of the opposite sex to disturb his life. He has a problem, 5 sisters and a matriarchal mum - the G7 - who decide he should be married. Enter the delightful, charming Charlotte Gainsbourg and what should be a simple plan. Charlotte has to pose as Chabat's girlfriend and then simply not turn up on the day of the wedding. No more talk of marriage from the G7. Of course the best laid plans have a habit of spiralling out of control.<br /><br />There are very strong supporting roles from Lafont as the mother and Osterman as the tight-fisted brother of Gainsbourg.<br /><br />There are some fantastic scenes as first Charlotte has to charm, then revolt the family. French farce with an English.  ...  [alain, chabat, claim, this, movie, his, original, idea, but, the, theme, reluctant, lover, who, finally, get, together, old, not, older, than, shakespeare, chabat, vieux, garcon, happily, single, and, not, wanting, any, member, the, opposite, sex, disturb, his, life, problem, sister, and, matriarchal, mum, the, who, decide, should, married, enter, the, delightful, charming, charlotte, gainsbourg, and, what, should, simple, plan, charlotte, pose, chabat, girlfriend, and, then, simply, not, turn, the, day, the, wedding, more, talk, marriage, from, the, course, the, best, laid, plan, have, habit, spiralling, out, control, there, are, very, strong, supporting, role, from, lafont, the, mother, and, osterman, the, ...]\n",
              "\n",
              "[1 rows x 4 columns]"
            ]
          },
          "metadata": {},
          "execution_count": 20
        }
      ]
    },
    {
      "cell_type": "code",
      "metadata": {
        "id": "LFCvczc-0JmQ"
      },
      "source": [
        ""
      ],
      "execution_count": 20,
      "outputs": []
    },
    {
      "cell_type": "code",
      "metadata": {
        "colab": {
          "base_uri": "https://localhost:8080/",
          "height": 650
        },
        "id": "h63CFTyhxrwD",
        "outputId": "9229fa07-3488-41c7-edd1-b73a157c82e3"
      },
      "source": [
        "all_tokens_pos = [token for sublist in data_train[data_train.label=='pos'].prep_review for token in sublist]\n",
        "all_tokens_neg = [token for sublist in data_train[data_train.label=='neg'].prep_review for token in sublist]\n",
        "\n",
        "from collections import Counter\n",
        "freqs_pos = Counter(all_tokens_pos)\n",
        "freqs_neg = Counter(all_tokens_neg)\n",
        "\n",
        "sorted_words_pos  =  {k: v for k, v in sorted(freqs_pos.items(), key=lambda item: item[1], reverse=True)}\n",
        "sorted_words_neg =  {k: v for k, v in sorted(freqs_neg.items(), key=lambda item: item[1], reverse=True)}\n",
        "\n",
        "top = 100\n",
        "y_pos = [float(y) for y in sorted_words_pos.values()]\n",
        "x_pos = [x for x in sorted_words_pos.keys()]\n",
        "y_neg = [float(y) for y in sorted_words_neg.values()]\n",
        "x_neg = [x for x in sorted_words_neg.keys()]\n",
        "\n",
        "\n",
        "fig, ax = plt.subplots(figsize=(18,10),nrows=2)\n",
        "p1 = sns.barplot(x=x_pos[:top],y=y_pos[:top],palette=\"Blues_d\",ax=ax[0])\n",
        "p2 = sns.barplot(x=x_neg[:top],y=y_neg[:top],palette=\"Blues_d\",ax=ax[1])\n",
        "ax[0].set_title('Frecuencia Palabras en Textos Positivos')\n",
        "ax[1].set_title('Frecuencia Palabras en Textos Negativos')\n",
        "plt.subplots_adjust(hspace=1.5)\n",
        "plt.setp(p1.get_xticklabels(), rotation=90)\n",
        "plt.setp(p2.get_xticklabels(), rotation=90)\n",
        "plt.show()\n",
        "\n",
        "# notar que bad no esta en textos positivo"
      ],
      "execution_count": 21,
      "outputs": [
        {
          "output_type": "display_data",
          "data": {
            "image/png": "[encoded data removed]",
            "text/plain": [
              "<Figure size 1296x720 with 2 Axes>"
            ]
          },
          "metadata": {
            "needs_background": "light"
          }
        }
      ]
    },
    {
      "cell_type": "markdown",
      "metadata": {
        "id": "Yacw85U22QrB"
      },
      "source": [
        "# Vectorización\n",
        "\n",
        "Tenemos 3 opciones, porque tenemos 3 representaciones posibles para el texto, podemos utilizar las tres representaciones con los diferentes clasificadores,\n",
        "pero no todas ellas tienen sentido \n",
        "\n",
        "¿cuales son las combinaciones correctas?\n",
        "¿bayes ingenuo binomial tendra sentido con una representacion real? ¿tendra sentido con una representacion binaria?\n",
        "¿tendra sentido con una representacion discreta de tipo TF?"
      ]
    },
    {
      "cell_type": "code",
      "metadata": {
        "id": "7jDcsG05tNIj"
      },
      "source": [
        "from sklearn.model_selection import train_test_split\n"
      ],
      "execution_count": 22,
      "outputs": []
    },
    {
      "cell_type": "markdown",
      "metadata": {
        "id": "FD0RTiBA2jxI"
      },
      "source": [
        "## Representación Binaria (Palabra está o no está)\n"
      ]
    },
    {
      "cell_type": "markdown",
      "metadata": {
        "id": "oRrG5BUFaw-r"
      },
      "source": [
        "![texto alternativo](https://i.stack.imgur.com/8ARA1.png)\n",
        "\n",
        "*Ejemplo de n-gramas* \n"
      ]
    },
    {
      "cell_type": "code",
      "metadata": {
        "colab": {
          "base_uri": "https://localhost:8080/"
        },
        "id": "nGT0ZqQJroGa",
        "outputId": "665d8ef3-2405-4184-adb6-7d3b8cacc943"
      },
      "source": [
        "# antes de todo almacenamos las etiquetas (pos o neg) correspondiente a cada ejemplo de entrenamiento\n",
        "y_train = data_train['label']\n",
        "\n",
        "# y almacenamos las etiquetas correspondientes al conjunto de testing\n",
        "y_test = data_test['label']\n",
        "\n",
        "print(y_train.shape, y_test.shape)"
      ],
      "execution_count": 48,
      "outputs": [
        {
          "output_type": "stream",
          "name": "stdout",
          "text": [
            "(2504,) (2549,)\n"
          ]
        }
      ]
    },
    {
      "cell_type": "code",
      "metadata": {
        "colab": {
          "base_uri": "https://localhost:8080/"
        },
        "id": "03u3vTBy4Gr3",
        "outputId": "3fe1a357-4438-4ff9-d282-ef6d8923e063"
      },
      "source": [
        "from sklearn.feature_extraction.text import CountVectorizer\n",
        "# Bag of words, contar la cantidad de veces que aparece la palabra de un diccionario en el texto que intentamos clasificar \n",
        "# El diccionario, o lo descargamos nosotros o lo creamos concatenando nuestras palabras. Esto ultimo se hace aca.\n",
        "\n",
        "# combinaciones de palabras mas frecuentes. build a vocabulary that only consider the top max_features ordered by term frequency across the corpus.\n",
        "max_features = 10000 \n",
        "\n",
        "max_df = 0.8\n",
        "min_df = 21\n",
        "\n",
        "### NUMBER OF N GRAMS TO CONSIDER\n",
        "# Contar ya no las veces que ocurren las palabras, sino contar las \n",
        "# veces que aparecer conjuntos de palabras. Que sea 1 es que solo 1 palabra. Si es > 1 se hace lento el procesamiento. \n",
        "ngram_max = 4\n",
        "\n",
        "################ vectoriza el texto  ####################################################\n",
        "\n",
        "# toda esta pipeline se hace con esta libreria. CoutVectorizer vectoriza el texto\n",
        "vectorizer = CountVectorizer(stop_words='english', tokenizer=my_pre_processer,min_df=min_df, max_df=max_df, max_features=max_features,\n",
        "                              binary=True, ngram_range=(1, ngram_max))\n",
        "\n",
        "\n",
        "vectorizer.fit(data_train['review']) # fitear el vectorizer solo con data_train  \n",
        "\n",
        "binary_train = vectorizer.transform(data_train['review']) # aplicar la transformacion a data_train para obtener binary_train\n",
        "\n",
        "########################################################################################\n",
        "\n",
        "#Aprovechamos de crear datos para validacion. Para ello dividimos data_test en 2 subconjuntos: uno para validacion y otro para test.  \n",
        "\n",
        "x_val, x_test, y_val, y_test = train_test_split(data_test, y_test, test_size=0.5, random_state=42) # defimos un validation set\n",
        "\n",
        "# aplicamos el vectorizer \"fiteado\" a los nuevos subconjuntos\n",
        "binary_val = vectorizer.transform(x_val['review']) # datos de validacion\n",
        "binary_test = vectorizer.transform(x_test['review']) # datos de test \n",
        "\n",
        "print(\"\\nX,y Train Shapes:\", binary_train.shape, y_train.shape)\n",
        "print(\"X,y Val Shapes:\", binary_val.shape, y_val.shape)\n",
        "print(\"X,y Test Shapes:\", binary_test.shape, y_test.shape)\n"
      ],
      "execution_count": 49,
      "outputs": [
        {
          "output_type": "stream",
          "name": "stderr",
          "text": [
            "/usr/local/lib/python3.7/dist-packages/sklearn/feature_extraction/text.py:507: UserWarning: The parameter 'token_pattern' will not be used since 'tokenizer' is not None'\n",
            "  warnings.warn(\"The parameter 'token_pattern' will not be used\"\n"
          ]
        },
        {
          "output_type": "stream",
          "name": "stdout",
          "text": [
            "\n",
            "X,y Train Shapes: (2504, 2024) (2504,)\n",
            "X,y Val Shapes: (1274, 2024) (1274,)\n",
            "X,y Test Shapes: (1275, 2024) (1275,)\n"
          ]
        }
      ]
    },
    {
      "cell_type": "markdown",
      "metadata": {
        "id": "uCxtgO3huYLF"
      },
      "source": [
        "Vamos un poco la matriz binaria"
      ]
    },
    {
      "cell_type": "code",
      "metadata": {
        "colab": {
          "base_uri": "https://localhost:8080/"
        },
        "id": "6wsmsOfAgAYR",
        "outputId": "96174dee-70d7-47cc-dfd9-f43a2f716f16"
      },
      "source": [
        "# veamos la matriz\n",
        "binary_train.todense()"
      ],
      "execution_count": 50,
      "outputs": [
        {
          "output_type": "execute_result",
          "data": {
            "text/plain": [
              "matrix([[0, 0, 0, ..., 0, 0, 0],\n",
              "        [0, 0, 0, ..., 0, 0, 0],\n",
              "        [0, 0, 0, ..., 0, 0, 0],\n",
              "        ...,\n",
              "        [0, 0, 0, ..., 0, 0, 0],\n",
              "        [0, 0, 0, ..., 0, 0, 0],\n",
              "        [0, 0, 0, ..., 1, 0, 0]])"
            ]
          },
          "metadata": {},
          "execution_count": 50
        }
      ]
    },
    {
      "cell_type": "code",
      "metadata": {
        "colab": {
          "base_uri": "https://localhost:8080/"
        },
        "id": "-nJ0Pj_bnLwG",
        "outputId": "70465c89-2cad-4d3e-ceab-b0bfa060af32"
      },
      "source": [
        "# veamos los feature\n",
        "print(len(vectorizer.get_feature_names()))\n",
        "vectorizer.get_feature_names()"
      ],
      "execution_count": 51,
      "outputs": [
        {
          "output_type": "stream",
          "name": "stdout",
          "text": [
            "2024\n"
          ]
        },
        {
          "output_type": "execute_result",
          "data": {
            "text/plain": [
              "['ability',\n",
              " 'able',\n",
              " 'absolute',\n",
              " 'absolutely',\n",
              " 'absurd',\n",
              " 'accent',\n",
              " 'accept',\n",
              " 'accident',\n",
              " 'according',\n",
              " 'accurate',\n",
              " 'act',\n",
              " 'acted',\n",
              " 'acting',\n",
              " 'action',\n",
              " 'action film',\n",
              " 'action movie',\n",
              " 'actor',\n",
              " 'actress',\n",
              " 'actual',\n",
              " 'actually',\n",
              " 'adam',\n",
              " 'adaptation',\n",
              " 'add',\n",
              " 'added',\n",
              " 'addition',\n",
              " 'admit',\n",
              " 'adult',\n",
              " 'adventure',\n",
              " 'advice',\n",
              " 'affair',\n",
              " 'afraid',\n",
              " 'african',\n",
              " 'age',\n",
              " 'aged',\n",
              " 'agent',\n",
              " 'ago',\n",
              " 'agree',\n",
              " 'ahead',\n",
              " 'air',\n",
              " 'ala',\n",
              " 'alien',\n",
              " 'alive',\n",
              " 'allen',\n",
              " 'allow',\n",
              " 'allowed',\n",
              " 'allows',\n",
              " 'amateur',\n",
              " 'amazing',\n",
              " 'america',\n",
              " 'american',\n",
              " 'amusing',\n",
              " 'andy',\n",
              " 'angel',\n",
              " 'angle',\n",
              " 'angry',\n",
              " 'animal',\n",
              " 'animated',\n",
              " 'animation',\n",
              " 'anne',\n",
              " 'annoying',\n",
              " 'answer',\n",
              " 'anthony',\n",
              " 'anti',\n",
              " 'anybody',\n",
              " 'anymore',\n",
              " 'apart',\n",
              " 'apartment',\n",
              " 'apparent',\n",
              " 'apparently',\n",
              " 'appeal',\n",
              " 'appealing',\n",
              " 'appear',\n",
              " 'appearance',\n",
              " 'appeared',\n",
              " 'appears',\n",
              " 'appreciate',\n",
              " 'approach',\n",
              " 'area',\n",
              " 'aren',\n",
              " 'arm',\n",
              " 'army',\n",
              " 'art',\n",
              " 'artist',\n",
              " 'artistic',\n",
              " 'asian',\n",
              " 'aside',\n",
              " 'ask',\n",
              " 'asked',\n",
              " 'asks',\n",
              " 'aspect',\n",
              " 'atmosphere',\n",
              " 'attack',\n",
              " 'attempt',\n",
              " 'attention',\n",
              " 'attitude',\n",
              " 'attractive',\n",
              " 'audience',\n",
              " 'author',\n",
              " 'available',\n",
              " 'average',\n",
              " 'avoid',\n",
              " 'award',\n",
              " 'aware',\n",
              " 'away',\n",
              " 'awesome',\n",
              " 'awful',\n",
              " 'awkward',\n",
              " 'baby',\n",
              " 'background',\n",
              " 'bad',\n",
              " 'bad acting',\n",
              " 'bad film',\n",
              " 'bad guy',\n",
              " 'bad movie',\n",
              " 'badly',\n",
              " 'balance',\n",
              " 'ball',\n",
              " 'band',\n",
              " 'bar',\n",
              " 'barely',\n",
              " 'based',\n",
              " 'basic',\n",
              " 'basically',\n",
              " 'battle',\n",
              " 'bear',\n",
              " 'beast',\n",
              " 'beat',\n",
              " 'beautiful',\n",
              " 'beautifully',\n",
              " 'beauty',\n",
              " 'bed',\n",
              " 'began',\n",
              " 'begin',\n",
              " 'beginning',\n",
              " 'behavior',\n",
              " 'belief',\n",
              " 'believable',\n",
              " 'believe',\n",
              " 'ben',\n",
              " 'best',\n",
              " 'best film',\n",
              " 'best friend',\n",
              " 'best movie',\n",
              " 'best performance',\n",
              " 'bet',\n",
              " 'better',\n",
              " 'big',\n",
              " 'big screen',\n",
              " 'bigger',\n",
              " 'biggest',\n",
              " 'billy',\n",
              " 'birth',\n",
              " 'bit',\n",
              " 'bizarre',\n",
              " 'black',\n",
              " 'black white',\n",
              " 'blame',\n",
              " 'bland',\n",
              " 'blind',\n",
              " 'blockbuster',\n",
              " 'blonde',\n",
              " 'blood',\n",
              " 'bloody',\n",
              " 'blow',\n",
              " 'blue',\n",
              " 'board',\n",
              " 'boat',\n",
              " 'body',\n",
              " 'bomb',\n",
              " 'bond',\n",
              " 'book',\n",
              " 'bored',\n",
              " 'boring',\n",
              " 'born',\n",
              " 'bos',\n",
              " 'bother',\n",
              " 'bought',\n",
              " 'box',\n",
              " 'box office',\n",
              " 'boy',\n",
              " 'boyfriend',\n",
              " 'brain',\n",
              " 'break',\n",
              " 'brief',\n",
              " 'bright',\n",
              " 'brilliant',\n",
              " 'bring',\n",
              " 'brings',\n",
              " 'british',\n",
              " 'broken',\n",
              " 'brother',\n",
              " 'brought',\n",
              " 'brown',\n",
              " 'bruce',\n",
              " 'brutal',\n",
              " 'buddy',\n",
              " 'budget',\n",
              " 'build',\n",
              " 'building',\n",
              " 'built',\n",
              " 'bunch',\n",
              " 'business',\n",
              " 'buy',\n",
              " 'cable',\n",
              " 'cage',\n",
              " 'called',\n",
              " 'calling',\n",
              " 'came',\n",
              " 'cameo',\n",
              " 'camera',\n",
              " 'camera work',\n",
              " 'camp',\n",
              " 'candy',\n",
              " 'capable',\n",
              " 'capture',\n",
              " 'captured',\n",
              " 'car',\n",
              " 'cardboard',\n",
              " 'care',\n",
              " 'career',\n",
              " 'carry',\n",
              " 'cartoon',\n",
              " 'case',\n",
              " 'cast',\n",
              " 'casting',\n",
              " 'castle',\n",
              " 'cat',\n",
              " 'catch',\n",
              " 'caught',\n",
              " 'cause',\n",
              " 'cell',\n",
              " 'center',\n",
              " 'central',\n",
              " 'century',\n",
              " 'certain',\n",
              " 'certainly',\n",
              " 'cgi',\n",
              " 'chair',\n",
              " 'chance',\n",
              " 'change',\n",
              " 'changed',\n",
              " 'changing',\n",
              " 'channel',\n",
              " 'character',\n",
              " 'character development',\n",
              " 'character film',\n",
              " 'character movie',\n",
              " 'charles',\n",
              " 'charlie',\n",
              " 'charm',\n",
              " 'charming',\n",
              " 'chase',\n",
              " 'cheap',\n",
              " 'check',\n",
              " 'cheesy',\n",
              " 'chemistry',\n",
              " 'chick',\n",
              " 'child',\n",
              " 'childhood',\n",
              " 'chilling',\n",
              " 'chinese',\n",
              " 'choice',\n",
              " 'choose',\n",
              " 'chose',\n",
              " 'chosen',\n",
              " 'christian',\n",
              " 'christmas',\n",
              " 'christopher',\n",
              " 'church',\n",
              " 'cinema',\n",
              " 'cinematic',\n",
              " 'cinematography',\n",
              " 'circumstance',\n",
              " 'city',\n",
              " 'claim',\n",
              " 'class',\n",
              " 'classic',\n",
              " 'clean',\n",
              " 'clear',\n",
              " 'clearly',\n",
              " 'clever',\n",
              " 'clichã',\n",
              " 'climax',\n",
              " 'clip',\n",
              " 'close',\n",
              " 'clothes',\n",
              " 'club',\n",
              " 'clue',\n",
              " 'cold',\n",
              " 'collection',\n",
              " 'college',\n",
              " 'color',\n",
              " 'com',\n",
              " 'combination',\n",
              " 'come',\n",
              " 'comedic',\n",
              " 'comedy',\n",
              " 'comic',\n",
              " 'coming',\n",
              " 'comment',\n",
              " 'commentary',\n",
              " 'commercial',\n",
              " 'common',\n",
              " 'community',\n",
              " 'company',\n",
              " 'compare',\n",
              " 'compared',\n",
              " 'comparison',\n",
              " 'compelling',\n",
              " 'complete',\n",
              " 'completely',\n",
              " 'complex',\n",
              " 'complicated',\n",
              " 'computer',\n",
              " 'concept',\n",
              " 'concerned',\n",
              " 'conclusion',\n",
              " 'conflict',\n",
              " 'confused',\n",
              " 'confusing',\n",
              " 'confusion',\n",
              " 'connection',\n",
              " 'consider',\n",
              " 'considered',\n",
              " 'considering',\n",
              " 'constant',\n",
              " 'constantly',\n",
              " 'contains',\n",
              " 'contemporary',\n",
              " 'content',\n",
              " 'context',\n",
              " 'continue',\n",
              " 'continues',\n",
              " 'continuity',\n",
              " 'contrast',\n",
              " 'control',\n",
              " 'conversation',\n",
              " 'convincing',\n",
              " 'cool',\n",
              " 'cop',\n",
              " 'copy',\n",
              " 'core',\n",
              " 'corny',\n",
              " 'correct',\n",
              " 'cost',\n",
              " 'costume',\n",
              " 'couldn',\n",
              " 'count',\n",
              " 'country',\n",
              " 'couple',\n",
              " 'course',\n",
              " 'cover',\n",
              " 'covered',\n",
              " 'crap',\n",
              " 'crazy',\n",
              " 'create',\n",
              " 'created',\n",
              " 'creates',\n",
              " 'creating',\n",
              " 'creation',\n",
              " 'creative',\n",
              " 'creator',\n",
              " 'creature',\n",
              " 'credit',\n",
              " 'creepy',\n",
              " 'crew',\n",
              " 'crime',\n",
              " 'criminal',\n",
              " 'critic',\n",
              " 'cross',\n",
              " 'crowd',\n",
              " 'cult',\n",
              " 'culture',\n",
              " 'current',\n",
              " 'currently',\n",
              " 'cut',\n",
              " 'cute',\n",
              " 'dad',\n",
              " 'damn',\n",
              " 'dance',\n",
              " 'dancing',\n",
              " 'danger',\n",
              " 'daniel',\n",
              " 'danny',\n",
              " 'dark',\n",
              " 'darkness',\n",
              " 'date',\n",
              " 'dated',\n",
              " 'daughter',\n",
              " 'david',\n",
              " 'day',\n",
              " 'dead',\n",
              " 'deal',\n",
              " 'dealing',\n",
              " 'death',\n",
              " 'debut',\n",
              " 'decade',\n",
              " 'decent',\n",
              " 'decide',\n",
              " 'decided',\n",
              " 'decides',\n",
              " 'decision',\n",
              " 'deep',\n",
              " 'deeper',\n",
              " 'deeply',\n",
              " 'definitely',\n",
              " 'degree',\n",
              " 'delightful',\n",
              " 'deliver',\n",
              " 'delivered',\n",
              " 'delivers',\n",
              " 'demon',\n",
              " 'department',\n",
              " 'depicted',\n",
              " 'depiction',\n",
              " 'depressing',\n",
              " 'depth',\n",
              " 'described',\n",
              " 'desert',\n",
              " 'deserve',\n",
              " 'deserved',\n",
              " 'deserves',\n",
              " 'design',\n",
              " 'desire',\n",
              " 'desperate',\n",
              " 'despite',\n",
              " 'destroy',\n",
              " 'detective',\n",
              " 'determined',\n",
              " 'develop',\n",
              " 'developed',\n",
              " 'development',\n",
              " 'device',\n",
              " 'devil',\n",
              " 'dialog',\n",
              " 'dialogue',\n",
              " 'dick',\n",
              " 'did',\n",
              " 'didn',\n",
              " 'didn know',\n",
              " 'die',\n",
              " 'died',\n",
              " 'difference',\n",
              " 'different',\n",
              " 'difficult',\n",
              " 'dimensional',\n",
              " 'direct',\n",
              " 'directed',\n",
              " 'directing',\n",
              " 'direction',\n",
              " 'director',\n",
              " 'dirty',\n",
              " 'disappointed',\n",
              " 'disappointing',\n",
              " 'disappointment',\n",
              " 'disaster',\n",
              " 'discover',\n",
              " 'discovers',\n",
              " 'disney',\n",
              " 'display',\n",
              " 'disturbing',\n",
              " 'doctor',\n",
              " 'documentary',\n",
              " 'doe',\n",
              " 'doesn',\n",
              " 'doesn make',\n",
              " 'doesn work',\n",
              " 'dog',\n",
              " 'doing',\n",
              " 'dollar',\n",
              " 'don',\n",
              " 'don know',\n",
              " 'don like',\n",
              " 'don really',\n",
              " 'don think',\n",
              " 'don want',\n",
              " 'don waste',\n",
              " 'don waste time',\n",
              " 'don watch',\n",
              " 'donald',\n",
              " 'door',\n",
              " 'double',\n",
              " 'doubt',\n",
              " 'douglas',\n",
              " 'dozen',\n",
              " 'drag',\n",
              " 'drama',\n",
              " 'dramatic',\n",
              " 'draw',\n",
              " 'drawn',\n",
              " 'dreadful',\n",
              " 'dream',\n",
              " 'dress',\n",
              " 'dressed',\n",
              " 'drive',\n",
              " 'driving',\n",
              " 'drop',\n",
              " 'drug',\n",
              " 'drunk',\n",
              " 'dry',\n",
              " 'dubbed',\n",
              " 'dude',\n",
              " 'dull',\n",
              " 'dumb',\n",
              " 'dvd',\n",
              " 'dying',\n",
              " 'earlier',\n",
              " 'early',\n",
              " 'earth',\n",
              " 'easily',\n",
              " 'easy',\n",
              " 'eat',\n",
              " 'eating',\n",
              " 'edge',\n",
              " 'edited',\n",
              " 'editing',\n",
              " 'edward',\n",
              " 'effect',\n",
              " 'effective',\n",
              " 'effort',\n",
              " 'element',\n",
              " 'embarrassing',\n",
              " 'emotion',\n",
              " 'emotional',\n",
              " 'emotionally',\n",
              " 'encounter',\n",
              " 'end',\n",
              " 'end film',\n",
              " 'end movie',\n",
              " 'ended',\n",
              " 'ending',\n",
              " 'enemy',\n",
              " 'energy',\n",
              " 'engaging',\n",
              " 'england',\n",
              " 'english',\n",
              " 'enjoy',\n",
              " 'enjoyable',\n",
              " 'enjoyed',\n",
              " 'enter',\n",
              " 'entertained',\n",
              " 'entertaining',\n",
              " 'entertainment',\n",
              " 'entire',\n",
              " 'entire movie',\n",
              " 'entirely',\n",
              " 'epic',\n",
              " 'episode',\n",
              " 'equally',\n",
              " 'era',\n",
              " 'erotic',\n",
              " 'escape',\n",
              " 'especially',\n",
              " 'essentially',\n",
              " 'established',\n",
              " 'europe',\n",
              " 'european',\n",
              " 'event',\n",
              " 'eventually',\n",
              " 'everybody',\n",
              " 'evidence',\n",
              " 'evil',\n",
              " 'exactly',\n",
              " 'example',\n",
              " 'excellent',\n",
              " 'exception',\n",
              " 'excited',\n",
              " 'excitement',\n",
              " 'exciting',\n",
              " 'excuse',\n",
              " 'executed',\n",
              " 'execution',\n",
              " 'exist',\n",
              " 'existence',\n",
              " 'expect',\n",
              " 'expectation',\n",
              " 'expected',\n",
              " 'expecting',\n",
              " 'experience',\n",
              " 'experiment',\n",
              " 'expert',\n",
              " 'explain',\n",
              " 'explained',\n",
              " 'explanation',\n",
              " 'expression',\n",
              " 'extent',\n",
              " 'extra',\n",
              " 'extreme',\n",
              " 'extremely',\n",
              " 'eye',\n",
              " 'face',\n",
              " 'fact',\n",
              " 'factor',\n",
              " 'fail',\n",
              " 'failed',\n",
              " 'fails',\n",
              " 'failure',\n",
              " 'fair',\n",
              " 'fairly',\n",
              " 'faith',\n",
              " 'fake',\n",
              " 'fall',\n",
              " 'fall love',\n",
              " 'falling',\n",
              " 'fame',\n",
              " 'familiar',\n",
              " 'family',\n",
              " 'famous',\n",
              " 'fan',\n",
              " 'fantastic',\n",
              " 'fantasy',\n",
              " 'far',\n",
              " 'fascinating',\n",
              " 'fashion',\n",
              " 'fast',\n",
              " 'fat',\n",
              " 'fate',\n",
              " 'father',\n",
              " 'fault',\n",
              " 'favor',\n",
              " 'favorite',\n",
              " 'favourite',\n",
              " 'fear',\n",
              " 'feature',\n",
              " 'featuring',\n",
              " 'feel',\n",
              " 'feel like',\n",
              " 'feeling',\n",
              " 'fell',\n",
              " 'fellow',\n",
              " 'felt',\n",
              " 'felt like',\n",
              " 'female',\n",
              " 'festival',\n",
              " 'fiction',\n",
              " 'field',\n",
              " 'fight',\n",
              " 'fight scene',\n",
              " 'fighting',\n",
              " 'figure',\n",
              " 'figured',\n",
              " 'filled',\n",
              " 'film',\n",
              " 'film director',\n",
              " 'film doe',\n",
              " 'film festival',\n",
              " 'film film',\n",
              " 'film good',\n",
              " 'film great',\n",
              " 'film just',\n",
              " 'film like',\n",
              " 'film look',\n",
              " 'film make',\n",
              " 'film maker',\n",
              " 'film making',\n",
              " 'film really',\n",
              " 'film seen',\n",
              " 'film story',\n",
              " 'film time',\n",
              " 'film way',\n",
              " 'filmed',\n",
              " 'filming',\n",
              " 'filmmaker',\n",
              " 'final',\n",
              " 'final scene',\n",
              " 'finale',\n",
              " 'finally',\n",
              " 'finding',\n",
              " 'fine',\n",
              " 'finish',\n",
              " 'finished',\n",
              " 'fit',\n",
              " 'flash',\n",
              " 'flashback',\n",
              " 'flat',\n",
              " 'flaw',\n",
              " 'flesh',\n",
              " 'flick',\n",
              " 'floor',\n",
              " 'flow',\n",
              " 'flower',\n",
              " 'fly',\n",
              " 'flying',\n",
              " 'focus',\n",
              " 'focused',\n",
              " 'folk',\n",
              " 'follow',\n",
              " 'followed',\n",
              " 'following',\n",
              " 'follows',\n",
              " 'food',\n",
              " 'fool',\n",
              " 'foot',\n",
              " 'footage',\n",
              " 'force',\n",
              " 'forced',\n",
              " 'forever',\n",
              " 'forget',\n",
              " 'forgotten',\n",
              " 'form',\n",
              " 'formula',\n",
              " 'fortunately',\n",
              " 'forward',\n",
              " 'fox',\n",
              " 'frame',\n",
              " 'france',\n",
              " 'frank',\n",
              " 'frankly',\n",
              " 'free',\n",
              " 'freedom',\n",
              " 'french',\n",
              " 'fresh',\n",
              " 'friend',\n",
              " 'friendship',\n",
              " 'fully',\n",
              " 'fun',\n",
              " 'fun watch',\n",
              " 'funniest',\n",
              " 'funny',\n",
              " 'future',\n",
              " 'gag',\n",
              " 'game',\n",
              " 'gang',\n",
              " 'gangster',\n",
              " 'garbage',\n",
              " 'gary',\n",
              " 'gave',\n",
              " 'gay',\n",
              " 'gem',\n",
              " 'gene',\n",
              " 'general',\n",
              " 'generally',\n",
              " 'generation',\n",
              " 'genius',\n",
              " 'genre',\n",
              " 'george',\n",
              " 'german',\n",
              " 'getting',\n",
              " 'ghost',\n",
              " 'giant',\n",
              " 'girl',\n",
              " 'girlfriend',\n",
              " 'given',\n",
              " 'giving',\n",
              " 'glad',\n",
              " 'glass',\n",
              " 'god',\n",
              " 'going',\n",
              " 'gold',\n",
              " 'gone',\n",
              " 'gonna',\n",
              " 'good',\n",
              " 'good acting',\n",
              " 'good actor',\n",
              " 'good film',\n",
              " 'good guy',\n",
              " 'good job',\n",
              " 'good movie',\n",
              " 'good story',\n",
              " 'good thing',\n",
              " 'gore',\n",
              " 'gorgeous',\n",
              " 'got',\n",
              " 'gotten',\n",
              " 'government',\n",
              " 'grab',\n",
              " 'grace',\n",
              " 'grade',\n",
              " 'grand',\n",
              " 'graphic',\n",
              " 'great',\n",
              " 'great acting',\n",
              " 'great film',\n",
              " 'great movie',\n",
              " 'greatest',\n",
              " 'green',\n",
              " 'grew',\n",
              " 'gritty',\n",
              " 'ground',\n",
              " 'group',\n",
              " 'grow',\n",
              " 'growing',\n",
              " 'grown',\n",
              " 'guard',\n",
              " 'guess',\n",
              " 'guilty',\n",
              " 'gun',\n",
              " 'gut',\n",
              " 'guy',\n",
              " 'hadn',\n",
              " 'hair',\n",
              " 'half',\n",
              " 'half hour',\n",
              " 'hall',\n",
              " 'hand',\n",
              " 'handle',\n",
              " 'handsome',\n",
              " 'hanging',\n",
              " 'happen',\n",
              " 'happened',\n",
              " 'happening',\n",
              " 'happens',\n",
              " 'happy',\n",
              " 'hard',\n",
              " 'hardly',\n",
              " 'harris',\n",
              " 'harry',\n",
              " 'hasn',\n",
              " 'hat',\n",
              " 'hate',\n",
              " 'hated',\n",
              " 'haunted',\n",
              " 'haven',\n",
              " 'haven seen',\n",
              " 'having',\n",
              " 'having seen',\n",
              " 'head',\n",
              " 'headed',\n",
              " 'hear',\n",
              " 'heard',\n",
              " 'hearing',\n",
              " 'heart',\n",
              " 'heaven',\n",
              " 'heavily',\n",
              " 'heavy',\n",
              " 'held',\n",
              " 'hell',\n",
              " 'help',\n",
              " 'helped',\n",
              " 'hero',\n",
              " 'heroine',\n",
              " 'hey',\n",
              " 'hidden',\n",
              " 'hide',\n",
              " 'high',\n",
              " 'high school',\n",
              " 'higher',\n",
              " 'highlight',\n",
              " 'highly',\n",
              " 'highly recommend',\n",
              " 'hilarious',\n",
              " 'hill',\n",
              " 'hint',\n",
              " 'hire',\n",
              " 'historical',\n",
              " 'history',\n",
              " 'hit',\n",
              " 'hoffman',\n",
              " 'hold',\n",
              " 'holding',\n",
              " 'hole',\n",
              " 'hollywood',\n",
              " 'home',\n",
              " 'honest',\n",
              " 'honestly',\n",
              " 'honesty',\n",
              " 'hope',\n",
              " 'hoping',\n",
              " 'horrible',\n",
              " 'horror',\n",
              " 'horror film',\n",
              " 'horror movie',\n",
              " 'horse',\n",
              " 'hospital',\n",
              " 'hot',\n",
              " 'hotel',\n",
              " 'hour',\n",
              " 'house',\n",
              " 'howard',\n",
              " 'huge',\n",
              " 'human',\n",
              " 'humanity',\n",
              " 'humor',\n",
              " 'humorous',\n",
              " 'humour',\n",
              " 'hunter',\n",
              " 'hurt',\n",
              " 'husband',\n",
              " 'ice',\n",
              " 'idea',\n",
              " 'identity',\n",
              " 'idiot',\n",
              " 'ill',\n",
              " 'image',\n",
              " 'imagination',\n",
              " 'imagine',\n",
              " 'imdb',\n",
              " 'immediately',\n",
              " 'impact',\n",
              " 'important',\n",
              " 'impossible',\n",
              " 'impressed',\n",
              " 'impression',\n",
              " 'impressive',\n",
              " 'include',\n",
              " 'included',\n",
              " 'includes',\n",
              " 'including',\n",
              " 'incredible',\n",
              " 'incredibly',\n",
              " 'independent',\n",
              " 'indian',\n",
              " 'individual',\n",
              " 'industry',\n",
              " 'inept',\n",
              " 'influence',\n",
              " 'information',\n",
              " 'initial',\n",
              " 'innocent',\n",
              " 'insane',\n",
              " 'inside',\n",
              " 'inspiration',\n",
              " 'inspired',\n",
              " 'instance',\n",
              " 'instead',\n",
              " 'intellectual',\n",
              " 'intelligence',\n",
              " 'intelligent',\n",
              " 'intended',\n",
              " 'intense',\n",
              " 'intention',\n",
              " 'interaction',\n",
              " 'interested',\n",
              " 'interesting',\n",
              " 'interpretation',\n",
              " 'interview',\n",
              " 'intriguing',\n",
              " 'involved',\n",
              " 'involves',\n",
              " 'involving',\n",
              " 'irritating',\n",
              " 'island',\n",
              " 'isn',\n",
              " 'issue',\n",
              " 'italian',\n",
              " 'jack',\n",
              " 'james',\n",
              " 'jane',\n",
              " 'japan',\n",
              " 'japanese',\n",
              " 'jason',\n",
              " 'jaw',\n",
              " 'jean',\n",
              " 'jerry',\n",
              " 'jim',\n",
              " 'joan',\n",
              " 'job',\n",
              " 'joe',\n",
              " 'john',\n",
              " 'join',\n",
              " 'joke',\n",
              " 'jones',\n",
              " 'journey',\n",
              " 'joy',\n",
              " 'judge',\n",
              " 'jump',\n",
              " 'just',\n",
              " 'just bad',\n",
              " 'just didn',\n",
              " 'just don',\n",
              " 'just like',\n",
              " 'just make',\n",
              " 'just plain',\n",
              " 'justice',\n",
              " 'keeping',\n",
              " 'kept',\n",
              " 'key',\n",
              " 'kick',\n",
              " 'kid',\n",
              " 'kill',\n",
              " 'killed',\n",
              " 'killer',\n",
              " 'killing',\n",
              " 'kind',\n",
              " 'kind movie',\n",
              " 'kinda',\n",
              " 'king',\n",
              " 'kiss',\n",
              " 'knew',\n",
              " 'know',\n",
              " 'knowing',\n",
              " 'knowledge',\n",
              " 'known',\n",
              " 'kong',\n",
              " 'kurt',\n",
              " 'lack',\n",
              " 'lacking',\n",
              " 'lady',\n",
              " 'lame',\n",
              " 'land',\n",
              " 'landscape',\n",
              " 'language',\n",
              " 'large',\n",
              " 'largely',\n",
              " 'late',\n",
              " 'later',\n",
              " 'laugh',\n",
              " 'laughable',\n",
              " 'laughed',\n",
              " 'laughing',\n",
              " ...]"
            ]
          },
          "metadata": {},
          "execution_count": 51
        }
      ]
    },
    {
      "cell_type": "code",
      "metadata": {
        "colab": {
          "base_uri": "https://localhost:8080/"
        },
        "id": "iXzXBK--gc2D",
        "outputId": "5ec132cc-9044-45f0-d8a3-a8592209b6ba"
      },
      "source": [
        "# contenemos n gramas > 1\n",
        "cont = 0\n",
        "for feature in vectorizer.get_feature_names():\n",
        "    if ( len(feature.split(' ')) > 1 ):\n",
        "         cont+= 1\n",
        "\n",
        "print(cont)"
      ],
      "execution_count": 52,
      "outputs": [
        {
          "output_type": "stream",
          "name": "stdout",
          "text": [
            "173\n"
          ]
        }
      ]
    },
    {
      "cell_type": "markdown",
      "metadata": {
        "id": "QBVhmizd4f7L"
      },
      "source": [
        "### Bayes Ingenuo Binomial "
      ]
    },
    {
      "cell_type": "code",
      "metadata": {
        "id": "IsDJC9vE4Z8K"
      },
      "source": [
        "from sklearn.naive_bayes import BernoulliNB\n",
        "\n",
        "from sklearn.model_selection import train_test_split\n",
        "from sklearn.metrics import roc_curve\n",
        "from sklearn.metrics import plot_confusion_matrix\n",
        "from sklearn.metrics import precision_recall_curve, auc, average_precision_score\n",
        "\n",
        "\n",
        "def NBC(x_train, y_train, x_val, y_val, x_test, y_test):\n",
        "\n",
        "    clf = BernoulliNB(alpha=1) # suavisamiento laplasiano, lo de los priors. (diapo 25 tema 3). \"Que algo no ha pasado no quiere decir que no vaya a ocurrrir\" \n",
        "    clf.fit(x_train, y_train) # ajustar con datos de entrenamiento \n",
        "\n",
        "    s_train = clf.score(x_train, y_train)\n",
        "\n",
        "    print(\"Score Train: \", s_train)\n",
        "\n",
        "    scores_val = clf.predict_proba(x_val)[:,1]\n",
        "    labels = clf.classes_\n",
        "    pos_class = labels[1]\n",
        "\n",
        "    fpr_, tpr_, thresholds_ = roc_curve(y_val, scores_val, pos_label=pos_class) \n",
        "    precision_, recall_, thrs_ = precision_recall_curve(y_val, scores_val, pos_label=pos_class)\n",
        "\n",
        "    auc_ = auc(fpr_, tpr_) # area bajo la curva ROC\n",
        "    aupr_ = average_precision_score(y_val, scores_val, pos_label=pos_class)  # area bajo la curva PR\n",
        "\n",
        "    print(\"\\n Positive Class is: %s\"%pos_class)\n",
        "    print(\"AUC is %f\"%auc_) \n",
        "    print(\"AUPR is %f\"%aupr_)\n",
        "\n",
        "    fig, ax = plt.subplots(figsize=(18,5),nrows=1)\n",
        "    plt.plot([0, 1], [0, 1], 'k--')\n",
        "    plt.plot(fpr_, tpr_, label='BNB')\n",
        "    ax.set_title(\"ROC Curve\")\n",
        "    ax.set_xlabel(\"False Positive Rate (1-Especificidad)\")\n",
        "    ax.set_ylabel(\"True Positive Rate (Recall)\")\n",
        "    plt.legend(loc='best')\n",
        "    plt.show()\n",
        "\n",
        "    fig, ax = plt.subplots(figsize=(18,5),nrows=1)\n",
        "    plt.plot(recall_, precision_, label='BNB')\n",
        "    ax.set_title(\"PR Curve\")\n",
        "    ax.set_xlabel(\"Precision\")\n",
        "    ax.set_ylabel(\"Recall\")\n",
        "    plt.legend(loc='best')\n",
        "    plt.show()\n",
        "\n",
        "    print(\"\\n\")\n",
        "    disp = plot_confusion_matrix(clf, x_test, y_test, display_labels=labels, cmap=plt.cm.Blues,normalize='all')\n",
        "    disp.ax_.set_title(\"confusion BNB Test\")\n",
        "\n",
        "    print(disp.confusion_matrix)\n",
        "\n",
        "\n",
        "    # Curva ROC: mientras mas area mejor. Deberia estar pegada al escalon de 0 a 1 (eje y) al inicio\n",
        "    # un clasificador trivial obtiene la diagonal, por eso se grafica con al curva ROC. Cualquier cosa sobre la linea es mejor que aleatorio. \n",
        "    # Si la tasa de False Positivo es 60%, la tasa de Verdaderos negativos seria de 40%\n",
        "\n",
        "    # Curva PR: mientras mas area mejor, deberia estar pegada al escalon de 1 a 0 (eje y) al final\n"
      ],
      "execution_count": 53,
      "outputs": []
    },
    {
      "cell_type": "code",
      "metadata": {
        "colab": {
          "base_uri": "https://localhost:8080/",
          "height": 1000
        },
        "id": "VJDpEHAo5MRU",
        "outputId": "0e261941-96e9-4049-f37f-297b840cdb96"
      },
      "source": [
        "NBC(binary_train, y_train, binary_val, y_val, binary_test, y_test)\n"
      ],
      "execution_count": 54,
      "outputs": [
        {
          "output_type": "stream",
          "name": "stdout",
          "text": [
            "Score Train:  0.8829872204472844\n",
            "\n",
            " Positive Class is: pos\n",
            "AUC is 0.897119\n",
            "AUPR is 0.898908\n"
          ]
        },
        {
          "output_type": "display_data",
          "data": {
            "image/png": "[encoded data removed]",
            "text/plain": [
              "<Figure size 1296x360 with 1 Axes>"
            ]
          },
          "metadata": {
            "needs_background": "light"
          }
        },
        {
          "output_type": "display_data",
          "data": {
            "image/png": "[encoded data removed]",
            "text/plain": [
              "<Figure size 1296x360 with 1 Axes>"
            ]
          },
          "metadata": {
            "needs_background": "light"
          }
        },
        {
          "output_type": "stream",
          "name": "stdout",
          "text": [
            "\n",
            "\n",
            "[[0.42901961 0.08392157]\n",
            " [0.07843137 0.40862745]]\n"
          ]
        },
        {
          "output_type": "display_data",
          "data": {
            "image/png": "[encoded data removed]",
            "text/plain": [
              "<Figure size 432x288 with 2 Axes>"
            ]
          },
          "metadata": {
            "needs_background": "light"
          }
        }
      ]
    },
    {
      "cell_type": "markdown",
      "metadata": {
        "id": "e-bD3UbN15m8"
      },
      "source": [
        "## Representación TF (Número de veces que una palabra está) (Representacion discreta)"
      ]
    },
    {
      "cell_type": "code",
      "metadata": {
        "colab": {
          "base_uri": "https://localhost:8080/"
        },
        "id": "IjH7DyWi3b6J",
        "outputId": "0f3793f6-f30b-43a9-fd5e-f2a57e7da9bb"
      },
      "source": [
        "# antes de todo almacenamos las etiquetas (pos o neg) correspondiente a cada ejemplo de entrenamiento\n",
        "y_train = data_train['label']\n",
        "\n",
        "# y almacenamos las etiquetas correspondientes al conjunto de testing\n",
        "y_test = data_test['label']\n",
        "\n",
        "print(y_train.shape, y_test.shape)"
      ],
      "execution_count": 30,
      "outputs": [
        {
          "output_type": "stream",
          "name": "stdout",
          "text": [
            "(2504,) (2549,)\n"
          ]
        }
      ]
    },
    {
      "cell_type": "code",
      "metadata": {
        "colab": {
          "base_uri": "https://localhost:8080/"
        },
        "id": "y_4_1nx62A8K",
        "outputId": "10f84536-4401-4238-8d9b-0c02e8517625"
      },
      "source": [
        "from sklearn.feature_extraction.text import TfidfVectorizer \n",
        "\n",
        "ngram_max =1\n",
        "max_features = 10000 # limitar el numero de caracteristicas a utilizar, las 10 mil palabras o combinaciones de palabras mas frecuentes\n",
        "max_df=0.8\n",
        "min_df=1\n",
        "\n",
        "vectorizer = CountVectorizer(stop_words='english',tokenizer=my_pre_processer,min_df=min_df, max_df=max_df, max_features=max_features,\n",
        "                              binary=False, ngram_range=(1, ngram_max)) # ahora, Binary es False \n",
        "\n",
        "vectorizer.fit(data_train['review']) # fitear el vectorizer solo con data_train  \n",
        "\n",
        "discrete_train = vectorizer.transform(data_train['review']) # aplicar la transformacion a data_train para obtener discrete_train\n",
        "\n",
        "########################################################################################\n",
        "\n",
        "#Aprovechamos de crear datos para validacion. Para ello dividimos data_test en 2 subconjuntos: uno para validacion y otro para test.  \n",
        "\n",
        "x_val, x_test, y_val, y_test = train_test_split(data_test, y_test, test_size=0.5, random_state=42) # defimos un validation set\n",
        "\n",
        "# aplicamos el vectorizer \"fiteado\" a los nuevos subconjuntos\n",
        "discrete_val = vectorizer.transform(x_val['review']) # datos de validacion\n",
        "discrete_test = vectorizer.transform(x_test['review']) # datos de test \n",
        "\n",
        "print(\"\\nX,y Train Shapes:\", discrete_train.shape, y_train.shape)\n",
        "print(\"X,y Val Shapes:\", discrete_val.shape, y_val.shape)\n",
        "print(\"X,y Test Shapes:\", discrete_test.shape, y_test.shape)"
      ],
      "execution_count": 31,
      "outputs": [
        {
          "output_type": "stream",
          "name": "stderr",
          "text": [
            "/usr/local/lib/python3.7/dist-packages/sklearn/feature_extraction/text.py:507: UserWarning: The parameter 'token_pattern' will not be used since 'tokenizer' is not None'\n",
            "  warnings.warn(\"The parameter 'token_pattern' will not be used\"\n"
          ]
        },
        {
          "output_type": "stream",
          "name": "stdout",
          "text": [
            "\n",
            "X,y Train Shapes: (2504, 10000) (2504,)\n",
            "X,y Val Shapes: (1274, 10000) (1274,)\n",
            "X,y Test Shapes: (1275, 10000) (1275,)\n"
          ]
        }
      ]
    },
    {
      "cell_type": "code",
      "metadata": {
        "colab": {
          "base_uri": "https://localhost:8080/"
        },
        "id": "YdnyBvjhBZfQ",
        "outputId": "8035aa74-1ea1-4dcc-e6cc-8c5abda4d7fd"
      },
      "source": [
        "# veamos algunos valores de la matriz\n",
        "print(np.max(discrete_train)) # el maximo \n",
        "print(np.min(discrete_train[np.nonzero(discrete_train)])) # el minimo"
      ],
      "execution_count": 32,
      "outputs": [
        {
          "output_type": "stream",
          "name": "stdout",
          "text": [
            "30\n",
            "1\n"
          ]
        }
      ]
    },
    {
      "cell_type": "markdown",
      "metadata": {
        "id": "cY4wzpo04sBC"
      },
      "source": [
        "### Bayes Ingenuo Binomial \n",
        "\n",
        "¿tiene sentido usar este modelo con esta representación?"
      ]
    },
    {
      "cell_type": "code",
      "metadata": {
        "colab": {
          "base_uri": "https://localhost:8080/",
          "height": 1000
        },
        "id": "MnmxEULY5QPR",
        "outputId": "cea3d1c7-cf7f-41b9-ccb5-93c14a060641"
      },
      "source": [
        "NBC(discrete_train, y_train, discrete_val, y_val, discrete_test, y_test)\n"
      ],
      "execution_count": 33,
      "outputs": [
        {
          "output_type": "stream",
          "name": "stdout",
          "text": [
            "Score Train:  0.9361022364217252\n",
            "\n",
            " Positive Class is: pos\n",
            "AUC is 0.887268\n",
            "AUPR is 0.887607\n"
          ]
        },
        {
          "output_type": "display_data",
          "data": {
            "image/png": "[encoded data removed]",
            "text/plain": [
              "<Figure size 1296x360 with 1 Axes>"
            ]
          },
          "metadata": {
            "needs_background": "light"
          }
        },
        {
          "output_type": "display_data",
          "data": {
            "image/png": "[encoded data removed]",
            "text/plain": [
              "<Figure size 1296x360 with 1 Axes>"
            ]
          },
          "metadata": {
            "needs_background": "light"
          }
        },
        {
          "output_type": "stream",
          "name": "stdout",
          "text": [
            "\n",
            "\n",
            "[[0.44705882 0.06588235]\n",
            " [0.13019608 0.35686275]]\n"
          ]
        },
        {
          "output_type": "display_data",
          "data": {
            "image/png": "[encoded data removed]",
            "text/plain": [
              "<Figure size 432x288 with 2 Axes>"
            ]
          },
          "metadata": {
            "needs_background": "light"
          }
        }
      ]
    },
    {
      "cell_type": "markdown",
      "metadata": {
        "id": "Rc2I0dHP6Oic"
      },
      "source": [
        "## Representación TF-IDF"
      ]
    },
    {
      "cell_type": "code",
      "metadata": {
        "colab": {
          "base_uri": "https://localhost:8080/"
        },
        "id": "kYfm8MVG6Xw3",
        "outputId": "e614bd8a-84ce-4f66-e38f-99008f3ee487"
      },
      "source": [
        "# antes de todo almacenamos las etiquetas (pos o neg) correspondiente a cada ejemplo de entrenamiento\n",
        "y_train = data_train['label']\n",
        "\n",
        "# y almacenamos las etiquetas correspondientes al conjunto de testing\n",
        "y_test = data_test['label']\n",
        "\n",
        "print(y_train.shape, y_test.shape)"
      ],
      "execution_count": 34,
      "outputs": [
        {
          "output_type": "stream",
          "name": "stdout",
          "text": [
            "(2504,) (2549,)\n"
          ]
        }
      ]
    },
    {
      "cell_type": "code",
      "metadata": {
        "colab": {
          "base_uri": "https://localhost:8080/"
        },
        "id": "amaXsgsr6NuU",
        "outputId": "2a34f2c8-9529-4e56-ec73-295717668f85"
      },
      "source": [
        "## lo que tenemos es que no solo contamos el numero de veces que aparece cada palabra, sino que vamos a corregir ese contador \n",
        "#  por lo que se llama \"frecuencia inversa del documento\" => si una palabra aparece en muchos textos, es muy probable que no sea una palabra \n",
        "#  que contiene informacion sobre la clase o sobre las caracteristicas de un texto especifico, \"casi un stop word\".\n",
        "# Se pesa de manera inversa al su aparicion en el corpus. Los atributos ahora son números reales.\n",
        "\n",
        "ngram_max = 1\n",
        "max_features = 10000 # 10mil numeros reales\n",
        "max_df=0.8\n",
        "min_df=1\n",
        "\n",
        "vectorizer = TfidfVectorizer(stop_words='english',tokenizer=my_pre_processer,min_df=min_df, max_df=max_df, max_features=max_features,\n",
        "                              binary=False, use_idf=True, smooth_idf=True, norm=None, ngram_range=(1, ngram_max))\n",
        "\n",
        "vectorizer.fit(data_train['review'])\n",
        "\n",
        "vector_train = vectorizer.transform(data_train['review'])\n",
        "\n",
        "########################################################################################\n",
        "\n",
        "#Aprovechamos de crear datos para validacion. Para ello dividimos data_test en 2 subconjuntos: uno para validacion y otro para test.  \n",
        "\n",
        "x_val, x_test, y_val, y_test = train_test_split(data_test, y_test, test_size=0.5, random_state=42) # defimos un validation set\n",
        "\n",
        "# aplicamos el vectorizer \"fiteado\" a los nuevos subconjuntos\n",
        "vector_val = vectorizer.transform(x_val['review']) # datos de validacion\n",
        "vector_test = vectorizer.transform(x_test['review']) # datos de test \n",
        "\n",
        "print(\"\\nX,y Train Shapes:\", vector_train.shape, y_train.shape)\n",
        "print(\"X,y Val Shapes:\", vector_val.shape, y_val.shape)\n",
        "print(\"X,y Test Shapes:\", vector_test.shape, y_test.shape)"
      ],
      "execution_count": 35,
      "outputs": [
        {
          "output_type": "stream",
          "name": "stderr",
          "text": [
            "/usr/local/lib/python3.7/dist-packages/sklearn/feature_extraction/text.py:507: UserWarning: The parameter 'token_pattern' will not be used since 'tokenizer' is not None'\n",
            "  warnings.warn(\"The parameter 'token_pattern' will not be used\"\n"
          ]
        },
        {
          "output_type": "stream",
          "name": "stdout",
          "text": [
            "\n",
            "X,y Train Shapes: (2504, 10000) (2504,)\n",
            "X,y Val Shapes: (1274, 10000) (1274,)\n",
            "X,y Test Shapes: (1275, 10000) (1275,)\n"
          ]
        }
      ]
    },
    {
      "cell_type": "code",
      "metadata": {
        "colab": {
          "base_uri": "https://localhost:8080/"
        },
        "id": "rY6Wyh6R91VZ",
        "outputId": "9285fef2-006e-4a92-d951-ec25095a34d2"
      },
      "source": [
        "# veamos algunos valores de la matriz\n",
        "print(np.max(vector_train)) # el maximo \n",
        "print(np.min(vector_train[np.nonzero(vector_train)])) # el minimo"
      ],
      "execution_count": 36,
      "outputs": [
        {
          "output_type": "stream",
          "name": "stdout",
          "text": [
            "178.92373032509843\n",
            "1.4383347744379245\n"
          ]
        }
      ]
    },
    {
      "cell_type": "markdown",
      "metadata": {
        "id": "L_SHmtTn6wwf"
      },
      "source": [
        "### Bayes Ingenuo Binomial \n",
        "\n",
        "¿tiene sentido usar este modelo con esta representación?"
      ]
    },
    {
      "cell_type": "code",
      "metadata": {
        "colab": {
          "base_uri": "https://localhost:8080/",
          "height": 1000
        },
        "id": "xWOHOySK6Nwx",
        "outputId": "cf4214cf-bf39-4da1-d631-583e2d8a06b3"
      },
      "source": [
        "NBC(vector_train, y_train, vector_val, y_val, vector_test, y_test)\n"
      ],
      "execution_count": 37,
      "outputs": [
        {
          "output_type": "stream",
          "name": "stdout",
          "text": [
            "Score Train:  0.9361022364217252\n",
            "\n",
            " Positive Class is: pos\n",
            "AUC is 0.887268\n",
            "AUPR is 0.887607\n"
          ]
        },
        {
          "output_type": "display_data",
          "data": {
            "image/png": "[encoded data removed]",
            "text/plain": [
              "<Figure size 1296x360 with 1 Axes>"
            ]
          },
          "metadata": {
            "needs_background": "light"
          }
        },
        {
          "output_type": "display_data",
          "data": {
            "image/png": "[encoded data removed]",
            "text/plain": [
              "<Figure size 1296x360 with 1 Axes>"
            ]
          },
          "metadata": {
            "needs_background": "light"
          }
        },
        {
          "output_type": "stream",
          "name": "stdout",
          "text": [
            "\n",
            "\n",
            "[[0.44705882 0.06588235]\n",
            " [0.13019608 0.35686275]]\n"
          ]
        },
        {
          "output_type": "display_data",
          "data": {
            "image/png": "[encoded data removed]",
            "text/plain": [
              "<Figure size 432x288 with 2 Axes>"
            ]
          },
          "metadata": {
            "needs_background": "light"
          }
        }
      ]
    },
    {
      "cell_type": "markdown",
      "metadata": {
        "id": "Nqc_5L5m1rwo"
      },
      "source": [
        "## Bayes Ingenuo Multinomial"
      ]
    },
    {
      "cell_type": "code",
      "metadata": {
        "colab": {
          "base_uri": "https://localhost:8080/"
        },
        "id": "EkGy6-uj9Kc_",
        "outputId": "27661f7f-cfbb-47a2-fe01-b241f39ee3da"
      },
      "source": [
        "# antes de todo almacenamos las etiquetas (pos o neg) correspondiente a cada ejemplo de entrenamiento\n",
        "y_train = data_train['label']\n",
        "\n",
        "# y almacenamos las etiquetas correspondientes al conjunto de testing\n",
        "y_test = data_test['label']\n",
        "\n",
        "print(y_train.shape, y_test.shape)"
      ],
      "execution_count": 38,
      "outputs": [
        {
          "output_type": "stream",
          "name": "stdout",
          "text": [
            "(2504,) (2549,)\n"
          ]
        }
      ]
    },
    {
      "cell_type": "code",
      "metadata": {
        "colab": {
          "base_uri": "https://localhost:8080/"
        },
        "id": "2Xr5_3rTCN7R",
        "outputId": "9f2da828-8bb4-49b4-a132-99e35ef5feb3"
      },
      "source": [
        "\n",
        "ngram_max =1\n",
        "max_features = 10000 # limitar el numero de caracteristicas a utilizar, las 10 mil palabras o combinaciones de palabras mas frecuentes\n",
        "max_df=0.8\n",
        "min_df=1\n",
        "\n",
        "vectorizer = CountVectorizer(stop_words='english',tokenizer=my_pre_processer,min_df=min_df, max_df=max_df, max_features=max_features,\n",
        "                              binary=False, ngram_range=(1, ngram_max)) # ahora, Binary es False \n",
        "\n",
        "vectorizer.fit(data_train['review']) # fitear el vectorizer solo con data_train  \n",
        "\n",
        "discrete_train = vectorizer.transform(data_train['review']) # aplicar la transformacion a data_train para obtener discrete_train\n",
        "\n",
        "########################################################################################\n",
        "\n",
        "#Aprovechamos de crear datos para validacion. Para ello dividimos data_test en 2 subconjuntos: uno para validacion y otro para test.  \n",
        "\n",
        "x_val, x_test, y_val, y_test = train_test_split(data_test, y_test, test_size=0.5, random_state=42) # defimos un validation set\n",
        "\n",
        "# aplicamos el vectorizer \"fiteado\" a los nuevos subconjuntos\n",
        "discrete_val = vectorizer.transform(x_val['review']) # datos de validacion\n",
        "discrete_test = vectorizer.transform(x_test['review']) # datos de test \n",
        "\n",
        "print(\"\\nX,y Train Shapes:\", discrete_train.shape, y_train.shape)\n",
        "print(\"X,y Val Shapes:\", discrete_val.shape, y_val.shape)\n",
        "print(\"X,y Test Shapes:\", discrete_test.shape, y_test.shape)"
      ],
      "execution_count": 39,
      "outputs": [
        {
          "output_type": "stream",
          "name": "stderr",
          "text": [
            "/usr/local/lib/python3.7/dist-packages/sklearn/feature_extraction/text.py:507: UserWarning: The parameter 'token_pattern' will not be used since 'tokenizer' is not None'\n",
            "  warnings.warn(\"The parameter 'token_pattern' will not be used\"\n"
          ]
        },
        {
          "output_type": "stream",
          "name": "stdout",
          "text": [
            "\n",
            "X,y Train Shapes: (2504, 10000) (2504,)\n",
            "X,y Val Shapes: (1274, 10000) (1274,)\n",
            "X,y Test Shapes: (1275, 10000) (1275,)\n"
          ]
        }
      ]
    },
    {
      "cell_type": "code",
      "metadata": {
        "colab": {
          "base_uri": "https://localhost:8080/",
          "height": 1000
        },
        "id": "vtFD0amG1umi",
        "outputId": "faa3a920-af5c-466a-a857-1604e66fce3c"
      },
      "source": [
        "'''\n",
        "Bayes multinomial trata el texto como secuencia de palabras en vez de bag of words. \n",
        "No cuentan las palabras que no estan en el texto. Solo aquellas que si estan. \n",
        "¿que representación tiene sentido?\n",
        "'''\n",
        "from sklearn.naive_bayes import MultinomialNB\n",
        "\n",
        "clf = MultinomialNB(alpha=1)\n",
        "clf.fit(discrete_train, y_train)\n",
        "\n",
        "\n",
        "s_train = clf.score(discrete_train, y_train)\n",
        "\n",
        "print(\"Score Train: \", s_train)\n",
        "\n",
        "scores_val = clf.predict_proba(discrete_val)[:,1]\n",
        "labels = clf.classes_\n",
        "pos_class = labels[1]\n",
        "\n",
        "fpr_, tpr_, thresholds_ = roc_curve(y_val, scores_val, pos_label=pos_class) \n",
        "precision_, recall_, thrs_ = precision_recall_curve(y_val, scores_val, pos_label=pos_class)\n",
        "\n",
        "auc_ = auc(fpr_, tpr_) # area bajo la curva ROC\n",
        "aupr_ = average_precision_score(y_val, scores_val, pos_label=pos_class)  # area bajo la curva PR\n",
        "\n",
        "print(\"\\n Positive Class is: %s\"%pos_class)\n",
        "print(\"AUC is %f\"%auc_) \n",
        "print(\"AUPR is %f\"%aupr_)\n",
        "\n",
        "fig, ax = plt.subplots(figsize=(18,5),nrows=1)\n",
        "plt.plot([0, 1], [0, 1], 'k--')\n",
        "plt.plot(fpr_, tpr_, label='BNB')\n",
        "ax.set_title(\"ROC Curve\")\n",
        "ax.set_xlabel(\"False Positive Rate (1-Especificidad)\")\n",
        "ax.set_ylabel(\"True Positive Rate (Recall)\")\n",
        "plt.legend(loc='best')\n",
        "plt.show()\n",
        "\n",
        "fig, ax = plt.subplots(figsize=(18,5),nrows=1)\n",
        "plt.plot(recall_, precision_, label='BNB')\n",
        "ax.set_title(\"PR Curve\")\n",
        "ax.set_xlabel(\"Precision\")\n",
        "ax.set_ylabel(\"Recall\")\n",
        "plt.legend(loc='best')\n",
        "plt.show()\n",
        "\n",
        "print(\"\\n\")\n",
        "disp = plot_confusion_matrix(clf, discrete_test, y_test, display_labels=labels, cmap=plt.cm.Blues,normalize='all')\n",
        "disp.ax_.set_title(\"confusion BNB Test\")\n",
        "\n",
        "print(disp.confusion_matrix)"
      ],
      "execution_count": 40,
      "outputs": [
        {
          "output_type": "stream",
          "name": "stdout",
          "text": [
            "Score Train:  0.9365015974440895\n",
            "\n",
            " Positive Class is: pos\n",
            "AUC is 0.870121\n",
            "AUPR is 0.874803\n"
          ]
        },
        {
          "output_type": "display_data",
          "data": {
            "image/png": "[encoded data removed]",
            "text/plain": [
              "<Figure size 1296x360 with 1 Axes>"
            ]
          },
          "metadata": {
            "needs_background": "light"
          }
        },
        {
          "output_type": "display_data",
          "data": {
            "image/png": "[encoded data removed]",
            "text/plain": [
              "<Figure size 1296x360 with 1 Axes>"
            ]
          },
          "metadata": {
            "needs_background": "light"
          }
        },
        {
          "output_type": "stream",
          "name": "stdout",
          "text": [
            "\n",
            "\n",
            "[[0.43137255 0.08156863]\n",
            " [0.13098039 0.35607843]]\n"
          ]
        },
        {
          "output_type": "display_data",
          "data": {
            "image/png": "[encoded data removed]",
            "text/plain": [
              "<Figure size 432x288 with 2 Axes>"
            ]
          },
          "metadata": {
            "needs_background": "light"
          }
        }
      ]
    }
  ]
}