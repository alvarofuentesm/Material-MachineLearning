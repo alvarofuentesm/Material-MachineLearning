{
  "nbformat": 4,
  "nbformat_minor": 0,
  "metadata": {
    "colab": {
      "name": "Ayudantia6 (v1.1)",
      "provenance": [],
      "collapsed_sections": [],
      "toc_visible": true
    },
    "kernelspec": {
      "name": "python3",
      "display_name": "Python 3"
    },
    "language_info": {
      "name": "python"
    }
  },
  "cells": [
    {
      "cell_type": "markdown",
      "metadata": {
        "id": "tcLT6jQtDViG"
      },
      "source": [
        "<center><img src=\"http://www.exalumnos.usm.cl/wp-content/uploads/2015/06/Isotipo-Negro.gif\" title=\"Title text\" width=\"30%\" /></center>\n",
        "\n",
        "<hr style=\"height:2px;border:none\"/>\n",
        "<h1 align='center'> INF-398 Introducción al Aprendizaje Automático  2021-2 </h1>\n",
        "\n",
        "<H3 align='center'> Ayudantía 6: Selección de Características </H3>\n",
        "\n",
        "----\n",
        "\n",
        "<H3 align='center'> <b>Profesor: Ricardo Ñanculef </b> </H3>\n",
        "<H3 align='center'> <b>Ayudantes: Álvaro Fuentes, Mario Mallea </b> </H3>\n",
        "\n",
        "\n",
        "\n",
        "<hr style=\"height:2px;border:none\"/>"
      ]
    },
    {
      "cell_type": "markdown",
      "metadata": {
        "id": "BfnU_xZ7DeYX"
      },
      "source": [
        "# Motivación"
      ]
    },
    {
      "cell_type": "markdown",
      "metadata": {
        "id": "aLkBd-jGDgtx"
      },
      "source": [
        "Como ya pueden ir intuyendo, una adecuada representación de los datos es fundamental para obtener buenos resultados en aprendizaje automático. A grandes rasgos los motivos pueden ser:\n",
        "\n",
        "* Hacer el modelo más comprensible.\n",
        "\n",
        "* Eficiencia computacional en tiempo y espacio.\n",
        "\n",
        "* Lidiar con la maldición de la dimensionalidad.\n",
        "\n",
        "* Evitar overfitting.\n",
        "\n",
        "Los métodos de selección se pueden organizar en 3 grandes grupos#\n",
        "\n",
        "* Métodos tipo Wrapper: utilizar el modelo (o técnica de aprendizaje) como caja negra para *evaluar* el efecto de una variable.\n",
        "\n",
        "* Métodos Embedidos: diseñados específicamente para un tipo de modelo o técnica de aprendizaje.\n",
        "\n",
        "* Métodos de filtrado: asignar un puntaje a cada característica de manera independiente al modelo o técnica. \n",
        "\n",
        "    * Filtrado individual: asociaciones individuales, ignorando efectos en conjunto de atributos. \n",
        "\n",
        "    * Filtrado colectivo: toman en cuenta interacciones entre atributos. \n"
      ]
    },
    {
      "cell_type": "code",
      "metadata": {
        "colab": {
          "base_uri": "https://localhost:8080/"
        },
        "id": "eqd-VgZJPZiz",
        "outputId": "f5f03401-0418-40cf-da09-3afe625221d3"
      },
      "source": [
        "# hacer la conexión a Google Drive\n",
        "\n",
        "from google.colab import drive\n",
        "\n",
        "colab_flag = True\n",
        "\n",
        "path = ''\n",
        "\n",
        "if (colab_flag): # en caso de usar Google Drive\n",
        "    drive.mount('/content/drive')\n",
        "    path = '/content/drive/MyDrive/Machine_Learning'\n",
        "    "
      ],
      "execution_count": 1,
      "outputs": [
        {
          "output_type": "stream",
          "name": "stdout",
          "text": [
            "Mounted at /content/drive\n"
          ]
        }
      ]
    },
    {
      "cell_type": "code",
      "metadata": {
        "id": "tdKEypibRPhR"
      },
      "source": [
        "import numpy as np\n",
        "import matplotlib.pyplot as plt\n",
        "import seaborn as sns\n",
        "import pandas as pd"
      ],
      "execution_count": 2,
      "outputs": []
    },
    {
      "cell_type": "markdown",
      "metadata": {
        "id": "-JCL4SouPu4D"
      },
      "source": [
        "# NASA JPL Asteroid Dataset \n",
        "\n",
        "![Asteroid](https://www.sciencenewsforstudents.org/wp-content/uploads/2019/11/860_meteorite_diamonds.png)\n",
        "\n",
        "Vamos a trabajar sobre un dataset que contiene todo tipo de datos relacionados a asteroides. Los datos provienen del Jet Propulsion Laboratory (organización manejada por NASA) y pueden ser descargados desde: \n",
        "\n",
        "https://www.kaggle.com/sakhawat18/asteroid-dataset\n",
        "\n",
        "El objetivo será  **Predecir la clase de un asteroide** a partir de características numéricas del objeto."
      ]
    },
    {
      "cell_type": "code",
      "metadata": {
        "colab": {
          "base_uri": "https://localhost:8080/"
        },
        "id": "wJFTZQlzDaAp",
        "outputId": "565a3f9e-5ba0-4d08-e997-11340ac1d739"
      },
      "source": [
        "\n",
        "if (colab_flag): \n",
        "    data_asteroid = pd.read_csv(path + '/Asteroid_dataset.csv')\n",
        "else: \n",
        "    data_asteroid = pd.read_csv('Asteroid_dataset.csv')"
      ],
      "execution_count": 3,
      "outputs": [
        {
          "output_type": "stream",
          "name": "stderr",
          "text": [
            "/usr/local/lib/python3.7/dist-packages/IPython/core/interactiveshell.py:2718: DtypeWarning: Columns (3,4,5) have mixed types.Specify dtype option on import or set low_memory=False.\n",
            "  interactivity=interactivity, compiler=compiler, result=result)\n"
          ]
        }
      ]
    },
    {
      "cell_type": "code",
      "metadata": {
        "colab": {
          "base_uri": "https://localhost:8080/",
          "height": 326
        },
        "id": "8OpzGvclDUZw",
        "outputId": "5ebe27c4-d313-4b91-a515-8d59d2527306"
      },
      "source": [
        "print(data_asteroid.shape)\n",
        "data_asteroid.head()"
      ],
      "execution_count": 4,
      "outputs": [
        {
          "output_type": "stream",
          "name": "stdout",
          "text": [
            "(958524, 45)\n"
          ]
        },
        {
          "output_type": "execute_result",
          "data": {
            "text/html": [
              "<div>\n",
              "<style scoped>\n",
              "    .dataframe tbody tr th:only-of-type {\n",
              "        vertical-align: middle;\n",
              "    }\n",
              "\n",
              "    .dataframe tbody tr th {\n",
              "        vertical-align: top;\n",
              "    }\n",
              "\n",
              "    .dataframe thead th {\n",
              "        text-align: right;\n",
              "    }\n",
              "</style>\n",
              "<table border=\"1\" class=\"dataframe\">\n",
              "  <thead>\n",
              "    <tr style=\"text-align: right;\">\n",
              "      <th></th>\n",
              "      <th>id</th>\n",
              "      <th>spkid</th>\n",
              "      <th>full_name</th>\n",
              "      <th>pdes</th>\n",
              "      <th>name</th>\n",
              "      <th>prefix</th>\n",
              "      <th>neo</th>\n",
              "      <th>pha</th>\n",
              "      <th>H</th>\n",
              "      <th>diameter</th>\n",
              "      <th>albedo</th>\n",
              "      <th>diameter_sigma</th>\n",
              "      <th>orbit_id</th>\n",
              "      <th>epoch</th>\n",
              "      <th>epoch_mjd</th>\n",
              "      <th>epoch_cal</th>\n",
              "      <th>equinox</th>\n",
              "      <th>e</th>\n",
              "      <th>a</th>\n",
              "      <th>q</th>\n",
              "      <th>i</th>\n",
              "      <th>om</th>\n",
              "      <th>w</th>\n",
              "      <th>ma</th>\n",
              "      <th>ad</th>\n",
              "      <th>n</th>\n",
              "      <th>tp</th>\n",
              "      <th>tp_cal</th>\n",
              "      <th>per</th>\n",
              "      <th>per_y</th>\n",
              "      <th>moid</th>\n",
              "      <th>moid_ld</th>\n",
              "      <th>sigma_e</th>\n",
              "      <th>sigma_a</th>\n",
              "      <th>sigma_q</th>\n",
              "      <th>sigma_i</th>\n",
              "      <th>sigma_om</th>\n",
              "      <th>sigma_w</th>\n",
              "      <th>sigma_ma</th>\n",
              "      <th>sigma_ad</th>\n",
              "      <th>sigma_n</th>\n",
              "      <th>sigma_tp</th>\n",
              "      <th>sigma_per</th>\n",
              "      <th>class</th>\n",
              "      <th>rms</th>\n",
              "    </tr>\n",
              "  </thead>\n",
              "  <tbody>\n",
              "    <tr>\n",
              "      <th>0</th>\n",
              "      <td>a0000001</td>\n",
              "      <td>2000001</td>\n",
              "      <td>1 Ceres</td>\n",
              "      <td>1</td>\n",
              "      <td>Ceres</td>\n",
              "      <td>NaN</td>\n",
              "      <td>N</td>\n",
              "      <td>N</td>\n",
              "      <td>3.40</td>\n",
              "      <td>939.400</td>\n",
              "      <td>0.0900</td>\n",
              "      <td>0.200</td>\n",
              "      <td>JPL 47</td>\n",
              "      <td>2458600.5</td>\n",
              "      <td>58600</td>\n",
              "      <td>20190427.0</td>\n",
              "      <td>J2000</td>\n",
              "      <td>0.076009</td>\n",
              "      <td>2.769165</td>\n",
              "      <td>2.558684</td>\n",
              "      <td>10.594067</td>\n",
              "      <td>80.305531</td>\n",
              "      <td>73.597695</td>\n",
              "      <td>77.372098</td>\n",
              "      <td>2.979647</td>\n",
              "      <td>0.213885</td>\n",
              "      <td>2.458239e+06</td>\n",
              "      <td>2.018043e+07</td>\n",
              "      <td>1683.145703</td>\n",
              "      <td>4.608202</td>\n",
              "      <td>1.59478</td>\n",
              "      <td>620.640533</td>\n",
              "      <td>4.819000e-12</td>\n",
              "      <td>1.032800e-11</td>\n",
              "      <td>1.956900e-11</td>\n",
              "      <td>4.608900e-09</td>\n",
              "      <td>6.168800e-08</td>\n",
              "      <td>6.624800e-08</td>\n",
              "      <td>7.820700e-09</td>\n",
              "      <td>1.111300e-11</td>\n",
              "      <td>1.196500e-12</td>\n",
              "      <td>3.782900e-08</td>\n",
              "      <td>9.415900e-09</td>\n",
              "      <td>MBA</td>\n",
              "      <td>0.43301</td>\n",
              "    </tr>\n",
              "    <tr>\n",
              "      <th>1</th>\n",
              "      <td>a0000002</td>\n",
              "      <td>2000002</td>\n",
              "      <td>2 Pallas</td>\n",
              "      <td>2</td>\n",
              "      <td>Pallas</td>\n",
              "      <td>NaN</td>\n",
              "      <td>N</td>\n",
              "      <td>N</td>\n",
              "      <td>4.20</td>\n",
              "      <td>545.000</td>\n",
              "      <td>0.1010</td>\n",
              "      <td>18.000</td>\n",
              "      <td>JPL 37</td>\n",
              "      <td>2459000.5</td>\n",
              "      <td>59000</td>\n",
              "      <td>20200531.0</td>\n",
              "      <td>J2000</td>\n",
              "      <td>0.229972</td>\n",
              "      <td>2.773841</td>\n",
              "      <td>2.135935</td>\n",
              "      <td>34.832932</td>\n",
              "      <td>173.024741</td>\n",
              "      <td>310.202392</td>\n",
              "      <td>144.975675</td>\n",
              "      <td>3.411748</td>\n",
              "      <td>0.213345</td>\n",
              "      <td>2.458321e+06</td>\n",
              "      <td>2.018072e+07</td>\n",
              "      <td>1687.410992</td>\n",
              "      <td>4.619880</td>\n",
              "      <td>1.23429</td>\n",
              "      <td>480.348639</td>\n",
              "      <td>3.193400e-08</td>\n",
              "      <td>4.033700e-09</td>\n",
              "      <td>8.832200e-08</td>\n",
              "      <td>3.469400e-06</td>\n",
              "      <td>6.272400e-06</td>\n",
              "      <td>9.128200e-06</td>\n",
              "      <td>8.859100e-06</td>\n",
              "      <td>4.961300e-09</td>\n",
              "      <td>4.653600e-10</td>\n",
              "      <td>4.078700e-05</td>\n",
              "      <td>3.680700e-06</td>\n",
              "      <td>MBA</td>\n",
              "      <td>0.35936</td>\n",
              "    </tr>\n",
              "    <tr>\n",
              "      <th>2</th>\n",
              "      <td>a0000003</td>\n",
              "      <td>2000003</td>\n",
              "      <td>3 Juno</td>\n",
              "      <td>3</td>\n",
              "      <td>Juno</td>\n",
              "      <td>NaN</td>\n",
              "      <td>N</td>\n",
              "      <td>N</td>\n",
              "      <td>5.33</td>\n",
              "      <td>246.596</td>\n",
              "      <td>0.2140</td>\n",
              "      <td>10.594</td>\n",
              "      <td>JPL 112</td>\n",
              "      <td>2459000.5</td>\n",
              "      <td>59000</td>\n",
              "      <td>20200531.0</td>\n",
              "      <td>J2000</td>\n",
              "      <td>0.256936</td>\n",
              "      <td>2.668285</td>\n",
              "      <td>1.982706</td>\n",
              "      <td>12.991043</td>\n",
              "      <td>169.851482</td>\n",
              "      <td>248.066193</td>\n",
              "      <td>125.435355</td>\n",
              "      <td>3.353865</td>\n",
              "      <td>0.226129</td>\n",
              "      <td>2.458446e+06</td>\n",
              "      <td>2.018112e+07</td>\n",
              "      <td>1592.013769</td>\n",
              "      <td>4.358696</td>\n",
              "      <td>1.03429</td>\n",
              "      <td>402.514639</td>\n",
              "      <td>3.052000e-08</td>\n",
              "      <td>3.471800e-09</td>\n",
              "      <td>8.139200e-08</td>\n",
              "      <td>3.223100e-06</td>\n",
              "      <td>1.664600e-05</td>\n",
              "      <td>1.772100e-05</td>\n",
              "      <td>8.110400e-06</td>\n",
              "      <td>4.363900e-09</td>\n",
              "      <td>4.413400e-10</td>\n",
              "      <td>3.528800e-05</td>\n",
              "      <td>3.107200e-06</td>\n",
              "      <td>MBA</td>\n",
              "      <td>0.33848</td>\n",
              "    </tr>\n",
              "    <tr>\n",
              "      <th>3</th>\n",
              "      <td>a0000004</td>\n",
              "      <td>2000004</td>\n",
              "      <td>4 Vesta</td>\n",
              "      <td>4</td>\n",
              "      <td>Vesta</td>\n",
              "      <td>NaN</td>\n",
              "      <td>N</td>\n",
              "      <td>N</td>\n",
              "      <td>3.00</td>\n",
              "      <td>525.400</td>\n",
              "      <td>0.4228</td>\n",
              "      <td>0.200</td>\n",
              "      <td>JPL 35</td>\n",
              "      <td>2458600.5</td>\n",
              "      <td>58600</td>\n",
              "      <td>20190427.0</td>\n",
              "      <td>J2000</td>\n",
              "      <td>0.088721</td>\n",
              "      <td>2.361418</td>\n",
              "      <td>2.151909</td>\n",
              "      <td>7.141771</td>\n",
              "      <td>103.810804</td>\n",
              "      <td>150.728541</td>\n",
              "      <td>95.861938</td>\n",
              "      <td>2.570926</td>\n",
              "      <td>0.271609</td>\n",
              "      <td>2.458248e+06</td>\n",
              "      <td>2.018051e+07</td>\n",
              "      <td>1325.432763</td>\n",
              "      <td>3.628837</td>\n",
              "      <td>1.13948</td>\n",
              "      <td>443.451432</td>\n",
              "      <td>2.332100e-10</td>\n",
              "      <td>1.514300e-09</td>\n",
              "      <td>1.928600e-09</td>\n",
              "      <td>2.170600e-07</td>\n",
              "      <td>3.880800e-07</td>\n",
              "      <td>1.789300e-07</td>\n",
              "      <td>1.206800e-06</td>\n",
              "      <td>1.648600e-09</td>\n",
              "      <td>2.612500e-10</td>\n",
              "      <td>4.103700e-06</td>\n",
              "      <td>1.274900e-06</td>\n",
              "      <td>MBA</td>\n",
              "      <td>0.39980</td>\n",
              "    </tr>\n",
              "    <tr>\n",
              "      <th>4</th>\n",
              "      <td>a0000005</td>\n",
              "      <td>2000005</td>\n",
              "      <td>5 Astraea</td>\n",
              "      <td>5</td>\n",
              "      <td>Astraea</td>\n",
              "      <td>NaN</td>\n",
              "      <td>N</td>\n",
              "      <td>N</td>\n",
              "      <td>6.90</td>\n",
              "      <td>106.699</td>\n",
              "      <td>0.2740</td>\n",
              "      <td>3.140</td>\n",
              "      <td>JPL 114</td>\n",
              "      <td>2459000.5</td>\n",
              "      <td>59000</td>\n",
              "      <td>20200531.0</td>\n",
              "      <td>J2000</td>\n",
              "      <td>0.190913</td>\n",
              "      <td>2.574037</td>\n",
              "      <td>2.082619</td>\n",
              "      <td>5.367427</td>\n",
              "      <td>141.571026</td>\n",
              "      <td>358.648418</td>\n",
              "      <td>17.846343</td>\n",
              "      <td>3.065455</td>\n",
              "      <td>0.238661</td>\n",
              "      <td>2.458926e+06</td>\n",
              "      <td>2.020032e+07</td>\n",
              "      <td>1508.414421</td>\n",
              "      <td>4.129814</td>\n",
              "      <td>1.09575</td>\n",
              "      <td>426.433028</td>\n",
              "      <td>2.373700e-08</td>\n",
              "      <td>3.970900e-09</td>\n",
              "      <td>6.092400e-08</td>\n",
              "      <td>2.740800e-06</td>\n",
              "      <td>2.894900e-05</td>\n",
              "      <td>2.984200e-05</td>\n",
              "      <td>8.303800e-06</td>\n",
              "      <td>4.729000e-09</td>\n",
              "      <td>5.522700e-10</td>\n",
              "      <td>3.474300e-05</td>\n",
              "      <td>3.490500e-06</td>\n",
              "      <td>MBA</td>\n",
              "      <td>0.52191</td>\n",
              "    </tr>\n",
              "  </tbody>\n",
              "</table>\n",
              "</div>"
            ],
            "text/plain": [
              "         id    spkid       full_name  ...     sigma_per class      rms\n",
              "0  a0000001  2000001         1 Ceres  ...  9.415900e-09   MBA  0.43301\n",
              "1  a0000002  2000002        2 Pallas  ...  3.680700e-06   MBA  0.35936\n",
              "2  a0000003  2000003          3 Juno  ...  3.107200e-06   MBA  0.33848\n",
              "3  a0000004  2000004         4 Vesta  ...  1.274900e-06   MBA  0.39980\n",
              "4  a0000005  2000005       5 Astraea  ...  3.490500e-06   MBA  0.52191\n",
              "\n",
              "[5 rows x 45 columns]"
            ]
          },
          "metadata": {},
          "execution_count": 4
        }
      ]
    },
    {
      "cell_type": "markdown",
      "metadata": {
        "id": "uir3Q0n2Rnrs"
      },
      "source": [
        "Al trabajar con este tipo de dataset, muchas veces no estarán los datos completos: puede que existan celdas sin valores (NaN).\n",
        "\n",
        "En este dataset revisaremos cuantos datos faltan por columna:"
      ]
    },
    {
      "cell_type": "code",
      "metadata": {
        "colab": {
          "base_uri": "https://localhost:8080/"
        },
        "id": "2Ql50oFpRsuz",
        "outputId": "c690cf09-7899-4b7b-b013-c1fcf678dcbf"
      },
      "source": [
        "# revisar cuantos datos faltan por columna\n",
        "print(\"Número de datos NaN por feature (columna): \\n\")\n",
        "print(data_asteroid.isnull().sum(axis = 0))"
      ],
      "execution_count": 5,
      "outputs": [
        {
          "output_type": "stream",
          "name": "stdout",
          "text": [
            "Número de datos NaN por feature (columna): \n",
            "\n",
            "id                     0\n",
            "spkid                  0\n",
            "full_name              0\n",
            "pdes                   0\n",
            "name              936460\n",
            "prefix            958506\n",
            "neo                    4\n",
            "pha                19921\n",
            "H                   6263\n",
            "diameter          822315\n",
            "albedo            823421\n",
            "diameter_sigma    822443\n",
            "orbit_id               0\n",
            "epoch                  0\n",
            "epoch_mjd              0\n",
            "epoch_cal              0\n",
            "equinox                0\n",
            "e                      0\n",
            "a                      0\n",
            "q                      0\n",
            "i                      0\n",
            "om                     0\n",
            "w                      0\n",
            "ma                     1\n",
            "ad                     4\n",
            "n                      0\n",
            "tp                     0\n",
            "tp_cal                 0\n",
            "per                    4\n",
            "per_y                  1\n",
            "moid               19921\n",
            "moid_ld              127\n",
            "sigma_e            19922\n",
            "sigma_a            19922\n",
            "sigma_q            19922\n",
            "sigma_i            19922\n",
            "sigma_om           19922\n",
            "sigma_w            19922\n",
            "sigma_ma           19922\n",
            "sigma_ad           19926\n",
            "sigma_n            19922\n",
            "sigma_tp           19922\n",
            "sigma_per          19926\n",
            "class                  0\n",
            "rms                    2\n",
            "dtype: int64\n"
          ]
        }
      ]
    },
    {
      "cell_type": "markdown",
      "metadata": {
        "id": "BTo7G-OgRxeu"
      },
      "source": [
        "Podemos ver que hay columnas con muchos valores NaN. Se decide simplemente eliminar filas de datos que tienen un valor NaN. \n",
        "\n",
        "Como nuestro objetivo es Predecir la clase de un asteroide, se eliminan columnas no interesantes para nuestro propósito (tales como nombres, id, flags, marcos de referencias, etc.)"
      ]
    },
    {
      "cell_type": "code",
      "metadata": {
        "id": "YmBywsaXRx3T"
      },
      "source": [
        "# borrar columnas no interesantes para el propósito de este notebook\n",
        "del data_asteroid[\"id\"]\n",
        "del data_asteroid[\"spkid\"]\n",
        "del data_asteroid[\"full_name\"]\n",
        "del data_asteroid[\"pdes\"]\n",
        "del data_asteroid[\"name\"]\n",
        "del data_asteroid[\"prefix\"]\n",
        "\n",
        "del data_asteroid[\"neo\"]\n",
        "del data_asteroid[\"pha\"]\n",
        "\n",
        "del data_asteroid[\"epoch\"]\n",
        "del data_asteroid[\"epoch_mjd\"]\n",
        "del data_asteroid[\"epoch_cal\"]\n",
        "del data_asteroid[\"equinox\"]\n",
        "del data_asteroid[\"orbit_id\"]\n",
        "\n",
        "# borrar filas con NaN\n",
        "columns_with_nan = [] \n",
        "for (i, number_nan) in enumerate(data_asteroid.isnull().sum(axis = 0)):\n",
        "    if (number_nan > 0):\n",
        "        columns_with_nan.append( data_asteroid.columns[i] )\n",
        "\n",
        "data_asteroid_ = data_asteroid.copy()\n",
        "for col in columns_with_nan:\n",
        "    data_asteroid_ =  data_asteroid_[data_asteroid_[col].notna()]"
      ],
      "execution_count": 6,
      "outputs": []
    },
    {
      "cell_type": "code",
      "metadata": {
        "colab": {
          "base_uri": "https://localhost:8080/"
        },
        "id": "MXeD4Lz3R0zg",
        "outputId": "edf840df-8abc-4609-b1f5-1db0ec8e24d0"
      },
      "source": [
        "print(data_asteroid_.shape)\n",
        "\n",
        "print(\"Número de datos NaN por feature (columna): \\n\")\n",
        "print(data_asteroid_.isnull().sum(axis = 0))\n"
      ],
      "execution_count": 7,
      "outputs": [
        {
          "output_type": "stream",
          "name": "stdout",
          "text": [
            "(131142, 32)\n",
            "Número de datos NaN por feature (columna): \n",
            "\n",
            "H                 0\n",
            "diameter          0\n",
            "albedo            0\n",
            "diameter_sigma    0\n",
            "e                 0\n",
            "a                 0\n",
            "q                 0\n",
            "i                 0\n",
            "om                0\n",
            "w                 0\n",
            "ma                0\n",
            "ad                0\n",
            "n                 0\n",
            "tp                0\n",
            "tp_cal            0\n",
            "per               0\n",
            "per_y             0\n",
            "moid              0\n",
            "moid_ld           0\n",
            "sigma_e           0\n",
            "sigma_a           0\n",
            "sigma_q           0\n",
            "sigma_i           0\n",
            "sigma_om          0\n",
            "sigma_w           0\n",
            "sigma_ma          0\n",
            "sigma_ad          0\n",
            "sigma_n           0\n",
            "sigma_tp          0\n",
            "sigma_per         0\n",
            "class             0\n",
            "rms               0\n",
            "dtype: int64\n"
          ]
        }
      ]
    },
    {
      "cell_type": "markdown",
      "metadata": {
        "id": "Z75YJ_0mR4GU"
      },
      "source": [
        "A continuación se analiza distribuciones de las clases. Notaremos que hay clases cuya cantidad de datos es varios ordenes de magnitud respecto a otras. Es por ello que vamos a restringir la predicción a las clases \"más balanceadas\" en número de ejemplos, las cuales son las siguientes: \n",
        "\n",
        "**ATE:** Aten\t\n",
        "\n",
        "**CEN:** Centaur\n",
        "\n",
        "**IMB:** Inner Main-belt Asteroid\n",
        "\n",
        "**MCA:** Mars-crossing Asteroid\t"
      ]
    },
    {
      "cell_type": "code",
      "metadata": {
        "colab": {
          "base_uri": "https://localhost:8080/",
          "height": 700
        },
        "id": "sjXR54JIR56V",
        "outputId": "135c7268-8312-4cda-a066-8232f489e705"
      },
      "source": [
        "# analizar distribuciones de las clases \n",
        "\n",
        "clases = np.unique([str(item) for item in data_asteroid_['class'].values])\n",
        "\n",
        "kd = data_asteroid_.groupby(['class']).size().reset_index(name='counts')\n",
        "fig, ax = plt.subplots(figsize=(5,5),nrows=1)\n",
        "sns.barplot(data=kd, y='class', x='counts', palette=\"Blues_d\",ax=ax)\n",
        "ax.set_title('Ocurrencias de cada clase de asteroide')\n",
        "plt.show()\n",
        "\n",
        "\n",
        "# dejar solo clases \"más balanceadas\" en número de ejemplos. Los codigos comentados corresponden a las clases que se van a preservar.\n",
        "\n",
        "data_asteroid_balanced = data_asteroid_[data_asteroid_[\"class\"] != 'AMO']\n",
        "data_asteroid_balanced = data_asteroid_balanced[data_asteroid_balanced[\"class\"]  != 'APO']\n",
        "data_asteroid_balanced = data_asteroid_balanced[data_asteroid_balanced[\"class\"]  != 'AST']\n",
        "#data_asteroid_balanced = data_asteroid_balanced[data_asteroid_balanced[\"class\"]  != 'ATE']\n",
        "#data_asteroid_balanced = data_asteroid_balanced[data_asteroid_balanced[\"class\"]  != 'CEN']\n",
        "data_asteroid_balanced = data_asteroid_balanced[data_asteroid_balanced[\"class\"]  != 'MBA']\n",
        "data_asteroid_balanced = data_asteroid_balanced[data_asteroid_balanced[\"class\"]  != 'TNO']\n",
        "data_asteroid_balanced = data_asteroid_balanced[data_asteroid_balanced[\"class\"]  != 'OMB']\n",
        "data_asteroid_balanced = data_asteroid_balanced[data_asteroid_balanced[\"class\"]  != 'TJN']\n",
        "#data_asteroid_balanced = data_asteroid_balanced[data_asteroid_balanced[\"class\"]  != 'IMBA']\n",
        "#data_asteroid_balanced = data_asteroid_balanced[data_asteroid_balanced[\"class\"]  != 'MCA']\n",
        "\n",
        "\n",
        "\n",
        "clases = np.unique([str(item) for item in data_asteroid_balanced['class'].values])\n",
        "print(clases)\n",
        "\n",
        "\n",
        "kd = data_asteroid_balanced.groupby(['class']).size().reset_index(name='counts')\n",
        "fig, ax = plt.subplots(figsize=(5,5),nrows=1)\n",
        "sns.barplot(data=kd, y='class', x='counts', palette=\"Blues_d\",ax=ax)\n",
        "ax.set_title('Ocurrencias de cada clase de asteroide (\"balanceado\")')\n",
        "plt.show()\n"
      ],
      "execution_count": 8,
      "outputs": [
        {
          "output_type": "display_data",
          "data": {
            "image/png": "[encoded data removed]",
            "text/plain": [
              "<Figure size 360x360 with 1 Axes>"
            ]
          },
          "metadata": {
            "needs_background": "light"
          }
        },
        {
          "output_type": "stream",
          "name": "stdout",
          "text": [
            "['ATE' 'CEN' 'IMB' 'MCA']\n"
          ]
        },
        {
          "output_type": "display_data",
          "data": {
            "image/png": "[encoded data removed]",
            "text/plain": [
              "<Figure size 360x360 with 1 Axes>"
            ]
          },
          "metadata": {
            "needs_background": "light"
          }
        }
      ]
    },
    {
      "cell_type": "code",
      "metadata": {
        "id": "l4J-JlRLSBvo"
      },
      "source": [
        "# Definir features numericos (lo haremos para diferenciar despues X de Y ).\n",
        "# En este caso, como eliminamos columnas con valores categóricos en lineas anteriores, la única columna no numérica es 'class'.  \n",
        "\n",
        "non_categorical_asteriod = list(data_asteroid_balanced.columns)\n",
        "non_categorical_asteriod.remove('class') \n"
      ],
      "execution_count": 9,
      "outputs": []
    },
    {
      "cell_type": "markdown",
      "metadata": {
        "id": "0r90KzFLSMO0"
      },
      "source": [
        "A continuación veremos como se distribuyen los valores de una columna (feature) en las distintas clases. Para ello usaremos una herramienta de visualización que nos permite ver un histograma con la densidad de valores. \n",
        "\n",
        "Podemos apreciar que en features como \"H\" los valores se distribuyen de forma bien diferenciada dependiendo de la clase. Esto nos puede dar una pista de que el modelo podría aprovechar este feature para separar las clases entre sí. Por otro lado, existen columnas como \"om\" en donde los valores se distribuyen de forma similar para todas las clases, dificultando la separación de clases.\n"
      ]
    },
    {
      "cell_type": "code",
      "metadata": {
        "colab": {
          "base_uri": "https://localhost:8080/"
        },
        "id": "nlJJXIH9TMFs",
        "outputId": "43ab0205-983c-4c7f-d8f7-28e995c2ec3f"
      },
      "source": [
        "len(data_asteroid_balanced.columns)\n",
        "\n",
        "lista_clases = np.unique(data_asteroid_balanced['class'])\n",
        "print(lista_clases)\n",
        "print(len(lista_clases))"
      ],
      "execution_count": 10,
      "outputs": [
        {
          "output_type": "stream",
          "name": "stdout",
          "text": [
            "['ATE' 'CEN' 'IMB' 'MCA']\n",
            "4\n"
          ]
        }
      ]
    },
    {
      "cell_type": "code",
      "metadata": {
        "colab": {
          "base_uri": "https://localhost:8080/",
          "height": 1000
        },
        "id": "jtVY0skTSN5c",
        "outputId": "c6507760-34ee-48c2-edc7-3b0af28bcc42"
      },
      "source": [
        "\n",
        "fig = plt.figure(figsize=(32,24))\n",
        "#fig.subplots_adjust( wspace=0.1, hspace=0.3)\n",
        "\n",
        "idx = 1\n",
        "for i, column in enumerate(data_asteroid_balanced.columns[:16]):\n",
        "    \n",
        "    ax = fig.add_subplot(4, 4, idx)\n",
        "    idx+=1\n",
        "    \n",
        "    sns.histplot(data=data_asteroid_balanced, x=column, hue=\"class\", kde = True, stat = \"density\")\n"
      ],
      "execution_count": 11,
      "outputs": [
        {
          "output_type": "display_data",
          "data": {
            "image/png": "[encoded data removed]",
            "text/plain": [
              "<Figure size 2304x1728 with 16 Axes>"
            ]
          },
          "metadata": {
            "needs_background": "light"
          }
        }
      ]
    },
    {
      "cell_type": "code",
      "metadata": {
        "colab": {
          "base_uri": "https://localhost:8080/",
          "height": 52
        },
        "id": "e1jZuedZZy-3",
        "outputId": "b86d088c-e406-4d2d-ab96-fa6a594aa83d"
      },
      "source": [
        "# Lo dejo comentado porque se come la RAM de colab\n",
        "'''\n",
        "fig = plt.figure(figsize=(32,24))\n",
        "idx = 1\n",
        "for i, column in enumerate(data_asteroid_balanced.columns[16:]):\n",
        "    \n",
        "    ax = fig.add_subplot(4, 4, idx)\n",
        "    idx+=1\n",
        "    \n",
        "    sns.histplot(data=data_asteroid_balanced, x=column, hue=\"class\", kde = True, stat = \"density\")\n",
        "'''"
      ],
      "execution_count": 12,
      "outputs": [
        {
          "output_type": "execute_result",
          "data": {
            "application/vnd.google.colaboratory.intrinsic+json": {
              "type": "string"
            },
            "text/plain": [
              "'\\nfig = plt.figure(figsize=(32,24))\\nidx = 1\\nfor i, column in enumerate(data_asteroid_balanced.columns[16:]):\\n    \\n    ax = fig.add_subplot(4, 4, idx)\\n    idx+=1\\n    \\n    sns.histplot(data=data_asteroid_balanced, x=column, hue=\"class\", kde = True, stat = \"density\")\\n'"
            ]
          },
          "metadata": {},
          "execution_count": 12
        }
      ]
    },
    {
      "cell_type": "code",
      "metadata": {
        "colab": {
          "base_uri": "https://localhost:8080/",
          "height": 411
        },
        "id": "A1rzpAr1TbYm",
        "outputId": "355b1fde-8b48-4cd5-f775-bd080c1be59b"
      },
      "source": [
        "from sklearn.model_selection import train_test_split\n",
        "\n",
        "# Separar datos para el posterior entrenamiento, validación y test\n",
        "\n",
        "# Split de datos\n",
        "X = data_asteroid_balanced[non_categorical_asteriod]\n",
        "y = data_asteroid_balanced['class']\n",
        "\n",
        "y_ = y.copy()\n",
        "\n",
        "print(X.shape)\n",
        "print(y_.shape)\n",
        "\n",
        "X_train, X_test, y_train, y_test = train_test_split(X, y_, test_size=0.2, random_state=0)\n",
        "X_train, X_val, y_train, y_val = train_test_split(X_train, y_train, test_size=0.2, random_state=0)\n",
        "\n",
        "print(\"X,y Shapes:\", X.shape, y.shape)\n",
        "print(\"X,y Train Shapes:\", X_train.shape, y_train.shape)\n",
        "print(\"X,y Val Shapes:\", X_val.shape, y_val.shape)\n",
        "print(\"X,y Test Shapes:\", X_test.shape, y_test.shape)\n",
        "\n",
        "X_train.head()"
      ],
      "execution_count": 13,
      "outputs": [
        {
          "output_type": "stream",
          "name": "stdout",
          "text": [
            "(910, 31)\n",
            "(910,)\n",
            "X,y Shapes: (910, 31) (910,)\n",
            "X,y Train Shapes: (582, 31) (582,)\n",
            "X,y Val Shapes: (146, 31) (146,)\n",
            "X,y Test Shapes: (182, 31) (182,)\n"
          ]
        },
        {
          "output_type": "execute_result",
          "data": {
            "text/html": [
              "<div>\n",
              "<style scoped>\n",
              "    .dataframe tbody tr th:only-of-type {\n",
              "        vertical-align: middle;\n",
              "    }\n",
              "\n",
              "    .dataframe tbody tr th {\n",
              "        vertical-align: top;\n",
              "    }\n",
              "\n",
              "    .dataframe thead th {\n",
              "        text-align: right;\n",
              "    }\n",
              "</style>\n",
              "<table border=\"1\" class=\"dataframe\">\n",
              "  <thead>\n",
              "    <tr style=\"text-align: right;\">\n",
              "      <th></th>\n",
              "      <th>H</th>\n",
              "      <th>diameter</th>\n",
              "      <th>albedo</th>\n",
              "      <th>diameter_sigma</th>\n",
              "      <th>e</th>\n",
              "      <th>a</th>\n",
              "      <th>q</th>\n",
              "      <th>i</th>\n",
              "      <th>om</th>\n",
              "      <th>w</th>\n",
              "      <th>ma</th>\n",
              "      <th>ad</th>\n",
              "      <th>n</th>\n",
              "      <th>tp</th>\n",
              "      <th>tp_cal</th>\n",
              "      <th>per</th>\n",
              "      <th>per_y</th>\n",
              "      <th>moid</th>\n",
              "      <th>moid_ld</th>\n",
              "      <th>sigma_e</th>\n",
              "      <th>sigma_a</th>\n",
              "      <th>sigma_q</th>\n",
              "      <th>sigma_i</th>\n",
              "      <th>sigma_om</th>\n",
              "      <th>sigma_w</th>\n",
              "      <th>sigma_ma</th>\n",
              "      <th>sigma_ad</th>\n",
              "      <th>sigma_n</th>\n",
              "      <th>sigma_tp</th>\n",
              "      <th>sigma_per</th>\n",
              "      <th>rms</th>\n",
              "    </tr>\n",
              "  </thead>\n",
              "  <tbody>\n",
              "    <tr>\n",
              "      <th>67377</th>\n",
              "      <td>15.7</td>\n",
              "      <td>3.222</td>\n",
              "      <td>0.074</td>\n",
              "      <td>0.343</td>\n",
              "      <td>0.045039</td>\n",
              "      <td>1.986439</td>\n",
              "      <td>1.896971</td>\n",
              "      <td>19.324551</td>\n",
              "      <td>290.319692</td>\n",
              "      <td>315.772461</td>\n",
              "      <td>85.308548</td>\n",
              "      <td>2.075907</td>\n",
              "      <td>0.352039</td>\n",
              "      <td>2.458758e+06</td>\n",
              "      <td>2.019100e+07</td>\n",
              "      <td>1022.612867</td>\n",
              "      <td>2.799761</td>\n",
              "      <td>0.898297</td>\n",
              "      <td>349.590243</td>\n",
              "      <td>3.690400e-08</td>\n",
              "      <td>7.775100e-09</td>\n",
              "      <td>7.413300e-08</td>\n",
              "      <td>0.000007</td>\n",
              "      <td>0.000012</td>\n",
              "      <td>0.000081</td>\n",
              "      <td>0.000081</td>\n",
              "      <td>8.125300e-09</td>\n",
              "      <td>2.066900e-09</td>\n",
              "      <td>0.000229</td>\n",
              "      <td>0.000006</td>\n",
              "      <td>0.48556</td>\n",
              "    </tr>\n",
              "    <tr>\n",
              "      <th>676043</th>\n",
              "      <td>17.1</td>\n",
              "      <td>2.029</td>\n",
              "      <td>0.047</td>\n",
              "      <td>0.481</td>\n",
              "      <td>0.060729</td>\n",
              "      <td>1.870714</td>\n",
              "      <td>1.757106</td>\n",
              "      <td>14.844674</td>\n",
              "      <td>61.006012</td>\n",
              "      <td>342.402142</td>\n",
              "      <td>132.365127</td>\n",
              "      <td>1.984321</td>\n",
              "      <td>0.385206</td>\n",
              "      <td>2.454988e+06</td>\n",
              "      <td>2.009061e+07</td>\n",
              "      <td>934.564802</td>\n",
              "      <td>2.558699</td>\n",
              "      <td>0.769016</td>\n",
              "      <td>299.277957</td>\n",
              "      <td>7.637000e-01</td>\n",
              "      <td>2.285400e+00</td>\n",
              "      <td>3.554500e+00</td>\n",
              "      <td>5.389700</td>\n",
              "      <td>33.527000</td>\n",
              "      <td>587.210000</td>\n",
              "      <td>557.300000</td>\n",
              "      <td>2.424200e+00</td>\n",
              "      <td>7.058800e-01</td>\n",
              "      <td>833.020000</td>\n",
              "      <td>1712.600000</td>\n",
              "      <td>0.13881</td>\n",
              "    </tr>\n",
              "    <tr>\n",
              "      <th>16680</th>\n",
              "      <td>14.3</td>\n",
              "      <td>4.328</td>\n",
              "      <td>0.230</td>\n",
              "      <td>0.053</td>\n",
              "      <td>0.063641</td>\n",
              "      <td>1.893439</td>\n",
              "      <td>1.772940</td>\n",
              "      <td>23.416223</td>\n",
              "      <td>342.481955</td>\n",
              "      <td>63.934531</td>\n",
              "      <td>125.466279</td>\n",
              "      <td>2.013939</td>\n",
              "      <td>0.378292</td>\n",
              "      <td>2.458669e+06</td>\n",
              "      <td>2.019070e+07</td>\n",
              "      <td>951.646304</td>\n",
              "      <td>2.605466</td>\n",
              "      <td>0.817502</td>\n",
              "      <td>318.147253</td>\n",
              "      <td>6.523800e-08</td>\n",
              "      <td>6.973600e-09</td>\n",
              "      <td>1.207900e-07</td>\n",
              "      <td>0.000006</td>\n",
              "      <td>0.000009</td>\n",
              "      <td>0.000056</td>\n",
              "      <td>0.000050</td>\n",
              "      <td>7.417400e-09</td>\n",
              "      <td>2.089900e-09</td>\n",
              "      <td>0.000133</td>\n",
              "      <td>0.000005</td>\n",
              "      <td>0.40610</td>\n",
              "    </tr>\n",
              "    <tr>\n",
              "      <th>677905</th>\n",
              "      <td>16.5</td>\n",
              "      <td>2.816</td>\n",
              "      <td>0.056</td>\n",
              "      <td>0.595</td>\n",
              "      <td>0.371763</td>\n",
              "      <td>2.194821</td>\n",
              "      <td>1.378867</td>\n",
              "      <td>27.434525</td>\n",
              "      <td>71.133017</td>\n",
              "      <td>35.802738</td>\n",
              "      <td>251.144433</td>\n",
              "      <td>3.010776</td>\n",
              "      <td>0.303114</td>\n",
              "      <td>2.454529e+06</td>\n",
              "      <td>2.008030e+07</td>\n",
              "      <td>1187.673883</td>\n",
              "      <td>3.251674</td>\n",
              "      <td>0.440214</td>\n",
              "      <td>171.318082</td>\n",
              "      <td>1.240800e+00</td>\n",
              "      <td>3.308800e+00</td>\n",
              "      <td>4.586600e+00</td>\n",
              "      <td>9.337900</td>\n",
              "      <td>63.733000</td>\n",
              "      <td>182.490000</td>\n",
              "      <td>158.900000</td>\n",
              "      <td>4.538900e+00</td>\n",
              "      <td>6.854400e-01</td>\n",
              "      <td>2248.600000</td>\n",
              "      <td>2685.700000</td>\n",
              "      <td>0.35743</td>\n",
              "    </tr>\n",
              "    <tr>\n",
              "      <th>3168</th>\n",
              "      <td>12.7</td>\n",
              "      <td>4.662</td>\n",
              "      <td>0.960</td>\n",
              "      <td>0.118</td>\n",
              "      <td>0.066634</td>\n",
              "      <td>1.892181</td>\n",
              "      <td>1.766097</td>\n",
              "      <td>24.906466</td>\n",
              "      <td>96.372205</td>\n",
              "      <td>32.672842</td>\n",
              "      <td>139.137595</td>\n",
              "      <td>2.018265</td>\n",
              "      <td>0.378669</td>\n",
              "      <td>2.458633e+06</td>\n",
              "      <td>2.019053e+07</td>\n",
              "      <td>950.697421</td>\n",
              "      <td>2.602868</td>\n",
              "      <td>0.796836</td>\n",
              "      <td>310.104666</td>\n",
              "      <td>3.484800e-08</td>\n",
              "      <td>5.415000e-09</td>\n",
              "      <td>6.694700e-08</td>\n",
              "      <td>0.000006</td>\n",
              "      <td>0.000012</td>\n",
              "      <td>0.000054</td>\n",
              "      <td>0.000052</td>\n",
              "      <td>5.775800e-09</td>\n",
              "      <td>1.625500e-09</td>\n",
              "      <td>0.000137</td>\n",
              "      <td>0.000004</td>\n",
              "      <td>0.33411</td>\n",
              "    </tr>\n",
              "  </tbody>\n",
              "</table>\n",
              "</div>"
            ],
            "text/plain": [
              "           H  diameter  albedo  ...     sigma_tp    sigma_per      rms\n",
              "67377   15.7     3.222   0.074  ...     0.000229     0.000006  0.48556\n",
              "676043  17.1     2.029   0.047  ...   833.020000  1712.600000  0.13881\n",
              "16680   14.3     4.328   0.230  ...     0.000133     0.000005  0.40610\n",
              "677905  16.5     2.816   0.056  ...  2248.600000  2685.700000  0.35743\n",
              "3168    12.7     4.662   0.960  ...     0.000137     0.000004  0.33411\n",
              "\n",
              "[5 rows x 31 columns]"
            ]
          },
          "metadata": {},
          "execution_count": 13
        }
      ]
    },
    {
      "cell_type": "markdown",
      "metadata": {
        "id": "215V_mmKyUVT"
      },
      "source": [
        "### iloc v/s loc"
      ]
    },
    {
      "cell_type": "markdown",
      "metadata": {
        "id": "1Tl1sSkzw9_t"
      },
      "source": [
        "Para un ejemplo de más adelante necesitaremos los \"indices\" de los datos de validación. \n",
        "\n",
        "Aprovecharemos de revisar los indices de Panda: ```iloc v/s loc```"
      ]
    },
    {
      "cell_type": "code",
      "metadata": {
        "colab": {
          "base_uri": "https://localhost:8080/"
        },
        "id": "yLPE6fqstip0",
        "outputId": "02b4e837-21df-445e-e4ee-bc7aebc50161"
      },
      "source": [
        "# voy a guardar los indices de validacion\n",
        "val_indexs = X_val.index.values\n",
        "print(X_val.head(3))\n",
        "print(X.loc[val_indexs].head(3))\n",
        "\n",
        "# notar que son iguales"
      ],
      "execution_count": 14,
      "outputs": [
        {
          "output_type": "stream",
          "name": "stdout",
          "text": [
            "           H  diameter  albedo  ...  sigma_tp  sigma_per      rms\n",
            "762320  18.8     1.058   0.048  ...  0.060751   0.030502  0.51236\n",
            "409033  17.8     1.766   0.047  ...  0.000031   0.000007  0.52175\n",
            "2271    13.7     5.328   0.165  ...  0.000071   0.000003  0.38241\n",
            "\n",
            "[3 rows x 31 columns]\n",
            "           H  diameter  albedo  ...  sigma_tp  sigma_per      rms\n",
            "762320  18.8     1.058   0.048  ...  0.060751   0.030502  0.51236\n",
            "409033  17.8     1.766   0.047  ...  0.000031   0.000007  0.52175\n",
            "2271    13.7     5.328   0.165  ...  0.000071   0.000003  0.38241\n",
            "\n",
            "[3 rows x 31 columns]\n"
          ]
        }
      ]
    },
    {
      "cell_type": "code",
      "metadata": {
        "colab": {
          "base_uri": "https://localhost:8080/"
        },
        "id": "wyGFQC8xxWGm",
        "outputId": "8fe395b2-25f5-4b67-8a5e-c6b912a3e075"
      },
      "source": [
        "X.index.get_loc(762320) "
      ],
      "execution_count": 15,
      "outputs": [
        {
          "output_type": "execute_result",
          "data": {
            "text/plain": [
              "881"
            ]
          },
          "metadata": {},
          "execution_count": 15
        }
      ]
    },
    {
      "cell_type": "code",
      "metadata": {
        "colab": {
          "base_uri": "https://localhost:8080/"
        },
        "id": "GMTZDcjlwMJM",
        "outputId": "a0edfea4-f577-4a0e-bbb9-6d994efd7d26"
      },
      "source": [
        "val_row_nums = [X.index.get_loc(index) for index in val_indexs]\n",
        "print(val_row_nums[0])\n",
        "X.iloc[val_row_nums[0]]"
      ],
      "execution_count": 16,
      "outputs": [
        {
          "output_type": "stream",
          "name": "stdout",
          "text": [
            "881\n"
          ]
        },
        {
          "output_type": "execute_result",
          "data": {
            "text/plain": [
              "H                 1.880000e+01\n",
              "diameter          1.058000e+00\n",
              "albedo            4.800000e-02\n",
              "diameter_sigma    2.510000e-01\n",
              "e                 3.459931e-01\n",
              "a                 2.228323e+00\n",
              "q                 1.457339e+00\n",
              "i                 2.360711e+01\n",
              "om                9.785835e+01\n",
              "w                 8.275920e+01\n",
              "ma                2.942618e+02\n",
              "ad                2.999308e+00\n",
              "n                 2.963035e-01\n",
              "tp                2.459222e+06\n",
              "tp_cal            2.021011e+07\n",
              "per               1.214970e+03\n",
              "per_y             3.326408e+00\n",
              "moid              6.536030e-01\n",
              "moid_ld           2.543627e+02\n",
              "sigma_e           1.028700e-05\n",
              "sigma_a           3.729500e-05\n",
              "sigma_q           2.781300e-05\n",
              "sigma_i           6.642600e-04\n",
              "sigma_om          2.168700e-04\n",
              "sigma_w           1.914100e-03\n",
              "sigma_ma          1.635100e-02\n",
              "sigma_ad          5.019800e-05\n",
              "sigma_n           7.438700e-06\n",
              "sigma_tp          6.075100e-02\n",
              "sigma_per         3.050200e-02\n",
              "rms               5.123600e-01\n",
              "Name: 762320, dtype: float64"
            ]
          },
          "metadata": {},
          "execution_count": 16
        }
      ]
    },
    {
      "cell_type": "markdown",
      "metadata": {
        "id": "mS6XvlufycMe"
      },
      "source": [
        "### StandardScaler"
      ]
    },
    {
      "cell_type": "markdown",
      "metadata": {
        "id": "6pR2nd3_W9PO"
      },
      "source": [
        "Viendo directamente los histogramas anteriores se puede concluir que las columnas tienen rango de valores muy distintos. Para estos casos, estandarizar los datos antes de aplicar un modelo nos ayudará a obtener mejores resultados. "
      ]
    },
    {
      "cell_type": "code",
      "metadata": {
        "id": "viS8-hwkWy3B"
      },
      "source": [
        "from sklearn.preprocessing import StandardScaler\n",
        "\n",
        "# Scaling\n",
        "scaler = StandardScaler() # Standardize features by removing the mean and scaling to unit variance\n",
        "\n",
        "scaler.fit(X_train)\n",
        "\n",
        "X_train= scaler.transform(X_train)\n",
        "X_val = scaler.transform(X_val)\n",
        "X_test = scaler.transform(X_test)\n",
        "\n",
        "# Notar que perdemos informacion de dataframe de esta forma"
      ],
      "execution_count": 17,
      "outputs": []
    },
    {
      "cell_type": "markdown",
      "metadata": {
        "id": "rdcth-TVXB7A"
      },
      "source": [
        "## Modelo: LogisticRegression"
      ]
    },
    {
      "cell_type": "code",
      "metadata": {
        "id": "KQZzCNIUX1AP"
      },
      "source": [
        "from sklearn.linear_model import LogisticRegression\n",
        "from sklearn.metrics import plot_confusion_matrix\n",
        "from sklearn.metrics import accuracy_score\n",
        "from sklearn.metrics import f1_score\n"
      ],
      "execution_count": 18,
      "outputs": []
    },
    {
      "cell_type": "code",
      "metadata": {
        "colab": {
          "base_uri": "https://localhost:8080/"
        },
        "id": "kmQyA1m3X-8w",
        "outputId": "58fa3e40-d1c4-4ac5-d83a-28a0691b9282"
      },
      "source": [
        "print(y_train.shape)\n",
        "X_train.shape"
      ],
      "execution_count": 19,
      "outputs": [
        {
          "output_type": "stream",
          "name": "stdout",
          "text": [
            "(582,)\n"
          ]
        },
        {
          "output_type": "execute_result",
          "data": {
            "text/plain": [
              "(582, 31)"
            ]
          },
          "metadata": {},
          "execution_count": 19
        }
      ]
    },
    {
      "cell_type": "code",
      "metadata": {
        "colab": {
          "base_uri": "https://localhost:8080/"
        },
        "id": "TQXj7S9EX25z",
        "outputId": "d8bb3794-73c0-496e-9db2-c95c5c740a8d"
      },
      "source": [
        "model1 = LogisticRegression(verbose=1, solver='liblinear', random_state=0, C=2, max_iter=20)\n",
        "model1.fit(X_train, y_train) "
      ],
      "execution_count": 20,
      "outputs": [
        {
          "output_type": "stream",
          "name": "stdout",
          "text": [
            "[LibLinear]"
          ]
        },
        {
          "output_type": "execute_result",
          "data": {
            "text/plain": [
              "LogisticRegression(C=2, max_iter=20, random_state=0, solver='liblinear',\n",
              "                   verbose=1)"
            ]
          },
          "metadata": {},
          "execution_count": 20
        }
      ]
    },
    {
      "cell_type": "code",
      "metadata": {
        "colab": {
          "base_uri": "https://localhost:8080/",
          "height": 719
        },
        "id": "YwDgQ87lX5Pc",
        "outputId": "5b165e59-7451-41d2-dcd0-33c82a9b4cef"
      },
      "source": [
        "prediccion1 = model1.predict(X_val)\n",
        "\n",
        "print(\"Accuracy Validation: \", accuracy_score(y_val, prediccion1))\n",
        "print(\"F1 score Validation (micro): \", f1_score(y_val, prediccion1, average='micro'))\n",
        "\n",
        "print(\"\\nMatriz de confusión Modelo 1 sobre Validation\")\n",
        "fig, ax = plt.subplots(figsize=(10, 10))\n",
        "\n",
        "disp = plot_confusion_matrix(model1, X_val, y_val, display_labels=model1.classes_, cmap=plt.cm.Blues,normalize='all', ax = ax)\n",
        "disp.ax_.set_title(\"confusion val\")\n"
      ],
      "execution_count": 21,
      "outputs": [
        {
          "output_type": "stream",
          "name": "stdout",
          "text": [
            "Accuracy Validation:  0.9863013698630136\n",
            "F1 score Validation (micro):  0.9863013698630136\n",
            "\n",
            "Matriz de confusión Modelo 1 sobre Validation\n"
          ]
        },
        {
          "output_type": "stream",
          "name": "stderr",
          "text": [
            "/usr/local/lib/python3.7/dist-packages/sklearn/utils/deprecation.py:87: FutureWarning: Function plot_confusion_matrix is deprecated; Function `plot_confusion_matrix` is deprecated in 1.0 and will be removed in 1.2. Use one of the class methods: ConfusionMatrixDisplay.from_predictions or ConfusionMatrixDisplay.from_estimator.\n",
            "  warnings.warn(msg, category=FutureWarning)\n"
          ]
        },
        {
          "output_type": "execute_result",
          "data": {
            "text/plain": [
              "Text(0.5, 1.0, 'confusion val')"
            ]
          },
          "metadata": {},
          "execution_count": 21
        },
        {
          "output_type": "display_data",
          "data": {
            "image/png": "[encoded data removed]",
            "text/plain": [
              "<Figure size 720x720 with 2 Axes>"
            ]
          },
          "metadata": {
            "needs_background": "light"
          }
        }
      ]
    },
    {
      "cell_type": "markdown",
      "metadata": {
        "id": "XAR7xJ7rZPzw"
      },
      "source": [
        "## Wrapper: Forward Stepwise Selection"
      ]
    },
    {
      "cell_type": "markdown",
      "metadata": {
        "id": "AcT-j-vxo5dp"
      },
      "source": [
        "#### A mano"
      ]
    },
    {
      "cell_type": "code",
      "metadata": {
        "id": "iCK2SF4tau0W"
      },
      "source": [
        "def filter_by_index(X, F):\n",
        "    return np.array([X[:, index] for index in F]).T\n",
        "\n",
        "def forward_stepwise_selection(x, y, x_val, y_val, columns, max_features = 10, debug = False):\n",
        "    criteria = True\n",
        "    F_ = []\n",
        "    while(criteria): \n",
        "        F = F_.copy()\n",
        "        S_i = []\n",
        "        for i, column in enumerate(columns):\n",
        "            if (i in F_):\n",
        "                continue\n",
        "\n",
        "            if (debug):\n",
        "                print(F)\n",
        "                \n",
        "            F.append(i)\n",
        "            model = LogisticRegression(verbose=0, solver='liblinear', random_state=0, C=2, max_iter=20)\n",
        "            \n",
        "            new_train = filter_by_index(x, F)\n",
        "            model.fit(new_train, y) \n",
        "\n",
        "            new_val = filter_by_index(x_val, F)\n",
        "            prediccion = model.predict(new_val)\n",
        "\n",
        "            S_i.append( f1_score(y_val, prediccion, average='micro') )\n",
        "        \n",
        "        best_i = np.argmax(S_i)\n",
        "        if (debug):\n",
        "            print(S_i)\n",
        "        if (len(F_) < max_features):\n",
        "            F_.append(F[best_i])\n",
        "        else: \n",
        "            criteria = False\n",
        "    return F_"
      ],
      "execution_count": 22,
      "outputs": []
    },
    {
      "cell_type": "code",
      "metadata": {
        "id": "mGfMuAdGbiJB"
      },
      "source": [
        "reduced_features = forward_stepwise_selection(X_train, y_train, X_val, y_val, non_categorical_asteriod)"
      ],
      "execution_count": 23,
      "outputs": []
    },
    {
      "cell_type": "code",
      "metadata": {
        "colab": {
          "base_uri": "https://localhost:8080/"
        },
        "id": "s-ej3R5ChuU0",
        "outputId": "dc88f13d-faff-409e-c273-cc6a390dcaa7"
      },
      "source": [
        "print(reduced_features)\n",
        "\n",
        "[non_categorical_asteriod[i] for i in reduced_features]"
      ],
      "execution_count": 24,
      "outputs": [
        {
          "output_type": "stream",
          "name": "stdout",
          "text": [
            "[19, 17, 15, 13, 11, 9, 7, 5, 3, 1]\n"
          ]
        },
        {
          "output_type": "execute_result",
          "data": {
            "text/plain": [
              "['sigma_e',\n",
              " 'moid',\n",
              " 'per',\n",
              " 'tp',\n",
              " 'ad',\n",
              " 'w',\n",
              " 'i',\n",
              " 'a',\n",
              " 'diameter_sigma',\n",
              " 'diameter']"
            ]
          },
          "metadata": {},
          "execution_count": 24
        }
      ]
    },
    {
      "cell_type": "code",
      "metadata": {
        "colab": {
          "base_uri": "https://localhost:8080/"
        },
        "id": "B1IUuhTHjTwm",
        "outputId": "07518fe9-b84b-41ab-cf47-4616458f7ed8"
      },
      "source": [
        "new_train = filter_by_index(X_train, reduced_features)\n",
        "new_train.shape"
      ],
      "execution_count": 25,
      "outputs": [
        {
          "output_type": "execute_result",
          "data": {
            "text/plain": [
              "(582, 10)"
            ]
          },
          "metadata": {},
          "execution_count": 25
        }
      ]
    },
    {
      "cell_type": "code",
      "metadata": {
        "colab": {
          "base_uri": "https://localhost:8080/",
          "height": 719
        },
        "id": "U8cKkdCphkQC",
        "outputId": "22bbe3fe-fd09-422e-819d-28ec46ea3e77"
      },
      "source": [
        "new_train = filter_by_index(X_train, reduced_features)\n",
        "new_val = filter_by_index(X_val, reduced_features)\n",
        "\n",
        "model = LogisticRegression(verbose=0, solver='liblinear', random_state=0, C=2, max_iter=20)  \n",
        "model.fit(new_train, y_train) \n",
        "\n",
        "prediccion1 = model.predict(new_val)\n",
        "\n",
        "print(\"Accuracy Validation: \", accuracy_score(y_val, prediccion1))\n",
        "print(\"F1 score Validation (micro): \", f1_score(y_val, prediccion1, average='micro'))\n",
        "\n",
        "print(\"\\nMatriz de confusión Modelo 1 sobre Validation\")\n",
        "fig, ax = plt.subplots(figsize=(10, 10))\n",
        "\n",
        "disp = plot_confusion_matrix(model, new_val, y_val, display_labels=model.classes_, cmap=plt.cm.Blues,normalize='all', ax = ax)\n",
        "disp.ax_.set_title(\"confusion val\")\n",
        "\n"
      ],
      "execution_count": 26,
      "outputs": [
        {
          "output_type": "stream",
          "name": "stdout",
          "text": [
            "Accuracy Validation:  0.9383561643835616\n",
            "F1 score Validation (micro):  0.9383561643835615\n",
            "\n",
            "Matriz de confusión Modelo 1 sobre Validation\n"
          ]
        },
        {
          "output_type": "stream",
          "name": "stderr",
          "text": [
            "/usr/local/lib/python3.7/dist-packages/sklearn/utils/deprecation.py:87: FutureWarning: Function plot_confusion_matrix is deprecated; Function `plot_confusion_matrix` is deprecated in 1.0 and will be removed in 1.2. Use one of the class methods: ConfusionMatrixDisplay.from_predictions or ConfusionMatrixDisplay.from_estimator.\n",
            "  warnings.warn(msg, category=FutureWarning)\n"
          ]
        },
        {
          "output_type": "execute_result",
          "data": {
            "text/plain": [
              "Text(0.5, 1.0, 'confusion val')"
            ]
          },
          "metadata": {},
          "execution_count": 26
        },
        {
          "output_type": "display_data",
          "data": {
            "image/png": "[encoded data removed]",
            "text/plain": [
              "<Figure size 720x720 with 2 Axes>"
            ]
          },
          "metadata": {
            "needs_background": "light"
          }
        }
      ]
    },
    {
      "cell_type": "markdown",
      "metadata": {
        "id": "BzFHqcEEo1CH"
      },
      "source": [
        "####  Via librería"
      ]
    },
    {
      "cell_type": "code",
      "metadata": {
        "colab": {
          "base_uri": "https://localhost:8080/"
        },
        "id": "2QipvR_GgG5c",
        "outputId": "c8c5fba4-ad54-4517-d538-4ac419d23968"
      },
      "source": [
        "!pip install mlxtend"
      ],
      "execution_count": 27,
      "outputs": [
        {
          "output_type": "stream",
          "name": "stdout",
          "text": [
            "Requirement already satisfied: mlxtend in /usr/local/lib/python3.7/dist-packages (0.14.0)\n",
            "Requirement already satisfied: matplotlib>=1.5.1 in /usr/local/lib/python3.7/dist-packages (from mlxtend) (3.2.2)\n",
            "Requirement already satisfied: scikit-learn>=0.18 in /usr/local/lib/python3.7/dist-packages (from mlxtend) (1.0.1)\n",
            "Requirement already satisfied: setuptools in /usr/local/lib/python3.7/dist-packages (from mlxtend) (57.4.0)\n",
            "Requirement already satisfied: scipy>=0.17 in /usr/local/lib/python3.7/dist-packages (from mlxtend) (1.4.1)\n",
            "Requirement already satisfied: pandas>=0.17.1 in /usr/local/lib/python3.7/dist-packages (from mlxtend) (1.1.5)\n",
            "Requirement already satisfied: numpy>=1.10.4 in /usr/local/lib/python3.7/dist-packages (from mlxtend) (1.19.5)\n",
            "Requirement already satisfied: pyparsing!=2.0.4,!=2.1.2,!=2.1.6,>=2.0.1 in /usr/local/lib/python3.7/dist-packages (from matplotlib>=1.5.1->mlxtend) (2.4.7)\n",
            "Requirement already satisfied: kiwisolver>=1.0.1 in /usr/local/lib/python3.7/dist-packages (from matplotlib>=1.5.1->mlxtend) (1.3.2)\n",
            "Requirement already satisfied: python-dateutil>=2.1 in /usr/local/lib/python3.7/dist-packages (from matplotlib>=1.5.1->mlxtend) (2.8.2)\n",
            "Requirement already satisfied: cycler>=0.10 in /usr/local/lib/python3.7/dist-packages (from matplotlib>=1.5.1->mlxtend) (0.11.0)\n",
            "Requirement already satisfied: pytz>=2017.2 in /usr/local/lib/python3.7/dist-packages (from pandas>=0.17.1->mlxtend) (2018.9)\n",
            "Requirement already satisfied: six>=1.5 in /usr/local/lib/python3.7/dist-packages (from python-dateutil>=2.1->matplotlib>=1.5.1->mlxtend) (1.15.0)\n",
            "Requirement already satisfied: joblib>=0.11 in /usr/local/lib/python3.7/dist-packages (from scikit-learn>=0.18->mlxtend) (1.1.0)\n",
            "Requirement already satisfied: threadpoolctl>=2.0.0 in /usr/local/lib/python3.7/dist-packages (from scikit-learn>=0.18->mlxtend) (3.0.0)\n"
          ]
        }
      ]
    },
    {
      "cell_type": "code",
      "metadata": {
        "id": "alBVmUironFz"
      },
      "source": [
        "# http://rasbt.github.io/mlxtend/user_guide/feature_selection/SequentialFeatureSelector/\n",
        "\n",
        "\n",
        "from mlxtend.evaluate import PredefinedHoldoutSplit\n",
        "\n",
        "import joblib\n",
        "import sys\n",
        "\n",
        "sys.modules['sklearn.externals.joblib'] = joblib\n",
        "\n",
        "\n",
        "from mlxtend.feature_selection import SequentialFeatureSelector as SFS\n"
      ],
      "execution_count": 28,
      "outputs": []
    },
    {
      "cell_type": "code",
      "metadata": {
        "id": "kRktAM3Vo8KJ"
      },
      "source": [
        "\n",
        "piter = PredefinedHoldoutSplit(val_row_nums)\n",
        "\n",
        "# Sequential Forward Selection(sfs)\n",
        "sfs = SFS(LogisticRegression(verbose=0, solver='liblinear', random_state=0, C=2, max_iter=20),\n",
        "          k_features=10,\n",
        "          forward=True,\n",
        "          floating=False,\n",
        "          scoring = 'accuracy',\n",
        "          cv = piter)"
      ],
      "execution_count": 29,
      "outputs": []
    },
    {
      "cell_type": "code",
      "metadata": {
        "colab": {
          "base_uri": "https://localhost:8080/"
        },
        "id": "ZxZBySIkpR9i",
        "outputId": "f0926a51-2187-45df-aa67-b3fdaeac0706"
      },
      "source": [
        "sfs.fit(X, y_)\n",
        "print('Selected features:', sfs.k_feature_idx_)"
      ],
      "execution_count": 30,
      "outputs": [
        {
          "output_type": "stream",
          "name": "stderr",
          "text": [
            "/usr/local/lib/python3.7/dist-packages/sklearn/svm/_base.py:1208: ConvergenceWarning: Liblinear failed to converge, increase the number of iterations.\n",
            "  ConvergenceWarning,\n",
            "/usr/local/lib/python3.7/dist-packages/sklearn/svm/_base.py:1208: ConvergenceWarning: Liblinear failed to converge, increase the number of iterations.\n",
            "  ConvergenceWarning,\n",
            "/usr/local/lib/python3.7/dist-packages/sklearn/svm/_base.py:1208: ConvergenceWarning: Liblinear failed to converge, increase the number of iterations.\n",
            "  ConvergenceWarning,\n",
            "/usr/local/lib/python3.7/dist-packages/sklearn/svm/_base.py:1208: ConvergenceWarning: Liblinear failed to converge, increase the number of iterations.\n",
            "  ConvergenceWarning,\n",
            "/usr/local/lib/python3.7/dist-packages/sklearn/svm/_base.py:1208: ConvergenceWarning: Liblinear failed to converge, increase the number of iterations.\n",
            "  ConvergenceWarning,\n",
            "/usr/local/lib/python3.7/dist-packages/sklearn/svm/_base.py:1208: ConvergenceWarning: Liblinear failed to converge, increase the number of iterations.\n",
            "  ConvergenceWarning,\n",
            "/usr/local/lib/python3.7/dist-packages/sklearn/svm/_base.py:1208: ConvergenceWarning: Liblinear failed to converge, increase the number of iterations.\n",
            "  ConvergenceWarning,\n",
            "/usr/local/lib/python3.7/dist-packages/sklearn/svm/_base.py:1208: ConvergenceWarning: Liblinear failed to converge, increase the number of iterations.\n",
            "  ConvergenceWarning,\n",
            "/usr/local/lib/python3.7/dist-packages/sklearn/svm/_base.py:1208: ConvergenceWarning: Liblinear failed to converge, increase the number of iterations.\n",
            "  ConvergenceWarning,\n",
            "/usr/local/lib/python3.7/dist-packages/sklearn/svm/_base.py:1208: ConvergenceWarning: Liblinear failed to converge, increase the number of iterations.\n",
            "  ConvergenceWarning,\n",
            "/usr/local/lib/python3.7/dist-packages/sklearn/svm/_base.py:1208: ConvergenceWarning: Liblinear failed to converge, increase the number of iterations.\n",
            "  ConvergenceWarning,\n",
            "/usr/local/lib/python3.7/dist-packages/sklearn/svm/_base.py:1208: ConvergenceWarning: Liblinear failed to converge, increase the number of iterations.\n",
            "  ConvergenceWarning,\n",
            "/usr/local/lib/python3.7/dist-packages/sklearn/svm/_base.py:1208: ConvergenceWarning: Liblinear failed to converge, increase the number of iterations.\n",
            "  ConvergenceWarning,\n",
            "/usr/local/lib/python3.7/dist-packages/sklearn/svm/_base.py:1208: ConvergenceWarning: Liblinear failed to converge, increase the number of iterations.\n",
            "  ConvergenceWarning,\n",
            "/usr/local/lib/python3.7/dist-packages/sklearn/svm/_base.py:1208: ConvergenceWarning: Liblinear failed to converge, increase the number of iterations.\n",
            "  ConvergenceWarning,\n",
            "/usr/local/lib/python3.7/dist-packages/sklearn/svm/_base.py:1208: ConvergenceWarning: Liblinear failed to converge, increase the number of iterations.\n",
            "  ConvergenceWarning,\n",
            "/usr/local/lib/python3.7/dist-packages/sklearn/svm/_base.py:1208: ConvergenceWarning: Liblinear failed to converge, increase the number of iterations.\n",
            "  ConvergenceWarning,\n",
            "/usr/local/lib/python3.7/dist-packages/sklearn/svm/_base.py:1208: ConvergenceWarning: Liblinear failed to converge, increase the number of iterations.\n",
            "  ConvergenceWarning,\n",
            "/usr/local/lib/python3.7/dist-packages/sklearn/svm/_base.py:1208: ConvergenceWarning: Liblinear failed to converge, increase the number of iterations.\n",
            "  ConvergenceWarning,\n",
            "/usr/local/lib/python3.7/dist-packages/sklearn/svm/_base.py:1208: ConvergenceWarning: Liblinear failed to converge, increase the number of iterations.\n",
            "  ConvergenceWarning,\n",
            "/usr/local/lib/python3.7/dist-packages/sklearn/svm/_base.py:1208: ConvergenceWarning: Liblinear failed to converge, increase the number of iterations.\n",
            "  ConvergenceWarning,\n",
            "/usr/local/lib/python3.7/dist-packages/sklearn/svm/_base.py:1208: ConvergenceWarning: Liblinear failed to converge, increase the number of iterations.\n",
            "  ConvergenceWarning,\n",
            "/usr/local/lib/python3.7/dist-packages/sklearn/svm/_base.py:1208: ConvergenceWarning: Liblinear failed to converge, increase the number of iterations.\n",
            "  ConvergenceWarning,\n",
            "/usr/local/lib/python3.7/dist-packages/sklearn/svm/_base.py:1208: ConvergenceWarning: Liblinear failed to converge, increase the number of iterations.\n",
            "  ConvergenceWarning,\n",
            "/usr/local/lib/python3.7/dist-packages/sklearn/svm/_base.py:1208: ConvergenceWarning: Liblinear failed to converge, increase the number of iterations.\n",
            "  ConvergenceWarning,\n",
            "/usr/local/lib/python3.7/dist-packages/sklearn/svm/_base.py:1208: ConvergenceWarning: Liblinear failed to converge, increase the number of iterations.\n",
            "  ConvergenceWarning,\n",
            "/usr/local/lib/python3.7/dist-packages/sklearn/svm/_base.py:1208: ConvergenceWarning: Liblinear failed to converge, increase the number of iterations.\n",
            "  ConvergenceWarning,\n",
            "/usr/local/lib/python3.7/dist-packages/sklearn/svm/_base.py:1208: ConvergenceWarning: Liblinear failed to converge, increase the number of iterations.\n",
            "  ConvergenceWarning,\n",
            "/usr/local/lib/python3.7/dist-packages/sklearn/svm/_base.py:1208: ConvergenceWarning: Liblinear failed to converge, increase the number of iterations.\n",
            "  ConvergenceWarning,\n",
            "/usr/local/lib/python3.7/dist-packages/sklearn/svm/_base.py:1208: ConvergenceWarning: Liblinear failed to converge, increase the number of iterations.\n",
            "  ConvergenceWarning,\n",
            "/usr/local/lib/python3.7/dist-packages/sklearn/svm/_base.py:1208: ConvergenceWarning: Liblinear failed to converge, increase the number of iterations.\n",
            "  ConvergenceWarning,\n",
            "/usr/local/lib/python3.7/dist-packages/sklearn/svm/_base.py:1208: ConvergenceWarning: Liblinear failed to converge, increase the number of iterations.\n",
            "  ConvergenceWarning,\n",
            "/usr/local/lib/python3.7/dist-packages/sklearn/svm/_base.py:1208: ConvergenceWarning: Liblinear failed to converge, increase the number of iterations.\n",
            "  ConvergenceWarning,\n",
            "/usr/local/lib/python3.7/dist-packages/sklearn/svm/_base.py:1208: ConvergenceWarning: Liblinear failed to converge, increase the number of iterations.\n",
            "  ConvergenceWarning,\n",
            "/usr/local/lib/python3.7/dist-packages/sklearn/svm/_base.py:1208: ConvergenceWarning: Liblinear failed to converge, increase the number of iterations.\n",
            "  ConvergenceWarning,\n",
            "/usr/local/lib/python3.7/dist-packages/sklearn/svm/_base.py:1208: ConvergenceWarning: Liblinear failed to converge, increase the number of iterations.\n",
            "  ConvergenceWarning,\n",
            "/usr/local/lib/python3.7/dist-packages/sklearn/svm/_base.py:1208: ConvergenceWarning: Liblinear failed to converge, increase the number of iterations.\n",
            "  ConvergenceWarning,\n",
            "/usr/local/lib/python3.7/dist-packages/sklearn/svm/_base.py:1208: ConvergenceWarning: Liblinear failed to converge, increase the number of iterations.\n",
            "  ConvergenceWarning,\n",
            "/usr/local/lib/python3.7/dist-packages/sklearn/svm/_base.py:1208: ConvergenceWarning: Liblinear failed to converge, increase the number of iterations.\n",
            "  ConvergenceWarning,\n",
            "/usr/local/lib/python3.7/dist-packages/sklearn/svm/_base.py:1208: ConvergenceWarning: Liblinear failed to converge, increase the number of iterations.\n",
            "  ConvergenceWarning,\n",
            "/usr/local/lib/python3.7/dist-packages/sklearn/svm/_base.py:1208: ConvergenceWarning: Liblinear failed to converge, increase the number of iterations.\n",
            "  ConvergenceWarning,\n",
            "/usr/local/lib/python3.7/dist-packages/sklearn/svm/_base.py:1208: ConvergenceWarning: Liblinear failed to converge, increase the number of iterations.\n",
            "  ConvergenceWarning,\n",
            "/usr/local/lib/python3.7/dist-packages/sklearn/svm/_base.py:1208: ConvergenceWarning: Liblinear failed to converge, increase the number of iterations.\n",
            "  ConvergenceWarning,\n",
            "/usr/local/lib/python3.7/dist-packages/sklearn/svm/_base.py:1208: ConvergenceWarning: Liblinear failed to converge, increase the number of iterations.\n",
            "  ConvergenceWarning,\n",
            "/usr/local/lib/python3.7/dist-packages/sklearn/svm/_base.py:1208: ConvergenceWarning: Liblinear failed to converge, increase the number of iterations.\n",
            "  ConvergenceWarning,\n",
            "/usr/local/lib/python3.7/dist-packages/sklearn/svm/_base.py:1208: ConvergenceWarning: Liblinear failed to converge, increase the number of iterations.\n",
            "  ConvergenceWarning,\n",
            "/usr/local/lib/python3.7/dist-packages/sklearn/svm/_base.py:1208: ConvergenceWarning: Liblinear failed to converge, increase the number of iterations.\n",
            "  ConvergenceWarning,\n",
            "/usr/local/lib/python3.7/dist-packages/sklearn/svm/_base.py:1208: ConvergenceWarning: Liblinear failed to converge, increase the number of iterations.\n",
            "  ConvergenceWarning,\n",
            "/usr/local/lib/python3.7/dist-packages/sklearn/svm/_base.py:1208: ConvergenceWarning: Liblinear failed to converge, increase the number of iterations.\n",
            "  ConvergenceWarning,\n",
            "/usr/local/lib/python3.7/dist-packages/sklearn/svm/_base.py:1208: ConvergenceWarning: Liblinear failed to converge, increase the number of iterations.\n",
            "  ConvergenceWarning,\n",
            "/usr/local/lib/python3.7/dist-packages/sklearn/svm/_base.py:1208: ConvergenceWarning: Liblinear failed to converge, increase the number of iterations.\n",
            "  ConvergenceWarning,\n",
            "/usr/local/lib/python3.7/dist-packages/sklearn/svm/_base.py:1208: ConvergenceWarning: Liblinear failed to converge, increase the number of iterations.\n",
            "  ConvergenceWarning,\n",
            "/usr/local/lib/python3.7/dist-packages/sklearn/svm/_base.py:1208: ConvergenceWarning: Liblinear failed to converge, increase the number of iterations.\n",
            "  ConvergenceWarning,\n",
            "/usr/local/lib/python3.7/dist-packages/sklearn/svm/_base.py:1208: ConvergenceWarning: Liblinear failed to converge, increase the number of iterations.\n",
            "  ConvergenceWarning,\n",
            "/usr/local/lib/python3.7/dist-packages/sklearn/svm/_base.py:1208: ConvergenceWarning: Liblinear failed to converge, increase the number of iterations.\n",
            "  ConvergenceWarning,\n",
            "/usr/local/lib/python3.7/dist-packages/sklearn/svm/_base.py:1208: ConvergenceWarning: Liblinear failed to converge, increase the number of iterations.\n",
            "  ConvergenceWarning,\n",
            "/usr/local/lib/python3.7/dist-packages/sklearn/svm/_base.py:1208: ConvergenceWarning: Liblinear failed to converge, increase the number of iterations.\n",
            "  ConvergenceWarning,\n",
            "/usr/local/lib/python3.7/dist-packages/sklearn/svm/_base.py:1208: ConvergenceWarning: Liblinear failed to converge, increase the number of iterations.\n",
            "  ConvergenceWarning,\n",
            "/usr/local/lib/python3.7/dist-packages/sklearn/svm/_base.py:1208: ConvergenceWarning: Liblinear failed to converge, increase the number of iterations.\n",
            "  ConvergenceWarning,\n",
            "/usr/local/lib/python3.7/dist-packages/sklearn/svm/_base.py:1208: ConvergenceWarning: Liblinear failed to converge, increase the number of iterations.\n",
            "  ConvergenceWarning,\n",
            "/usr/local/lib/python3.7/dist-packages/sklearn/svm/_base.py:1208: ConvergenceWarning: Liblinear failed to converge, increase the number of iterations.\n",
            "  ConvergenceWarning,\n",
            "/usr/local/lib/python3.7/dist-packages/sklearn/svm/_base.py:1208: ConvergenceWarning: Liblinear failed to converge, increase the number of iterations.\n",
            "  ConvergenceWarning,\n",
            "/usr/local/lib/python3.7/dist-packages/sklearn/svm/_base.py:1208: ConvergenceWarning: Liblinear failed to converge, increase the number of iterations.\n",
            "  ConvergenceWarning,\n",
            "/usr/local/lib/python3.7/dist-packages/sklearn/svm/_base.py:1208: ConvergenceWarning: Liblinear failed to converge, increase the number of iterations.\n",
            "  ConvergenceWarning,\n",
            "/usr/local/lib/python3.7/dist-packages/sklearn/svm/_base.py:1208: ConvergenceWarning: Liblinear failed to converge, increase the number of iterations.\n",
            "  ConvergenceWarning,\n",
            "/usr/local/lib/python3.7/dist-packages/sklearn/svm/_base.py:1208: ConvergenceWarning: Liblinear failed to converge, increase the number of iterations.\n",
            "  ConvergenceWarning,\n",
            "/usr/local/lib/python3.7/dist-packages/sklearn/svm/_base.py:1208: ConvergenceWarning: Liblinear failed to converge, increase the number of iterations.\n",
            "  ConvergenceWarning,\n",
            "/usr/local/lib/python3.7/dist-packages/sklearn/svm/_base.py:1208: ConvergenceWarning: Liblinear failed to converge, increase the number of iterations.\n",
            "  ConvergenceWarning,\n",
            "/usr/local/lib/python3.7/dist-packages/sklearn/svm/_base.py:1208: ConvergenceWarning: Liblinear failed to converge, increase the number of iterations.\n",
            "  ConvergenceWarning,\n",
            "/usr/local/lib/python3.7/dist-packages/sklearn/svm/_base.py:1208: ConvergenceWarning: Liblinear failed to converge, increase the number of iterations.\n",
            "  ConvergenceWarning,\n",
            "/usr/local/lib/python3.7/dist-packages/sklearn/svm/_base.py:1208: ConvergenceWarning: Liblinear failed to converge, increase the number of iterations.\n",
            "  ConvergenceWarning,\n",
            "/usr/local/lib/python3.7/dist-packages/sklearn/svm/_base.py:1208: ConvergenceWarning: Liblinear failed to converge, increase the number of iterations.\n",
            "  ConvergenceWarning,\n",
            "/usr/local/lib/python3.7/dist-packages/sklearn/svm/_base.py:1208: ConvergenceWarning: Liblinear failed to converge, increase the number of iterations.\n",
            "  ConvergenceWarning,\n",
            "/usr/local/lib/python3.7/dist-packages/sklearn/svm/_base.py:1208: ConvergenceWarning: Liblinear failed to converge, increase the number of iterations.\n",
            "  ConvergenceWarning,\n",
            "/usr/local/lib/python3.7/dist-packages/sklearn/svm/_base.py:1208: ConvergenceWarning: Liblinear failed to converge, increase the number of iterations.\n",
            "  ConvergenceWarning,\n",
            "/usr/local/lib/python3.7/dist-packages/sklearn/svm/_base.py:1208: ConvergenceWarning: Liblinear failed to converge, increase the number of iterations.\n",
            "  ConvergenceWarning,\n",
            "/usr/local/lib/python3.7/dist-packages/sklearn/svm/_base.py:1208: ConvergenceWarning: Liblinear failed to converge, increase the number of iterations.\n",
            "  ConvergenceWarning,\n",
            "/usr/local/lib/python3.7/dist-packages/sklearn/svm/_base.py:1208: ConvergenceWarning: Liblinear failed to converge, increase the number of iterations.\n",
            "  ConvergenceWarning,\n",
            "/usr/local/lib/python3.7/dist-packages/sklearn/svm/_base.py:1208: ConvergenceWarning: Liblinear failed to converge, increase the number of iterations.\n",
            "  ConvergenceWarning,\n",
            "/usr/local/lib/python3.7/dist-packages/sklearn/svm/_base.py:1208: ConvergenceWarning: Liblinear failed to converge, increase the number of iterations.\n",
            "  ConvergenceWarning,\n",
            "/usr/local/lib/python3.7/dist-packages/sklearn/svm/_base.py:1208: ConvergenceWarning: Liblinear failed to converge, increase the number of iterations.\n",
            "  ConvergenceWarning,\n",
            "/usr/local/lib/python3.7/dist-packages/sklearn/svm/_base.py:1208: ConvergenceWarning: Liblinear failed to converge, increase the number of iterations.\n",
            "  ConvergenceWarning,\n",
            "/usr/local/lib/python3.7/dist-packages/sklearn/svm/_base.py:1208: ConvergenceWarning: Liblinear failed to converge, increase the number of iterations.\n",
            "  ConvergenceWarning,\n",
            "/usr/local/lib/python3.7/dist-packages/sklearn/svm/_base.py:1208: ConvergenceWarning: Liblinear failed to converge, increase the number of iterations.\n",
            "  ConvergenceWarning,\n",
            "/usr/local/lib/python3.7/dist-packages/sklearn/svm/_base.py:1208: ConvergenceWarning: Liblinear failed to converge, increase the number of iterations.\n",
            "  ConvergenceWarning,\n",
            "/usr/local/lib/python3.7/dist-packages/sklearn/svm/_base.py:1208: ConvergenceWarning: Liblinear failed to converge, increase the number of iterations.\n",
            "  ConvergenceWarning,\n",
            "/usr/local/lib/python3.7/dist-packages/sklearn/svm/_base.py:1208: ConvergenceWarning: Liblinear failed to converge, increase the number of iterations.\n",
            "  ConvergenceWarning,\n",
            "/usr/local/lib/python3.7/dist-packages/sklearn/svm/_base.py:1208: ConvergenceWarning: Liblinear failed to converge, increase the number of iterations.\n",
            "  ConvergenceWarning,\n",
            "/usr/local/lib/python3.7/dist-packages/sklearn/svm/_base.py:1208: ConvergenceWarning: Liblinear failed to converge, increase the number of iterations.\n",
            "  ConvergenceWarning,\n",
            "/usr/local/lib/python3.7/dist-packages/sklearn/svm/_base.py:1208: ConvergenceWarning: Liblinear failed to converge, increase the number of iterations.\n",
            "  ConvergenceWarning,\n",
            "/usr/local/lib/python3.7/dist-packages/sklearn/svm/_base.py:1208: ConvergenceWarning: Liblinear failed to converge, increase the number of iterations.\n",
            "  ConvergenceWarning,\n",
            "/usr/local/lib/python3.7/dist-packages/sklearn/svm/_base.py:1208: ConvergenceWarning: Liblinear failed to converge, increase the number of iterations.\n",
            "  ConvergenceWarning,\n",
            "/usr/local/lib/python3.7/dist-packages/sklearn/svm/_base.py:1208: ConvergenceWarning: Liblinear failed to converge, increase the number of iterations.\n",
            "  ConvergenceWarning,\n",
            "/usr/local/lib/python3.7/dist-packages/sklearn/svm/_base.py:1208: ConvergenceWarning: Liblinear failed to converge, increase the number of iterations.\n",
            "  ConvergenceWarning,\n",
            "/usr/local/lib/python3.7/dist-packages/sklearn/svm/_base.py:1208: ConvergenceWarning: Liblinear failed to converge, increase the number of iterations.\n",
            "  ConvergenceWarning,\n",
            "/usr/local/lib/python3.7/dist-packages/sklearn/svm/_base.py:1208: ConvergenceWarning: Liblinear failed to converge, increase the number of iterations.\n",
            "  ConvergenceWarning,\n",
            "/usr/local/lib/python3.7/dist-packages/sklearn/svm/_base.py:1208: ConvergenceWarning: Liblinear failed to converge, increase the number of iterations.\n",
            "  ConvergenceWarning,\n",
            "/usr/local/lib/python3.7/dist-packages/sklearn/svm/_base.py:1208: ConvergenceWarning: Liblinear failed to converge, increase the number of iterations.\n",
            "  ConvergenceWarning,\n"
          ]
        },
        {
          "output_type": "stream",
          "name": "stdout",
          "text": [
            "Selected features: (0, 3, 4, 5, 6, 7, 9, 11, 15, 18)\n"
          ]
        },
        {
          "output_type": "stream",
          "name": "stderr",
          "text": [
            "/usr/local/lib/python3.7/dist-packages/sklearn/svm/_base.py:1208: ConvergenceWarning: Liblinear failed to converge, increase the number of iterations.\n",
            "  ConvergenceWarning,\n",
            "/usr/local/lib/python3.7/dist-packages/sklearn/svm/_base.py:1208: ConvergenceWarning: Liblinear failed to converge, increase the number of iterations.\n",
            "  ConvergenceWarning,\n",
            "/usr/local/lib/python3.7/dist-packages/sklearn/svm/_base.py:1208: ConvergenceWarning: Liblinear failed to converge, increase the number of iterations.\n",
            "  ConvergenceWarning,\n",
            "/usr/local/lib/python3.7/dist-packages/sklearn/svm/_base.py:1208: ConvergenceWarning: Liblinear failed to converge, increase the number of iterations.\n",
            "  ConvergenceWarning,\n",
            "/usr/local/lib/python3.7/dist-packages/sklearn/svm/_base.py:1208: ConvergenceWarning: Liblinear failed to converge, increase the number of iterations.\n",
            "  ConvergenceWarning,\n",
            "/usr/local/lib/python3.7/dist-packages/sklearn/svm/_base.py:1208: ConvergenceWarning: Liblinear failed to converge, increase the number of iterations.\n",
            "  ConvergenceWarning,\n"
          ]
        }
      ]
    },
    {
      "cell_type": "code",
      "metadata": {
        "colab": {
          "base_uri": "https://localhost:8080/"
        },
        "id": "8_K67AaKsFHP",
        "outputId": "900afd32-5f0b-4111-c3f0-061d1c8c1776"
      },
      "source": [
        "print([non_categorical_asteriod[i] for i in reduced_features])\n",
        "\n",
        "[non_categorical_asteriod[i] for i in sfs.k_feature_idx_]"
      ],
      "execution_count": 31,
      "outputs": [
        {
          "output_type": "stream",
          "name": "stdout",
          "text": [
            "['sigma_e', 'moid', 'per', 'tp', 'ad', 'w', 'i', 'a', 'diameter_sigma', 'diameter']\n"
          ]
        },
        {
          "output_type": "execute_result",
          "data": {
            "text/plain": [
              "['H', 'diameter_sigma', 'e', 'a', 'q', 'i', 'w', 'ad', 'per', 'moid_ld']"
            ]
          },
          "metadata": {},
          "execution_count": 31
        }
      ]
    },
    {
      "cell_type": "code",
      "metadata": {
        "colab": {
          "base_uri": "https://localhost:8080/"
        },
        "id": "NBPHjUPExqs3",
        "outputId": "52195707-0b66-42ab-94ed-41129b6942ec"
      },
      "source": [
        "sfs.k_feature_idx_"
      ],
      "execution_count": 32,
      "outputs": [
        {
          "output_type": "execute_result",
          "data": {
            "text/plain": [
              "(0, 3, 4, 5, 6, 7, 9, 11, 15, 18)"
            ]
          },
          "metadata": {},
          "execution_count": 32
        }
      ]
    },
    {
      "cell_type": "code",
      "metadata": {
        "colab": {
          "base_uri": "https://localhost:8080/",
          "height": 736
        },
        "id": "XMAwllpeqsKd",
        "outputId": "13ed6435-4d38-417e-c1d5-e14bded4aaaa"
      },
      "source": [
        "new_train = filter_by_index(X_train, sfs.k_feature_idx_)\n",
        "new_val = filter_by_index(X_val, sfs.k_feature_idx_)\n",
        "print(new_train.shape)\n",
        "model = LogisticRegression(verbose=0, solver='liblinear', random_state=0, C=2, max_iter=20)  \n",
        "model.fit(new_train, y_train) \n",
        "\n",
        "prediccion1 = model.predict(new_val)\n",
        "\n",
        "print(\"Accuracy Validation: \", accuracy_score(y_val, prediccion1))\n",
        "print(\"F1 score Validation (micro): \", f1_score(y_val, prediccion1, average='micro'))\n",
        "\n",
        "print(\"\\nMatriz de confusión Modelo 1 sobre Validation\")\n",
        "fig, ax = plt.subplots(figsize=(10, 10))\n",
        "\n",
        "disp = plot_confusion_matrix(model, new_val, y_val, display_labels=model.classes_, cmap=plt.cm.Blues,normalize='all', ax = ax)\n",
        "disp.ax_.set_title(\"confusion val\")\n",
        "\n"
      ],
      "execution_count": 33,
      "outputs": [
        {
          "output_type": "stream",
          "name": "stderr",
          "text": [
            "/usr/local/lib/python3.7/dist-packages/sklearn/utils/deprecation.py:87: FutureWarning: Function plot_confusion_matrix is deprecated; Function `plot_confusion_matrix` is deprecated in 1.0 and will be removed in 1.2. Use one of the class methods: ConfusionMatrixDisplay.from_predictions or ConfusionMatrixDisplay.from_estimator.\n",
            "  warnings.warn(msg, category=FutureWarning)\n"
          ]
        },
        {
          "output_type": "stream",
          "name": "stdout",
          "text": [
            "(582, 10)\n",
            "Accuracy Validation:  0.9657534246575342\n",
            "F1 score Validation (micro):  0.9657534246575342\n",
            "\n",
            "Matriz de confusión Modelo 1 sobre Validation\n"
          ]
        },
        {
          "output_type": "execute_result",
          "data": {
            "text/plain": [
              "Text(0.5, 1.0, 'confusion val')"
            ]
          },
          "metadata": {},
          "execution_count": 33
        },
        {
          "output_type": "display_data",
          "data": {
            "image/png": "[encoded data removed]",
            "text/plain": [
              "<Figure size 720x720 with 2 Axes>"
            ]
          },
          "metadata": {
            "needs_background": "light"
          }
        }
      ]
    },
    {
      "cell_type": "markdown",
      "metadata": {
        "id": "fGT1oGQaE9yH"
      },
      "source": [
        "## Embedido: Regularización Lasso "
      ]
    },
    {
      "cell_type": "code",
      "metadata": {
        "id": "7yUAAluGFAYY"
      },
      "source": [
        "from sklearn.feature_selection import SelectFromModel\n",
        "# https://towardsdatascience.com/feature-selection-using-regularisation-a3678b71e499\n"
      ],
      "execution_count": 34,
      "outputs": []
    },
    {
      "cell_type": "code",
      "metadata": {
        "colab": {
          "base_uri": "https://localhost:8080/"
        },
        "id": "z2CaQoQcFFQX",
        "outputId": "f0ca3432-4f86-42e9-9cd9-30335a9728a8"
      },
      "source": [
        "sel_ = SelectFromModel(LogisticRegression(verbose=1, solver='liblinear', random_state=0, C=2, max_iter=30, penalty='l1'))\n",
        "sel_.fit(X_train, y_train)\n"
      ],
      "execution_count": 35,
      "outputs": [
        {
          "output_type": "stream",
          "name": "stdout",
          "text": [
            "[LibLinear]"
          ]
        },
        {
          "output_type": "execute_result",
          "data": {
            "text/plain": [
              "SelectFromModel(estimator=LogisticRegression(C=2, max_iter=30, penalty='l1',\n",
              "                                             random_state=0, solver='liblinear',\n",
              "                                             verbose=1))"
            ]
          },
          "metadata": {},
          "execution_count": 35
        }
      ]
    },
    {
      "cell_type": "markdown",
      "metadata": {
        "id": "7vWRnIpyFeIC"
      },
      "source": [
        "Aparecen con True aquellas caracteristicas no nulas, mientras que False aparecen aquellas que descienden a cero con Lasso. \n"
      ]
    },
    {
      "cell_type": "code",
      "metadata": {
        "colab": {
          "base_uri": "https://localhost:8080/"
        },
        "id": "gZ35ov7XFRWz",
        "outputId": "cf50b1f8-d325-4086-e286-3ea85b2e1bcd"
      },
      "source": [
        "print(sel_.get_support().size)\n",
        "sel_.get_support()\n"
      ],
      "execution_count": 36,
      "outputs": [
        {
          "output_type": "stream",
          "name": "stdout",
          "text": [
            "31\n"
          ]
        },
        {
          "output_type": "execute_result",
          "data": {
            "text/plain": [
              "array([ True, False,  True,  True,  True,  True, False,  True,  True,\n",
              "        True,  True, False,  True, False,  True, False, False,  True,\n",
              "        True,  True, False,  True, False,  True,  True, False, False,\n",
              "       False, False,  True, False])"
            ]
          },
          "metadata": {},
          "execution_count": 36
        }
      ]
    },
    {
      "cell_type": "code",
      "metadata": {
        "colab": {
          "base_uri": "https://localhost:8080/"
        },
        "id": "dVqw8BS7FxgW",
        "outputId": "e136f70c-9a88-43c5-810e-01bcf3cdfb1a"
      },
      "source": [
        "relevant_lasso = [non_categorical_asteriod[i] for i, cond in enumerate(sel_.get_support()) if cond == True]\n",
        "\n",
        "print(relevant_lasso)\n",
        "print(len(relevant_lasso))"
      ],
      "execution_count": 37,
      "outputs": [
        {
          "output_type": "stream",
          "name": "stdout",
          "text": [
            "['H', 'albedo', 'diameter_sigma', 'e', 'a', 'i', 'om', 'w', 'ma', 'n', 'tp_cal', 'moid', 'moid_ld', 'sigma_e', 'sigma_q', 'sigma_om', 'sigma_w', 'sigma_per']\n",
            "18\n"
          ]
        }
      ]
    },
    {
      "cell_type": "code",
      "metadata": {
        "colab": {
          "base_uri": "https://localhost:8080/",
          "height": 736
        },
        "id": "vt1sOZpXGorM",
        "outputId": "f6e51619-104c-4811-b0ef-062329fa7da0"
      },
      "source": [
        "relevant_indexs = [i for i, cond in enumerate(sel_.get_support()) if cond == True]\n",
        "\n",
        "new_train = filter_by_index(X_train, relevant_indexs)\n",
        "new_val = filter_by_index(X_val, relevant_indexs)\n",
        "print(new_train.shape)\n",
        "\n",
        "model = LogisticRegression(verbose=0, solver='liblinear', random_state=0, C=2, max_iter=20)  \n",
        "model.fit(new_train, y_train) \n",
        "\n",
        "prediccion1 = model.predict(new_val)\n",
        "\n",
        "print(\"Accuracy Validation: \", accuracy_score(y_val, prediccion1))\n",
        "print(\"F1 score Validation (micro): \", f1_score(y_val, prediccion1, average='micro'))\n",
        "\n",
        "print(\"\\nMatriz de confusión Modelo 1 sobre Validation\")\n",
        "fig, ax = plt.subplots(figsize=(10, 10))\n",
        "\n",
        "disp = plot_confusion_matrix(model, new_val, y_val, display_labels=model.classes_, cmap=plt.cm.Blues,normalize='all', ax = ax)\n",
        "disp.ax_.set_title(\"confusion val\")\n"
      ],
      "execution_count": 38,
      "outputs": [
        {
          "output_type": "stream",
          "name": "stdout",
          "text": [
            "(582, 18)\n",
            "Accuracy Validation:  0.9863013698630136\n",
            "F1 score Validation (micro):  0.9863013698630136\n",
            "\n",
            "Matriz de confusión Modelo 1 sobre Validation\n"
          ]
        },
        {
          "output_type": "stream",
          "name": "stderr",
          "text": [
            "/usr/local/lib/python3.7/dist-packages/sklearn/utils/deprecation.py:87: FutureWarning: Function plot_confusion_matrix is deprecated; Function `plot_confusion_matrix` is deprecated in 1.0 and will be removed in 1.2. Use one of the class methods: ConfusionMatrixDisplay.from_predictions or ConfusionMatrixDisplay.from_estimator.\n",
            "  warnings.warn(msg, category=FutureWarning)\n"
          ]
        },
        {
          "output_type": "execute_result",
          "data": {
            "text/plain": [
              "Text(0.5, 1.0, 'confusion val')"
            ]
          },
          "metadata": {},
          "execution_count": 38
        },
        {
          "output_type": "display_data",
          "data": {
            "image/png": "[encoded data removed]",
            "text/plain": [
              "<Figure size 720x720 with 2 Axes>"
            ]
          },
          "metadata": {
            "needs_background": "light"
          }
        }
      ]
    },
    {
      "cell_type": "markdown",
      "metadata": {
        "id": "fIZUjFbDHz76"
      },
      "source": [
        "## Filtrado colectivo: RELIEF"
      ]
    },
    {
      "cell_type": "markdown",
      "metadata": {
        "id": "-OKoCq2nIlVl"
      },
      "source": [
        "Trabajar solo con numpy arrays será dificil, por lo que haremos un Scaler de tal forma que no se pierdan los Dataframes"
      ]
    },
    {
      "cell_type": "code",
      "metadata": {
        "colab": {
          "base_uri": "https://localhost:8080/",
          "height": 411
        },
        "id": "AEbLqEbnIxZP",
        "outputId": "de2eb68f-d86e-4d0b-aa95-6ed2c3776373"
      },
      "source": [
        "from sklearn.model_selection import train_test_split\n",
        "\n",
        "# Separar datos para el posterior entrenamiento, validación y test\n",
        "\n",
        "# Split de datos\n",
        "X = data_asteroid_balanced[non_categorical_asteriod]\n",
        "y = data_asteroid_balanced['class']\n",
        "\n",
        "y_ = y.copy()\n",
        "\n",
        "print(X.shape)\n",
        "print(y_.shape)\n",
        "\n",
        "X_train, X_test, y_train, y_test = train_test_split(X, y_, test_size=0.2, random_state=0)\n",
        "X_train, X_val, y_train, y_val = train_test_split(X_train, y_train, test_size=0.2, random_state=0)\n",
        "\n",
        "print(\"X,y Shapes:\", X.shape, y.shape)\n",
        "print(\"X,y Train Shapes:\", X_train.shape, y_train.shape)\n",
        "print(\"X,y Val Shapes:\", X_val.shape, y_val.shape)\n",
        "print(\"X,y Test Shapes:\", X_test.shape, y_test.shape)\n",
        "\n",
        "X_train.head()"
      ],
      "execution_count": 39,
      "outputs": [
        {
          "output_type": "stream",
          "name": "stdout",
          "text": [
            "(910, 31)\n",
            "(910,)\n",
            "X,y Shapes: (910, 31) (910,)\n",
            "X,y Train Shapes: (582, 31) (582,)\n",
            "X,y Val Shapes: (146, 31) (146,)\n",
            "X,y Test Shapes: (182, 31) (182,)\n"
          ]
        },
        {
          "output_type": "execute_result",
          "data": {
            "text/html": [
              "<div>\n",
              "<style scoped>\n",
              "    .dataframe tbody tr th:only-of-type {\n",
              "        vertical-align: middle;\n",
              "    }\n",
              "\n",
              "    .dataframe tbody tr th {\n",
              "        vertical-align: top;\n",
              "    }\n",
              "\n",
              "    .dataframe thead th {\n",
              "        text-align: right;\n",
              "    }\n",
              "</style>\n",
              "<table border=\"1\" class=\"dataframe\">\n",
              "  <thead>\n",
              "    <tr style=\"text-align: right;\">\n",
              "      <th></th>\n",
              "      <th>H</th>\n",
              "      <th>diameter</th>\n",
              "      <th>albedo</th>\n",
              "      <th>diameter_sigma</th>\n",
              "      <th>e</th>\n",
              "      <th>a</th>\n",
              "      <th>q</th>\n",
              "      <th>i</th>\n",
              "      <th>om</th>\n",
              "      <th>w</th>\n",
              "      <th>ma</th>\n",
              "      <th>ad</th>\n",
              "      <th>n</th>\n",
              "      <th>tp</th>\n",
              "      <th>tp_cal</th>\n",
              "      <th>per</th>\n",
              "      <th>per_y</th>\n",
              "      <th>moid</th>\n",
              "      <th>moid_ld</th>\n",
              "      <th>sigma_e</th>\n",
              "      <th>sigma_a</th>\n",
              "      <th>sigma_q</th>\n",
              "      <th>sigma_i</th>\n",
              "      <th>sigma_om</th>\n",
              "      <th>sigma_w</th>\n",
              "      <th>sigma_ma</th>\n",
              "      <th>sigma_ad</th>\n",
              "      <th>sigma_n</th>\n",
              "      <th>sigma_tp</th>\n",
              "      <th>sigma_per</th>\n",
              "      <th>rms</th>\n",
              "    </tr>\n",
              "  </thead>\n",
              "  <tbody>\n",
              "    <tr>\n",
              "      <th>67377</th>\n",
              "      <td>15.7</td>\n",
              "      <td>3.222</td>\n",
              "      <td>0.074</td>\n",
              "      <td>0.343</td>\n",
              "      <td>0.045039</td>\n",
              "      <td>1.986439</td>\n",
              "      <td>1.896971</td>\n",
              "      <td>19.324551</td>\n",
              "      <td>290.319692</td>\n",
              "      <td>315.772461</td>\n",
              "      <td>85.308548</td>\n",
              "      <td>2.075907</td>\n",
              "      <td>0.352039</td>\n",
              "      <td>2.458758e+06</td>\n",
              "      <td>2.019100e+07</td>\n",
              "      <td>1022.612867</td>\n",
              "      <td>2.799761</td>\n",
              "      <td>0.898297</td>\n",
              "      <td>349.590243</td>\n",
              "      <td>3.690400e-08</td>\n",
              "      <td>7.775100e-09</td>\n",
              "      <td>7.413300e-08</td>\n",
              "      <td>0.000007</td>\n",
              "      <td>0.000012</td>\n",
              "      <td>0.000081</td>\n",
              "      <td>0.000081</td>\n",
              "      <td>8.125300e-09</td>\n",
              "      <td>2.066900e-09</td>\n",
              "      <td>0.000229</td>\n",
              "      <td>0.000006</td>\n",
              "      <td>0.48556</td>\n",
              "    </tr>\n",
              "    <tr>\n",
              "      <th>676043</th>\n",
              "      <td>17.1</td>\n",
              "      <td>2.029</td>\n",
              "      <td>0.047</td>\n",
              "      <td>0.481</td>\n",
              "      <td>0.060729</td>\n",
              "      <td>1.870714</td>\n",
              "      <td>1.757106</td>\n",
              "      <td>14.844674</td>\n",
              "      <td>61.006012</td>\n",
              "      <td>342.402142</td>\n",
              "      <td>132.365127</td>\n",
              "      <td>1.984321</td>\n",
              "      <td>0.385206</td>\n",
              "      <td>2.454988e+06</td>\n",
              "      <td>2.009061e+07</td>\n",
              "      <td>934.564802</td>\n",
              "      <td>2.558699</td>\n",
              "      <td>0.769016</td>\n",
              "      <td>299.277957</td>\n",
              "      <td>7.637000e-01</td>\n",
              "      <td>2.285400e+00</td>\n",
              "      <td>3.554500e+00</td>\n",
              "      <td>5.389700</td>\n",
              "      <td>33.527000</td>\n",
              "      <td>587.210000</td>\n",
              "      <td>557.300000</td>\n",
              "      <td>2.424200e+00</td>\n",
              "      <td>7.058800e-01</td>\n",
              "      <td>833.020000</td>\n",
              "      <td>1712.600000</td>\n",
              "      <td>0.13881</td>\n",
              "    </tr>\n",
              "    <tr>\n",
              "      <th>16680</th>\n",
              "      <td>14.3</td>\n",
              "      <td>4.328</td>\n",
              "      <td>0.230</td>\n",
              "      <td>0.053</td>\n",
              "      <td>0.063641</td>\n",
              "      <td>1.893439</td>\n",
              "      <td>1.772940</td>\n",
              "      <td>23.416223</td>\n",
              "      <td>342.481955</td>\n",
              "      <td>63.934531</td>\n",
              "      <td>125.466279</td>\n",
              "      <td>2.013939</td>\n",
              "      <td>0.378292</td>\n",
              "      <td>2.458669e+06</td>\n",
              "      <td>2.019070e+07</td>\n",
              "      <td>951.646304</td>\n",
              "      <td>2.605466</td>\n",
              "      <td>0.817502</td>\n",
              "      <td>318.147253</td>\n",
              "      <td>6.523800e-08</td>\n",
              "      <td>6.973600e-09</td>\n",
              "      <td>1.207900e-07</td>\n",
              "      <td>0.000006</td>\n",
              "      <td>0.000009</td>\n",
              "      <td>0.000056</td>\n",
              "      <td>0.000050</td>\n",
              "      <td>7.417400e-09</td>\n",
              "      <td>2.089900e-09</td>\n",
              "      <td>0.000133</td>\n",
              "      <td>0.000005</td>\n",
              "      <td>0.40610</td>\n",
              "    </tr>\n",
              "    <tr>\n",
              "      <th>677905</th>\n",
              "      <td>16.5</td>\n",
              "      <td>2.816</td>\n",
              "      <td>0.056</td>\n",
              "      <td>0.595</td>\n",
              "      <td>0.371763</td>\n",
              "      <td>2.194821</td>\n",
              "      <td>1.378867</td>\n",
              "      <td>27.434525</td>\n",
              "      <td>71.133017</td>\n",
              "      <td>35.802738</td>\n",
              "      <td>251.144433</td>\n",
              "      <td>3.010776</td>\n",
              "      <td>0.303114</td>\n",
              "      <td>2.454529e+06</td>\n",
              "      <td>2.008030e+07</td>\n",
              "      <td>1187.673883</td>\n",
              "      <td>3.251674</td>\n",
              "      <td>0.440214</td>\n",
              "      <td>171.318082</td>\n",
              "      <td>1.240800e+00</td>\n",
              "      <td>3.308800e+00</td>\n",
              "      <td>4.586600e+00</td>\n",
              "      <td>9.337900</td>\n",
              "      <td>63.733000</td>\n",
              "      <td>182.490000</td>\n",
              "      <td>158.900000</td>\n",
              "      <td>4.538900e+00</td>\n",
              "      <td>6.854400e-01</td>\n",
              "      <td>2248.600000</td>\n",
              "      <td>2685.700000</td>\n",
              "      <td>0.35743</td>\n",
              "    </tr>\n",
              "    <tr>\n",
              "      <th>3168</th>\n",
              "      <td>12.7</td>\n",
              "      <td>4.662</td>\n",
              "      <td>0.960</td>\n",
              "      <td>0.118</td>\n",
              "      <td>0.066634</td>\n",
              "      <td>1.892181</td>\n",
              "      <td>1.766097</td>\n",
              "      <td>24.906466</td>\n",
              "      <td>96.372205</td>\n",
              "      <td>32.672842</td>\n",
              "      <td>139.137595</td>\n",
              "      <td>2.018265</td>\n",
              "      <td>0.378669</td>\n",
              "      <td>2.458633e+06</td>\n",
              "      <td>2.019053e+07</td>\n",
              "      <td>950.697421</td>\n",
              "      <td>2.602868</td>\n",
              "      <td>0.796836</td>\n",
              "      <td>310.104666</td>\n",
              "      <td>3.484800e-08</td>\n",
              "      <td>5.415000e-09</td>\n",
              "      <td>6.694700e-08</td>\n",
              "      <td>0.000006</td>\n",
              "      <td>0.000012</td>\n",
              "      <td>0.000054</td>\n",
              "      <td>0.000052</td>\n",
              "      <td>5.775800e-09</td>\n",
              "      <td>1.625500e-09</td>\n",
              "      <td>0.000137</td>\n",
              "      <td>0.000004</td>\n",
              "      <td>0.33411</td>\n",
              "    </tr>\n",
              "  </tbody>\n",
              "</table>\n",
              "</div>"
            ],
            "text/plain": [
              "           H  diameter  albedo  ...     sigma_tp    sigma_per      rms\n",
              "67377   15.7     3.222   0.074  ...     0.000229     0.000006  0.48556\n",
              "676043  17.1     2.029   0.047  ...   833.020000  1712.600000  0.13881\n",
              "16680   14.3     4.328   0.230  ...     0.000133     0.000005  0.40610\n",
              "677905  16.5     2.816   0.056  ...  2248.600000  2685.700000  0.35743\n",
              "3168    12.7     4.662   0.960  ...     0.000137     0.000004  0.33411\n",
              "\n",
              "[5 rows x 31 columns]"
            ]
          },
          "metadata": {},
          "execution_count": 39
        }
      ]
    },
    {
      "cell_type": "code",
      "metadata": {
        "id": "8KFVS3ScIunz"
      },
      "source": [
        "scaler = StandardScaler()\n",
        "\n",
        "scaler.fit(X_train[non_categorical_asteriod])\n",
        "\n",
        "X_train[non_categorical_asteriod] = scaler.transform(X_train[non_categorical_asteriod])\n",
        "X_val[non_categorical_asteriod] = scaler.transform(X_val[non_categorical_asteriod])\n",
        "X_test[non_categorical_asteriod] = scaler.transform(X_test[non_categorical_asteriod])\n"
      ],
      "execution_count": 40,
      "outputs": []
    },
    {
      "cell_type": "code",
      "metadata": {
        "colab": {
          "base_uri": "https://localhost:8080/"
        },
        "id": "lr6xSnQnH6HH",
        "outputId": "78be2044-9b7d-4f23-cec2-8640b94463e7"
      },
      "source": [
        "np.random.RandomState(1)"
      ],
      "execution_count": 41,
      "outputs": [
        {
          "output_type": "execute_result",
          "data": {
            "text/plain": [
              "RandomState(MT19937) at 0x7F1FA0644380"
            ]
          },
          "metadata": {},
          "execution_count": 41
        }
      ]
    },
    {
      "cell_type": "code",
      "metadata": {
        "colab": {
          "base_uri": "https://localhost:8080/"
        },
        "id": "Rw21XWNDH_os",
        "outputId": "560b6a3f-1d4a-4570-f24e-a8937b8aaf85"
      },
      "source": [
        "from scipy.spatial.distance import pdist, squareform\n",
        "\n",
        "\n",
        "distances = pdist(X_train, metric='euclidean')\n",
        "\n",
        "dist_matrix = squareform(distances)\n",
        "\n",
        "m = 200 # interation number\n",
        "\n",
        "def update_weigh(random_sample, instance_intra_class, instance_inter_class, weighs, distances, m):\n",
        "\n",
        "    for i in range( len(weighs) ):\n",
        "        weighs[i] = weighs[i] - abs(instance_intra_class.values[0][i] - random_sample.values[0][i]) / (m*distances[0]) +  abs(instance_inter_class.values[0][i] - random_sample.values[0][i])/(m*distances[1]) \n",
        "\n",
        "feature_weighs = np.zeros( len(non_categorical_asteriod) )\n",
        "\n",
        "# RELIEF ALGORITHM\n",
        "\n",
        "for i in range(m):\n",
        "\n",
        "    random_number = np.random.randint(X_train.shape[0])\n",
        "    random_sample = X_train.iloc[[  random_number ]]\n",
        "    #print(\"\\nrandom_sample: \\n\")\n",
        "    #print(random_sample)\n",
        "\n",
        "    random_sample_category = y_train.iloc[[  random_number ]].values\n",
        "    \n",
        "    print(\"random sample category :\", random_sample_category)\n",
        "\n",
        "\n",
        "    distances = [np.Inf, np.Inf] # intra, inter\n",
        "\n",
        "    instance_intra_class =  X_train.iloc[[ 0 ]]\n",
        "    instance_inter_class = X_train.iloc[[ 0 ]]\n",
        "    \n",
        "    for i, distance in enumerate(dist_matrix[random_number]): # seleccionar la fila respectiva en la matriz de distancias\n",
        "    \n",
        "        if ( y_train.iloc[[  i ]].values[0] == random_sample_category): # distancia intra class \n",
        "            if (distance <  distances[0]):\n",
        "                if (i == random_number):\n",
        "                    continue\n",
        "                distances[0] = distance\n",
        "                instance_intra_class =  X_train.iloc[[ i ]].copy()\n",
        "        \n",
        "        else: # distancia inter class \n",
        "            if (distance < distances[1]):\n",
        "                if (i == random_number):\n",
        "                    continue\n",
        "                distances[1] = distance\n",
        "                instance_inter_class = X_train.iloc[[ i ]].copy()\n",
        "\n",
        "    #print(\"(min distance intra class, min distance inter class): \", (distances[0], distances[1]))\n",
        "\n",
        "    update_weigh(random_sample, instance_intra_class, instance_inter_class, feature_weighs, distances, m)\n",
        "\n",
        "\n",
        "print(\"feature_weighs: \")\n",
        "print(feature_weighs)\n",
        "\n",
        "#k = int( len(non_categorial)/2)\n",
        "k = 5\n",
        "\n",
        "idx = np.argpartition(feature_weighs, -k)[-k:]\n",
        "indices = idx[np.argsort((-feature_weighs)[idx])]\n",
        "\n",
        "print(\"indices: \", indices)\n",
        "\n",
        "print()\n",
        "top_features = []\n",
        "for i in indices:\n",
        "    top_features.append( non_categorical_asteriod[i] )\n",
        "\n",
        "print(\"top features: \")\n",
        "print(top_features)\n",
        "\n",
        "# en el top se encuentra e (excentricidad) y per (perihelio).  Ambos correlacionados. "
      ],
      "execution_count": 42,
      "outputs": [
        {
          "output_type": "stream",
          "name": "stdout",
          "text": [
            "random sample category : ['IMB']\n",
            "random sample category : ['IMB']\n",
            "random sample category : ['ATE']\n",
            "random sample category : ['IMB']\n",
            "random sample category : ['CEN']\n",
            "random sample category : ['ATE']\n",
            "random sample category : ['CEN']\n",
            "random sample category : ['IMB']\n",
            "random sample category : ['MCA']\n",
            "random sample category : ['IMB']\n",
            "random sample category : ['ATE']\n",
            "random sample category : ['IMB']\n",
            "random sample category : ['IMB']\n",
            "random sample category : ['IMB']\n",
            "random sample category : ['MCA']\n",
            "random sample category : ['IMB']\n",
            "random sample category : ['IMB']\n",
            "random sample category : ['ATE']\n",
            "random sample category : ['IMB']\n",
            "random sample category : ['MCA']\n",
            "random sample category : ['IMB']\n",
            "random sample category : ['CEN']\n",
            "random sample category : ['ATE']\n",
            "random sample category : ['IMB']\n",
            "random sample category : ['ATE']\n",
            "random sample category : ['IMB']\n",
            "random sample category : ['MCA']\n",
            "random sample category : ['ATE']\n",
            "random sample category : ['MCA']\n",
            "random sample category : ['IMB']\n",
            "random sample category : ['IMB']\n",
            "random sample category : ['IMB']\n",
            "random sample category : ['MCA']\n",
            "random sample category : ['IMB']\n",
            "random sample category : ['IMB']\n",
            "random sample category : ['ATE']\n",
            "random sample category : ['IMB']\n",
            "random sample category : ['MCA']\n",
            "random sample category : ['ATE']\n",
            "random sample category : ['IMB']\n",
            "random sample category : ['MCA']\n",
            "random sample category : ['MCA']\n",
            "random sample category : ['IMB']\n",
            "random sample category : ['IMB']\n",
            "random sample category : ['IMB']\n",
            "random sample category : ['MCA']\n",
            "random sample category : ['CEN']\n",
            "random sample category : ['MCA']\n",
            "random sample category : ['IMB']\n",
            "random sample category : ['ATE']\n",
            "random sample category : ['MCA']\n",
            "random sample category : ['IMB']\n",
            "random sample category : ['IMB']\n",
            "random sample category : ['MCA']\n",
            "random sample category : ['IMB']\n",
            "random sample category : ['IMB']\n",
            "random sample category : ['IMB']\n",
            "random sample category : ['IMB']\n",
            "random sample category : ['MCA']\n",
            "random sample category : ['MCA']\n",
            "random sample category : ['MCA']\n",
            "random sample category : ['MCA']\n",
            "random sample category : ['ATE']\n",
            "random sample category : ['IMB']\n",
            "random sample category : ['IMB']\n",
            "random sample category : ['CEN']\n",
            "random sample category : ['IMB']\n",
            "random sample category : ['MCA']\n",
            "random sample category : ['MCA']\n",
            "random sample category : ['CEN']\n",
            "random sample category : ['MCA']\n",
            "random sample category : ['MCA']\n",
            "random sample category : ['MCA']\n",
            "random sample category : ['MCA']\n",
            "random sample category : ['IMB']\n",
            "random sample category : ['MCA']\n",
            "random sample category : ['IMB']\n",
            "random sample category : ['MCA']\n",
            "random sample category : ['IMB']\n",
            "random sample category : ['IMB']\n",
            "random sample category : ['IMB']\n",
            "random sample category : ['MCA']\n",
            "random sample category : ['IMB']\n",
            "random sample category : ['MCA']\n",
            "random sample category : ['ATE']\n",
            "random sample category : ['IMB']\n",
            "random sample category : ['MCA']\n",
            "random sample category : ['CEN']\n",
            "random sample category : ['MCA']\n",
            "random sample category : ['ATE']\n",
            "random sample category : ['IMB']\n",
            "random sample category : ['IMB']\n",
            "random sample category : ['IMB']\n",
            "random sample category : ['IMB']\n",
            "random sample category : ['MCA']\n",
            "random sample category : ['IMB']\n",
            "random sample category : ['IMB']\n",
            "random sample category : ['MCA']\n",
            "random sample category : ['MCA']\n",
            "random sample category : ['IMB']\n",
            "random sample category : ['IMB']\n",
            "random sample category : ['MCA']\n",
            "random sample category : ['IMB']\n",
            "random sample category : ['IMB']\n",
            "random sample category : ['IMB']\n",
            "random sample category : ['MCA']\n",
            "random sample category : ['MCA']\n",
            "random sample category : ['ATE']\n",
            "random sample category : ['IMB']\n",
            "random sample category : ['CEN']\n",
            "random sample category : ['IMB']\n",
            "random sample category : ['IMB']\n",
            "random sample category : ['MCA']\n",
            "random sample category : ['IMB']\n",
            "random sample category : ['IMB']\n",
            "random sample category : ['MCA']\n",
            "random sample category : ['IMB']\n",
            "random sample category : ['IMB']\n",
            "random sample category : ['MCA']\n",
            "random sample category : ['IMB']\n",
            "random sample category : ['MCA']\n",
            "random sample category : ['ATE']\n",
            "random sample category : ['IMB']\n",
            "random sample category : ['IMB']\n",
            "random sample category : ['IMB']\n",
            "random sample category : ['IMB']\n",
            "random sample category : ['IMB']\n",
            "random sample category : ['MCA']\n",
            "random sample category : ['ATE']\n",
            "random sample category : ['IMB']\n",
            "random sample category : ['IMB']\n",
            "random sample category : ['IMB']\n",
            "random sample category : ['MCA']\n",
            "random sample category : ['MCA']\n",
            "random sample category : ['IMB']\n",
            "random sample category : ['IMB']\n",
            "random sample category : ['IMB']\n",
            "random sample category : ['IMB']\n",
            "random sample category : ['IMB']\n",
            "random sample category : ['IMB']\n",
            "random sample category : ['IMB']\n",
            "random sample category : ['IMB']\n",
            "random sample category : ['IMB']\n",
            "random sample category : ['IMB']\n",
            "random sample category : ['IMB']\n",
            "random sample category : ['MCA']\n",
            "random sample category : ['IMB']\n",
            "random sample category : ['ATE']\n",
            "random sample category : ['IMB']\n",
            "random sample category : ['MCA']\n",
            "random sample category : ['MCA']\n",
            "random sample category : ['MCA']\n",
            "random sample category : ['CEN']\n",
            "random sample category : ['MCA']\n",
            "random sample category : ['MCA']\n",
            "random sample category : ['IMB']\n",
            "random sample category : ['IMB']\n",
            "random sample category : ['IMB']\n",
            "random sample category : ['MCA']\n",
            "random sample category : ['IMB']\n",
            "random sample category : ['CEN']\n",
            "random sample category : ['MCA']\n",
            "random sample category : ['MCA']\n",
            "random sample category : ['IMB']\n",
            "random sample category : ['CEN']\n",
            "random sample category : ['MCA']\n",
            "random sample category : ['ATE']\n",
            "random sample category : ['MCA']\n",
            "random sample category : ['MCA']\n",
            "random sample category : ['ATE']\n",
            "random sample category : ['IMB']\n",
            "random sample category : ['IMB']\n",
            "random sample category : ['MCA']\n",
            "random sample category : ['IMB']\n",
            "random sample category : ['CEN']\n",
            "random sample category : ['IMB']\n",
            "random sample category : ['MCA']\n",
            "random sample category : ['MCA']\n",
            "random sample category : ['MCA']\n",
            "random sample category : ['MCA']\n",
            "random sample category : ['IMB']\n",
            "random sample category : ['CEN']\n",
            "random sample category : ['MCA']\n",
            "random sample category : ['IMB']\n",
            "random sample category : ['IMB']\n",
            "random sample category : ['CEN']\n",
            "random sample category : ['MCA']\n",
            "random sample category : ['IMB']\n",
            "random sample category : ['IMB']\n",
            "random sample category : ['MCA']\n",
            "random sample category : ['IMB']\n",
            "random sample category : ['ATE']\n",
            "random sample category : ['IMB']\n",
            "random sample category : ['IMB']\n",
            "random sample category : ['IMB']\n",
            "random sample category : ['IMB']\n",
            "random sample category : ['MCA']\n",
            "random sample category : ['IMB']\n",
            "random sample category : ['MCA']\n",
            "random sample category : ['MCA']\n",
            "feature_weighs: \n",
            "[-0.02824638 -0.00203691  0.00764743  0.00057103  0.15502265  0.03793554\n",
            "  0.03393184 -0.02933532 -0.09973355 -0.06286427 -0.05609263  0.03897079\n",
            "  0.11034972  0.00629977  0.01694339  0.02074316  0.02074316  0.0155428\n",
            "  0.0155428  -0.00130309 -0.0011399  -0.00378516  0.00198506  0.00354687\n",
            "  0.00168372 -0.00046666 -0.00053018 -0.00043758 -0.00188513 -0.00065919\n",
            " -0.09361969]\n",
            "indices:  [ 4 12 11  5  6]\n",
            "\n",
            "top features: \n",
            "['e', 'n', 'ad', 'a', 'q']\n"
          ]
        }
      ]
    },
    {
      "cell_type": "code",
      "metadata": {
        "colab": {
          "base_uri": "https://localhost:8080/",
          "height": 719
        },
        "id": "nTKBYkMSJfAG",
        "outputId": "32890f9d-211c-4dc9-fddf-8806af43b89a"
      },
      "source": [
        "new_train = X_train[top_features]\n",
        "new_val = X_val[top_features]\n",
        "\n",
        "model = LogisticRegression(verbose=0, solver='liblinear', random_state=0, C=2, max_iter=20)  \n",
        "model.fit(new_train, y_train) \n",
        "\n",
        "prediccion1 = model.predict(new_val)\n",
        "\n",
        "print(\"Accuracy Validation: \", accuracy_score(y_val, prediccion1))\n",
        "print(\"F1 score Validation (micro): \", f1_score(y_val, prediccion1, average='micro'))\n",
        "\n",
        "print(\"\\nMatriz de confusión Modelo 1 sobre Validation\")\n",
        "fig, ax = plt.subplots(figsize=(10, 10))\n",
        "\n",
        "disp = plot_confusion_matrix(model, new_val, y_val, display_labels=model.classes_, cmap=plt.cm.Blues,normalize='all', ax = ax)\n",
        "disp.ax_.set_title(\"confusion val\")\n"
      ],
      "execution_count": 43,
      "outputs": [
        {
          "output_type": "stream",
          "name": "stdout",
          "text": [
            "Accuracy Validation:  0.9794520547945206\n",
            "F1 score Validation (micro):  0.9794520547945206\n",
            "\n",
            "Matriz de confusión Modelo 1 sobre Validation\n"
          ]
        },
        {
          "output_type": "stream",
          "name": "stderr",
          "text": [
            "/usr/local/lib/python3.7/dist-packages/sklearn/utils/deprecation.py:87: FutureWarning: Function plot_confusion_matrix is deprecated; Function `plot_confusion_matrix` is deprecated in 1.0 and will be removed in 1.2. Use one of the class methods: ConfusionMatrixDisplay.from_predictions or ConfusionMatrixDisplay.from_estimator.\n",
            "  warnings.warn(msg, category=FutureWarning)\n"
          ]
        },
        {
          "output_type": "execute_result",
          "data": {
            "text/plain": [
              "Text(0.5, 1.0, 'confusion val')"
            ]
          },
          "metadata": {},
          "execution_count": 43
        },
        {
          "output_type": "display_data",
          "data": {
            "image/png": "[encoded data removed]",
            "text/plain": [
              "<Figure size 720x720 with 2 Axes>"
            ]
          },
          "metadata": {
            "needs_background": "light"
          }
        }
      ]
    },
    {
      "cell_type": "markdown",
      "metadata": {
        "id": "JJpkBsuDXAw9"
      },
      "source": [
        "## Filtrado individual: Mutual Information"
      ]
    },
    {
      "cell_type": "code",
      "metadata": {
        "colab": {
          "base_uri": "https://localhost:8080/"
        },
        "id": "vxSs9bKXXBX_",
        "outputId": "7c4e23ec-e502-48f7-f936-96ba418dff6a"
      },
      "source": [
        "from sklearn.feature_selection import mutual_info_classif\n",
        "\n",
        "names_candidate_predictors = X_train.columns\n",
        "names_candidate_predictors\n",
        "\n",
        "k=len(X_train.columns)\n",
        "scores = mutual_info_classif(X_train, y_train, discrete_features=False, random_state=0 )\n",
        "\n",
        "print(scores)\n",
        "idx_imp = np.argsort(scores)\n",
        "\n",
        "names_features_MI = [names_candidate_predictors[idx] for idx in idx_imp[-k:]]\n",
        "names_features_MI.reverse()\n",
        "print(\"Atributos ordenados por importancia: \\n\")\n",
        "print(names_features_MI)\n"
      ],
      "execution_count": 44,
      "outputs": [
        {
          "output_type": "stream",
          "name": "stdout",
          "text": [
            "[0.33965977 0.37169747 0.29400884 0.48316981 0.69002681 0.98456469\n",
            " 1.05984261 0.20285121 0.02015557 0.02402854 0.07564185 0.97166165\n",
            " 0.98472449 0.37230939 0.35229896 0.98452603 0.98452603 0.76573224\n",
            " 0.76573224 0.29117235 0.49104131 0.29964752 0.26397459 0.26752234\n",
            " 0.23257185 0.41910681 0.5441701  0.31858496 0.36838753 0.5365595\n",
            " 0.02100735]\n",
            "Atributos ordenados por importancia: \n",
            "\n",
            "['q', 'n', 'a', 'per_y', 'per', 'ad', 'moid_ld', 'moid', 'e', 'sigma_ad', 'sigma_per', 'sigma_a', 'diameter_sigma', 'sigma_ma', 'tp', 'diameter', 'sigma_tp', 'tp_cal', 'H', 'sigma_n', 'sigma_q', 'albedo', 'sigma_e', 'sigma_om', 'sigma_i', 'sigma_w', 'i', 'ma', 'w', 'rms', 'om']\n"
          ]
        }
      ]
    },
    {
      "cell_type": "code",
      "metadata": {
        "colab": {
          "base_uri": "https://localhost:8080/",
          "height": 719
        },
        "id": "7vVPO0HeXZhB",
        "outputId": "5d1bc882-b392-4b8a-c332-8579a6b497d5"
      },
      "source": [
        "top_features = names_features_MI[:5]\n",
        "\n",
        "new_train = X_train[top_features]\n",
        "new_val = X_val[top_features]\n",
        "\n",
        "model = LogisticRegression(verbose=0, solver='liblinear', random_state=0, C=2, max_iter=20)  \n",
        "model.fit(new_train, y_train) \n",
        "\n",
        "prediccion1 = model.predict(new_val)\n",
        "\n",
        "print(\"Accuracy Validation: \", accuracy_score(y_val, prediccion1))\n",
        "print(\"F1 score Validation (micro): \", f1_score(y_val, prediccion1, average='micro'))\n",
        "\n",
        "print(\"\\nMatriz de confusión Modelo 1 sobre Validation\")\n",
        "fig, ax = plt.subplots(figsize=(10, 10))\n",
        "\n",
        "disp = plot_confusion_matrix(model, new_val, y_val, display_labels=model.classes_, cmap=plt.cm.Blues,normalize='all', ax = ax)\n",
        "disp.ax_.set_title(\"confusion val\")\n"
      ],
      "execution_count": 45,
      "outputs": [
        {
          "output_type": "stream",
          "name": "stdout",
          "text": [
            "Accuracy Validation:  0.9726027397260274\n",
            "F1 score Validation (micro):  0.9726027397260274\n",
            "\n",
            "Matriz de confusión Modelo 1 sobre Validation\n"
          ]
        },
        {
          "output_type": "stream",
          "name": "stderr",
          "text": [
            "/usr/local/lib/python3.7/dist-packages/sklearn/utils/deprecation.py:87: FutureWarning: Function plot_confusion_matrix is deprecated; Function `plot_confusion_matrix` is deprecated in 1.0 and will be removed in 1.2. Use one of the class methods: ConfusionMatrixDisplay.from_predictions or ConfusionMatrixDisplay.from_estimator.\n",
            "  warnings.warn(msg, category=FutureWarning)\n"
          ]
        },
        {
          "output_type": "execute_result",
          "data": {
            "text/plain": [
              "Text(0.5, 1.0, 'confusion val')"
            ]
          },
          "metadata": {},
          "execution_count": 45
        },
        {
          "output_type": "display_data",
          "data": {
            "image/png": "[encoded data removed]",
            "text/plain": [
              "<Figure size 720x720 with 2 Axes>"
            ]
          },
          "metadata": {
            "needs_background": "light"
          }
        }
      ]
    },
    {
      "cell_type": "code",
      "metadata": {
        "id": "2Fv1GtTKgU0c"
      },
      "source": [
        ""
      ],
      "execution_count": 45,
      "outputs": []
    }
  ]
}